{
 "cells": [
  {
   "cell_type": "code",
   "id": "initial_id",
   "metadata": {
    "collapsed": true,
    "ExecuteTime": {
     "end_time": "2025-07-16T06:33:28.383219Z",
     "start_time": "2025-07-16T06:33:28.380683Z"
    }
   },
   "source": [
    "import torch\n",
    "from torchvision import transforms\n",
    "from torchvision import datasets\n",
    "import matplotlib.pyplot as plt"
   ],
   "outputs": [],
   "execution_count": 18
  },
  {
   "metadata": {},
   "cell_type": "markdown",
   "source": "## Transformation",
   "id": "92085e03532691c2"
  },
  {
   "metadata": {
    "ExecuteTime": {
     "end_time": "2025-07-16T06:20:17.136463Z",
     "start_time": "2025-07-16T06:19:34.875592Z"
    }
   },
   "cell_type": "code",
   "source": [
    "data_path = 'data/ch7/'\n",
    "cifar10 = datasets.CIFAR10(data_path, train=True, download=True)\n",
    "cifar10_val = datasets.CIFAR10(data_path, train=False, download=True)"
   ],
   "id": "10f4ecc7ac016579",
   "outputs": [
    {
     "name": "stderr",
     "output_type": "stream",
     "text": [
      "100%|██████████| 170M/170M [00:38<00:00, 4.40MB/s] \n"
     ]
    }
   ],
   "execution_count": 2
  },
  {
   "metadata": {
    "ExecuteTime": {
     "end_time": "2025-07-16T06:20:34.065535Z",
     "start_time": "2025-07-16T06:20:34.059139Z"
    }
   },
   "cell_type": "code",
   "source": "type(cifar10_val).__mro__",
   "id": "f2b199fbd40663cf",
   "outputs": [
    {
     "data": {
      "text/plain": [
       "(torchvision.datasets.cifar.CIFAR10,\n",
       " torchvision.datasets.vision.VisionDataset,\n",
       " torch.utils.data.dataset.Dataset,\n",
       " typing.Generic,\n",
       " object)"
      ]
     },
     "execution_count": 3,
     "metadata": {},
     "output_type": "execute_result"
    }
   ],
   "execution_count": 3
  },
  {
   "metadata": {
    "ExecuteTime": {
     "end_time": "2025-07-16T06:22:32.005720Z",
     "start_time": "2025-07-16T06:22:32.002052Z"
    }
   },
   "cell_type": "code",
   "source": "len(cifar10)",
   "id": "e217a3565ff5813b",
   "outputs": [
    {
     "data": {
      "text/plain": [
       "50000"
      ]
     },
     "execution_count": 4,
     "metadata": {},
     "output_type": "execute_result"
    }
   ],
   "execution_count": 4
  },
  {
   "metadata": {
    "ExecuteTime": {
     "end_time": "2025-07-16T06:24:50.470779Z",
     "start_time": "2025-07-16T06:24:50.466275Z"
    }
   },
   "cell_type": "code",
   "source": [
    "class_names = ['airplane','automobile','bird','cat','deer',\n",
    "               'dog','frog','horse','ship','truck']\n",
    "\n",
    "img, label = cifar10[99]"
   ],
   "id": "2fa64e54057aff74",
   "outputs": [],
   "execution_count": 6
  },
  {
   "metadata": {
    "ExecuteTime": {
     "end_time": "2025-07-16T06:24:50.954629Z",
     "start_time": "2025-07-16T06:24:50.949175Z"
    }
   },
   "cell_type": "code",
   "source": "img, label, class_names[label]",
   "id": "7b4dd337add2e7fe",
   "outputs": [
    {
     "data": {
      "text/plain": [
       "(<PIL.Image.Image image mode=RGB size=32x32>, 1, 'automobile')"
      ]
     },
     "execution_count": 7,
     "metadata": {},
     "output_type": "execute_result"
    }
   ],
   "execution_count": 7
  },
  {
   "metadata": {
    "ExecuteTime": {
     "end_time": "2025-07-16T06:25:16.682097Z",
     "start_time": "2025-07-16T06:25:16.566909Z"
    }
   },
   "cell_type": "code",
   "source": "plt.imshow(img)",
   "id": "4f863368c88b7a6c",
   "outputs": [
    {
     "data": {
      "text/plain": [
       "<matplotlib.image.AxesImage at 0x7f6e45f5d0d0>"
      ]
     },
     "execution_count": 9,
     "metadata": {},
     "output_type": "execute_result"
    },
    {
     "data": {
      "text/plain": [
       "<Figure size 640x480 with 1 Axes>"
      ],
      "image/png": "[encoded data removed]"
     },
     "metadata": {},
     "output_type": "display_data"
    }
   ],
   "execution_count": 9
  },
  {
   "metadata": {
    "ExecuteTime": {
     "end_time": "2025-07-16T06:26:43.166424Z",
     "start_time": "2025-07-16T06:26:43.156890Z"
    }
   },
   "cell_type": "code",
   "source": "dir(transforms)",
   "id": "519d2ad8762a371",
   "outputs": [
    {
     "data": {
      "text/plain": [
       "['AugMix',\n",
       " 'AutoAugment',\n",
       " 'AutoAugmentPolicy',\n",
       " 'CenterCrop',\n",
       " 'ColorJitter',\n",
       " 'Compose',\n",
       " 'ConvertImageDtype',\n",
       " 'ElasticTransform',\n",
       " 'FiveCrop',\n",
       " 'GaussianBlur',\n",
       " 'Grayscale',\n",
       " 'InterpolationMode',\n",
       " 'Lambda',\n",
       " 'LinearTransformation',\n",
       " 'Normalize',\n",
       " 'PILToTensor',\n",
       " 'Pad',\n",
       " 'RandAugment',\n",
       " 'RandomAdjustSharpness',\n",
       " 'RandomAffine',\n",
       " 'RandomApply',\n",
       " 'RandomAutocontrast',\n",
       " 'RandomChoice',\n",
       " 'RandomCrop',\n",
       " 'RandomEqualize',\n",
       " 'RandomErasing',\n",
       " 'RandomGrayscale',\n",
       " 'RandomHorizontalFlip',\n",
       " 'RandomInvert',\n",
       " 'RandomOrder',\n",
       " 'RandomPerspective',\n",
       " 'RandomPosterize',\n",
       " 'RandomResizedCrop',\n",
       " 'RandomRotation',\n",
       " 'RandomSolarize',\n",
       " 'RandomVerticalFlip',\n",
       " 'Resize',\n",
       " 'TenCrop',\n",
       " 'ToPILImage',\n",
       " 'ToTensor',\n",
       " 'TrivialAugmentWide',\n",
       " '__builtins__',\n",
       " '__cached__',\n",
       " '__doc__',\n",
       " '__file__',\n",
       " '__loader__',\n",
       " '__name__',\n",
       " '__package__',\n",
       " '__path__',\n",
       " '__spec__',\n",
       " '_functional_pil',\n",
       " '_functional_tensor',\n",
       " '_presets',\n",
       " 'autoaugment',\n",
       " 'functional',\n",
       " 'transforms']"
      ]
     },
     "execution_count": 11,
     "metadata": {},
     "output_type": "execute_result"
    }
   ],
   "execution_count": 11
  },
  {
   "metadata": {
    "ExecuteTime": {
     "end_time": "2025-07-16T06:27:27.868311Z",
     "start_time": "2025-07-16T06:27:27.862416Z"
    }
   },
   "cell_type": "code",
   "source": [
    "to_tensor = transforms.ToTensor()\n",
    "img_t = to_tensor(img)\n",
    "img_t.shape"
   ],
   "id": "b9fc80371dfc21ac",
   "outputs": [
    {
     "data": {
      "text/plain": [
       "torch.Size([3, 32, 32])"
      ]
     },
     "execution_count": 12,
     "metadata": {},
     "output_type": "execute_result"
    }
   ],
   "execution_count": 12
  },
  {
   "metadata": {
    "ExecuteTime": {
     "end_time": "2025-07-16T06:29:08.356519Z",
     "start_time": "2025-07-16T06:29:08.039198Z"
    }
   },
   "cell_type": "code",
   "source": [
    "# We can pass transform directly to the dataset\n",
    "tensor_cifar10 = datasets.CIFAR10(data_path, train=True, download=False, transform=transforms.ToTensor())\n",
    "img_t, _ = tensor_cifar10[99]\n",
    "type(img_t)"
   ],
   "id": "65499e49d67e95ae",
   "outputs": [
    {
     "data": {
      "text/plain": [
       "torch.Tensor"
      ]
     },
     "execution_count": 14,
     "metadata": {},
     "output_type": "execute_result"
    }
   ],
   "execution_count": 14
  },
  {
   "metadata": {
    "ExecuteTime": {
     "end_time": "2025-07-16T06:29:13.829564Z",
     "start_time": "2025-07-16T06:29:13.825026Z"
    }
   },
   "cell_type": "code",
   "source": "img_t.shape, img_t.dtype",
   "id": "d6df3650f2e9eb6c",
   "outputs": [
    {
     "data": {
      "text/plain": [
       "(torch.Size([3, 32, 32]), torch.float32)"
      ]
     },
     "execution_count": 15,
     "metadata": {},
     "output_type": "execute_result"
    }
   ],
   "execution_count": 15
  },
  {
   "metadata": {
    "ExecuteTime": {
     "end_time": "2025-07-16T06:31:04.830857Z",
     "start_time": "2025-07-16T06:31:04.825564Z"
    }
   },
   "cell_type": "code",
   "source": [
    "# ToTensor() also scales value to between 0 and 1\n",
    "img_t.min(), img_t.max()"
   ],
   "id": "a37bf5140485b315",
   "outputs": [
    {
     "data": {
      "text/plain": [
       "(tensor(0.), tensor(1.))"
      ]
     },
     "execution_count": 16,
     "metadata": {},
     "output_type": "execute_result"
    }
   ],
   "execution_count": 16
  },
  {
   "metadata": {
    "ExecuteTime": {
     "end_time": "2025-07-16T06:31:18.936720Z",
     "start_time": "2025-07-16T06:31:18.821987Z"
    }
   },
   "cell_type": "code",
   "source": "plt.imshow(img_t.permute(1, 2, 0))",
   "id": "90c7631c5dc0e696",
   "outputs": [
    {
     "data": {
      "text/plain": [
       "<matplotlib.image.AxesImage at 0x7f6e45dd2cf0>"
      ]
     },
     "execution_count": 17,
     "metadata": {},
     "output_type": "execute_result"
    },
    {
     "data": {
      "text/plain": [
       "<Figure size 640x480 with 1 Axes>"
      ],
      "image/png": "[encoded data removed]"
     },
     "metadata": {},
     "output_type": "display_data"
    }
   ],
   "execution_count": 17
  },
  {
   "metadata": {
    "ExecuteTime": {
     "end_time": "2025-07-16T06:33:59.040744Z",
     "start_time": "2025-07-16T06:33:53.711314Z"
    }
   },
   "cell_type": "code",
   "source": [
    "imgs = torch.stack([img_t for img_t, _ in tensor_cifar10], dim=3)\n",
    "imgs.shape"
   ],
   "id": "a43a71d6785d535a",
   "outputs": [
    {
     "data": {
      "text/plain": [
       "torch.Size([3, 32, 32, 50000])"
      ]
     },
     "execution_count": 19,
     "metadata": {},
     "output_type": "execute_result"
    }
   ],
   "execution_count": 19
  },
  {
   "metadata": {
    "ExecuteTime": {
     "end_time": "2025-07-16T06:35:46.600720Z",
     "start_time": "2025-07-16T06:35:46.275518Z"
    }
   },
   "cell_type": "code",
   "source": [
    "# Calculate mean and std across all channels\n",
    "mean = imgs.view(3, -1).mean(dim=1)\n",
    "std = imgs.view(3, -1).std(dim=1)"
   ],
   "id": "3163998992376000",
   "outputs": [],
   "execution_count": 21
  },
  {
   "metadata": {
    "ExecuteTime": {
     "end_time": "2025-07-16T06:37:05.032475Z",
     "start_time": "2025-07-16T06:37:04.715506Z"
    }
   },
   "cell_type": "code",
   "source": [
    "tensor_cifar10 = datasets.CIFAR10(\n",
    "    data_path, train=True, download=False,\n",
    "    transform=transforms.Compose([\n",
    "        transforms.ToTensor(),\n",
    "        transforms.Normalize(mean, std)\n",
    "    ])\n",
    ")"
   ],
   "id": "eecb07316aa6376a",
   "outputs": [],
   "execution_count": 22
  },
  {
   "metadata": {
    "ExecuteTime": {
     "end_time": "2025-07-16T06:37:28.016422Z",
     "start_time": "2025-07-16T06:37:27.928876Z"
    }
   },
   "cell_type": "code",
   "source": [
    "img_t, _ = tensor_cifar10[99]\n",
    "plt.imshow(img_t.permute(1, 2, 0))"
   ],
   "id": "3a41abfabec551b3",
   "outputs": [
    {
     "name": "stderr",
     "output_type": "stream",
     "text": [
      "Clipping input data to the valid range for imshow with RGB data ([0..1] for floats or [0..255] for integers). Got range [-1.9802377..2.1267893].\n"
     ]
    },
    {
     "data": {
      "text/plain": [
       "<matplotlib.image.AxesImage at 0x7f6f6840af90>"
      ]
     },
     "execution_count": 23,
     "metadata": {},
     "output_type": "execute_result"
    },
    {
     "data": {
      "text/plain": [
       "<Figure size 640x480 with 1 Axes>"
      ],
      "image/png": "[encoded data removed]"
     },
     "metadata": {},
     "output_type": "display_data"
    }
   ],
   "execution_count": 23
  },
  {
   "metadata": {},
   "cell_type": "markdown",
   "source": "## Cifar2",
   "id": "3f063a2696071cca"
  },
  {
   "metadata": {
    "ExecuteTime": {
     "end_time": "2025-07-16T08:13:19.405333Z",
     "start_time": "2025-07-16T08:13:19.402723Z"
    }
   },
   "cell_type": "code",
   "source": "import torch.nn as nn",
   "id": "ad990f6a4bd43fe7",
   "outputs": [],
   "execution_count": 121
  },
  {
   "metadata": {
    "ExecuteTime": {
     "end_time": "2025-07-16T08:14:37.944693Z",
     "start_time": "2025-07-16T08:14:37.359607Z"
    }
   },
   "cell_type": "code",
   "source": [
    "cifar10 = datasets.CIFAR10(\n",
    "    data_path, train=True, download=False,\n",
    "    transform=transforms.Compose([\n",
    "        transforms.ToTensor(),\n",
    "        transforms.Normalize(mean, std)\n",
    "    ])\n",
    ")\n",
    "\n",
    "cifar10_val = datasets.CIFAR10(\n",
    "    data_path, train=False, download=False,\n",
    "    transform=transforms.Compose([\n",
    "        transforms.ToTensor(),\n",
    "        transforms.Normalize(mean, std)\n",
    "    ])\n",
    ")"
   ],
   "id": "14a2b197bc99ac36",
   "outputs": [],
   "execution_count": 124
  },
  {
   "metadata": {
    "ExecuteTime": {
     "end_time": "2025-07-16T08:14:46.719243Z",
     "start_time": "2025-07-16T08:14:37.948067Z"
    }
   },
   "cell_type": "code",
   "source": [
    "label_map = {0: 0, 2: 1}\n",
    "class_names = ['airplane', 'bird']\n",
    "cifar2 = [(img, label_map[label]) for img, label in cifar10 if label in [0, 2]]\n",
    "cifar2_val = [(img, label_map[label]) for img, label in cifar10_val if label in [0, 2]]"
   ],
   "id": "af438cc6b6dd990b",
   "outputs": [],
   "execution_count": 125
  },
  {
   "metadata": {},
   "cell_type": "code",
   "outputs": [],
   "execution_count": null,
   "source": [
    "# Define model\n",
    "n_out = 2       # Number of classification classes\n",
    "seq_model = nn.Sequential(\n",
    "    nn.Linear(3072, 512),\n",
    "    nn.Tanh(),\n",
    "    nn.Linear(512, n_out)\n",
    ")"
   ],
   "id": "7a388a238619d74f"
  },
  {
   "metadata": {
    "ExecuteTime": {
     "end_time": "2025-07-16T07:02:23.116646Z",
     "start_time": "2025-07-16T07:02:23.110170Z"
    }
   },
   "cell_type": "code",
   "source": [
    "def softmax(t):\n",
    "    return torch.exp(t) / torch.exp(t).sum()\n",
    "\n",
    "x = torch.tensor([1.0, 2.0, 3.0])\n",
    "softmax(x)"
   ],
   "id": "1c75ab39e0857112",
   "outputs": [
    {
     "data": {
      "text/plain": [
       "tensor([0.0900, 0.2447, 0.6652])"
      ]
     },
     "execution_count": 38,
     "metadata": {},
     "output_type": "execute_result"
    }
   ],
   "execution_count": 38
  },
  {
   "metadata": {
    "ExecuteTime": {
     "end_time": "2025-07-16T07:02:23.434701Z",
     "start_time": "2025-07-16T07:02:23.429757Z"
    }
   },
   "cell_type": "code",
   "source": "softmax(x).sum()",
   "id": "7b979c7d4dda6c7",
   "outputs": [
    {
     "data": {
      "text/plain": [
       "tensor(1.)"
      ]
     },
     "execution_count": 39,
     "metadata": {},
     "output_type": "execute_result"
    }
   ],
   "execution_count": 39
  },
  {
   "metadata": {
    "ExecuteTime": {
     "end_time": "2025-07-16T07:03:07.390900Z",
     "start_time": "2025-07-16T07:03:07.384626Z"
    }
   },
   "cell_type": "code",
   "source": [
    "softmax = nn.Softmax(dim=1)\n",
    "x = torch.tensor([[1.0, 2.0, 3.0], [1.0, 2.0, 3.0]])\n",
    "softmax(x)"
   ],
   "id": "eda708bc027d3176",
   "outputs": [
    {
     "data": {
      "text/plain": [
       "tensor([[0.0900, 0.2447, 0.6652],\n",
       "        [0.0900, 0.2447, 0.6652]])"
      ]
     },
     "execution_count": 40,
     "metadata": {},
     "output_type": "execute_result"
    }
   ],
   "execution_count": 40
  },
  {
   "metadata": {
    "ExecuteTime": {
     "end_time": "2025-07-16T07:07:30.515484Z",
     "start_time": "2025-07-16T07:07:30.503598Z"
    }
   },
   "cell_type": "code",
   "source": [
    "sm_model = nn.Sequential(\n",
    "    nn.Linear(3072, 512),\n",
    "    nn.Tanh(),\n",
    "    nn.Linear(512, 2),\n",
    "    nn.Softmax(dim=1)\n",
    ")"
   ],
   "id": "9b60c016aba08898",
   "outputs": [],
   "execution_count": 41
  },
  {
   "metadata": {
    "ExecuteTime": {
     "end_time": "2025-07-16T07:08:09.082205Z",
     "start_time": "2025-07-16T07:08:09.005358Z"
    }
   },
   "cell_type": "code",
   "source": [
    "img, _ = cifar2[0]\n",
    "plt.imshow(img.permute(1, 2, 0))\n",
    "plt.show()"
   ],
   "id": "346b7a82f7011186",
   "outputs": [
    {
     "name": "stderr",
     "output_type": "stream",
     "text": [
      "Clipping input data to the valid range for imshow with RGB data ([0..1] for floats or [0..255] for integers). Got range [-1.8622148..2.0301533].\n"
     ]
    },
    {
     "data": {
      "text/plain": [
       "<Figure size 640x480 with 1 Axes>"
      ],
      "image/png": "[encoded data removed]"
     },
     "metadata": {},
     "output_type": "display_data"
    }
   ],
   "execution_count": 43
  },
  {
   "metadata": {
    "ExecuteTime": {
     "end_time": "2025-07-16T07:09:39.825216Z",
     "start_time": "2025-07-16T07:09:39.819655Z"
    }
   },
   "cell_type": "code",
   "source": [
    "img_batch = img.view(-1).unsqueeze(0)\n",
    "out = sm_model(img_batch)\n",
    "out.detach().numpy()"
   ],
   "id": "e78043d29442242c",
   "outputs": [
    {
     "data": {
      "text/plain": [
       "array([[0.5156103 , 0.48438972]], dtype=float32)"
      ]
     },
     "execution_count": 45,
     "metadata": {},
     "output_type": "execute_result"
    }
   ],
   "execution_count": 45
  },
  {
   "metadata": {
    "ExecuteTime": {
     "end_time": "2025-07-16T07:12:05.629852Z",
     "start_time": "2025-07-16T07:12:05.625331Z"
    }
   },
   "cell_type": "code",
   "source": [
    "_, max_index = out.max(dim=1)\n",
    "max_index"
   ],
   "id": "c19c3e8354f614fb",
   "outputs": [
    {
     "data": {
      "text/plain": [
       "tensor([0])"
      ]
     },
     "execution_count": 47,
     "metadata": {},
     "output_type": "execute_result"
    }
   ],
   "execution_count": 47
  },
  {
   "metadata": {
    "ExecuteTime": {
     "end_time": "2025-07-16T07:23:25.190546Z",
     "start_time": "2025-07-16T07:23:25.171751Z"
    }
   },
   "cell_type": "code",
   "source": [
    "log_sm_model = nn.Sequential(\n",
    "    nn.Linear(3072, 512),\n",
    "    nn.Tanh(),\n",
    "    nn.Linear(512, 2),\n",
    "    nn.LogSoftmax(dim=1)\n",
    ")"
   ],
   "id": "37b8696f0e01b3ff",
   "outputs": [],
   "execution_count": 48
  },
  {
   "metadata": {
    "ExecuteTime": {
     "end_time": "2025-07-16T07:24:03.182050Z",
     "start_time": "2025-07-16T07:24:03.178660Z"
    }
   },
   "cell_type": "code",
   "source": "nll_loss = nn.NLLLoss()     # Takes in output for one sample and class indices",
   "id": "49d3670af0ef4639",
   "outputs": [],
   "execution_count": 49
  },
  {
   "metadata": {
    "ExecuteTime": {
     "end_time": "2025-07-16T07:24:54.526694Z",
     "start_time": "2025-07-16T07:24:54.521195Z"
    }
   },
   "cell_type": "code",
   "source": [
    "img, label = cifar2[0]\n",
    "out = log_sm_model(img.view(-1).unsqueeze(0))\n",
    "nll_loss(out, torch.tensor([label]))"
   ],
   "id": "1a3b9ccc20d78400",
   "outputs": [
    {
     "data": {
      "text/plain": [
       "tensor(0.5246, grad_fn=<NllLossBackward0>)"
      ]
     },
     "execution_count": 50,
     "metadata": {},
     "output_type": "execute_result"
    }
   ],
   "execution_count": 50
  },
  {
   "metadata": {},
   "cell_type": "markdown",
   "source": "## Training",
   "id": "ce68987d864180cb"
  },
  {
   "metadata": {
    "ExecuteTime": {
     "end_time": "2025-07-16T08:25:35.959554Z",
     "start_time": "2025-07-16T08:25:35.956251Z"
    }
   },
   "cell_type": "code",
   "source": [
    "import torch\n",
    "import torch.nn as nn\n",
    "import torch.optim as optim\n",
    "\n",
    "from tqdm import tqdm"
   ],
   "id": "aff51a5a3af1f391",
   "outputs": [],
   "execution_count": 133
  },
  {
   "metadata": {
    "ExecuteTime": {
     "end_time": "2025-07-16T08:14:46.870693Z",
     "start_time": "2025-07-16T08:14:46.861536Z"
    }
   },
   "cell_type": "code",
   "source": [
    "log_model = nn.Sequential(\n",
    "    nn.Linear(3072, 256),\n",
    "    nn.Tanh(),\n",
    "    nn.Linear(256, 2),\n",
    "    nn.LogSoftmax(dim=1)\n",
    ")\n",
    "log_model = log_model.to('cuda')"
   ],
   "id": "2a75c1a97cf99b2c",
   "outputs": [],
   "execution_count": 127
  },
  {
   "metadata": {
    "ExecuteTime": {
     "end_time": "2025-07-16T08:25:41.448955Z",
     "start_time": "2025-07-16T08:25:41.445815Z"
    }
   },
   "cell_type": "code",
   "source": [
    "learning_rate = 1e-2\n",
    "optimizer_sgd = optim.SGD(log_model.parameters(), learning_rate)\n",
    "nll_loss = nn.NLLLoss()"
   ],
   "id": "5ab4693988ed76cc",
   "outputs": [],
   "execution_count": 134
  },
  {
   "metadata": {
    "ExecuteTime": {
     "end_time": "2025-07-16T08:25:43.166160Z",
     "start_time": "2025-07-16T08:25:43.162818Z"
    }
   },
   "cell_type": "code",
   "source": [
    "train_loader = torch.utils.data.DataLoader(cifar2, batch_size=64, shuffle=True)\n",
    "val_loader = torch.utils.data.DataLoader(cifar2_val, batch_size=64, shuffle=False)"
   ],
   "id": "f0c2686e25b732a4",
   "outputs": [],
   "execution_count": 135
  },
  {
   "metadata": {
    "ExecuteTime": {
     "end_time": "2025-07-16T09:12:37.628064Z",
     "start_time": "2025-07-16T09:12:37.622845Z"
    }
   },
   "cell_type": "code",
   "source": [
    "n_epochs = 100\n",
    "def train(epochs, model, loss, optimizer, loader):\n",
    "    for _ in tqdm(range(epochs), position=0, leave=True):\n",
    "        for images, labels in loader:\n",
    "            batch_count = images.shape[0]\n",
    "            images = images.to('cuda')\n",
    "            labels = labels.to('cuda')\n",
    "            outputs = model(images.view(batch_count, -1))\n",
    "            train_loss = loss(outputs, labels)\n",
    "\n",
    "            optimizer.zero_grad()\n",
    "            train_loss.backward()\n",
    "            optimizer.step()\n",
    "\n",
    "def evaluate(model, loader):\n",
    "    correct = 0\n",
    "    total = 0\n",
    "    with torch.no_grad():\n",
    "        for images, labels in loader:\n",
    "            batch_size = images.shape[0]\n",
    "            images = images.to('cuda')\n",
    "            labels = labels.to('cuda')\n",
    "\n",
    "            outputs = model(images.view(batch_size, -1))      # For each sample, the output contains 1 element per class (2 classes)\n",
    "\n",
    "            _, predicted = torch.max(outputs, dim=1)   # Get the predicted class (output with maximum value)\n",
    "\n",
    "            correct_batch = (predicted == labels)\n",
    "            correct += int(correct_batch.sum())\n",
    "            total += labels.shape[0]\n",
    "\n",
    "    print(f'Accuracy: {correct / total}')"
   ],
   "id": "f564ec22968e114d",
   "outputs": [],
   "execution_count": 211
  },
  {
   "metadata": {
    "ExecuteTime": {
     "end_time": "2025-07-16T08:29:28.944600Z",
     "start_time": "2025-07-16T08:29:09.508995Z"
    }
   },
   "cell_type": "code",
   "source": [
    "train(n_epochs, log_model, nll_loss, optimizer_sgd, train_loader)\n",
    "evaluate(log_model, val_loader)"
   ],
   "id": "d8c461eec5097828",
   "outputs": [
    {
     "name": "stderr",
     "output_type": "stream",
     "text": [
      "100%|██████████| 100/100 [00:19<00:00,  5.16it/s]"
     ]
    },
    {
     "name": "stdout",
     "output_type": "stream",
     "text": [
      "Accuracy: 0.819\n"
     ]
    },
    {
     "name": "stderr",
     "output_type": "stream",
     "text": [
      "\n"
     ]
    }
   ],
   "execution_count": 140
  },
  {
   "metadata": {
    "ExecuteTime": {
     "end_time": "2025-07-16T08:29:54.689228Z",
     "start_time": "2025-07-16T08:29:54.665123Z"
    }
   },
   "cell_type": "code",
   "source": [
    "# New model\n",
    "taper_model = nn.Sequential(\n",
    "    nn.Linear(3072, 1024),\n",
    "    nn.Tanh(),\n",
    "    nn.Linear(1024, 512),\n",
    "    nn.Tanh(),\n",
    "    nn.Linear(512, 128),\n",
    "    nn.Tanh(),\n",
    "    nn.Linear(128, 2),\n",
    "    nn.LogSoftmax(dim=1)\n",
    ")\n",
    "taper_model = taper_model.to('cuda')"
   ],
   "id": "1e00942f91d11464",
   "outputs": [],
   "execution_count": 143
  },
  {
   "metadata": {
    "ExecuteTime": {
     "end_time": "2025-07-16T08:30:22.515715Z",
     "start_time": "2025-07-16T08:29:55.059287Z"
    }
   },
   "cell_type": "code",
   "source": [
    "optimizer_taper = optim.SGD(taper_model.parameters(), learning_rate)\n",
    "train(n_epochs, taper_model, nll_loss, optimizer_taper, train_loader)\n",
    "evaluate(taper_model, val_loader)"
   ],
   "id": "acfef5e7ee573f8d",
   "outputs": [
    {
     "name": "stderr",
     "output_type": "stream",
     "text": [
      "100%|██████████| 100/100 [00:27<00:00,  3.65it/s]"
     ]
    },
    {
     "name": "stdout",
     "output_type": "stream",
     "text": [
      "Accuracy: 0.8145\n"
     ]
    },
    {
     "name": "stderr",
     "output_type": "stream",
     "text": [
      "\n"
     ]
    }
   ],
   "execution_count": 144
  },
  {
   "metadata": {
    "ExecuteTime": {
     "end_time": "2025-07-16T08:41:08.742157Z",
     "start_time": "2025-07-16T08:41:08.716573Z"
    }
   },
   "cell_type": "code",
   "source": [
    "# LogSoftmax + NLL is mathematically equivalent to CrossEntropyLoss on the direct outputs of the model with no LogSoftmax\n",
    "# This is more convenient, as the loss numbers are exactly the same,\n",
    "# but the output of the model is not interpreted as probabilities anymore\n",
    "no_log_sm_model = nn.Sequential(\n",
    "    nn.Linear(3072, 1024),\n",
    "    nn.Tanh(),\n",
    "    nn.Linear(1024, 512),\n",
    "    nn.Tanh(),\n",
    "    nn.Linear(512, 128),\n",
    "    nn.Tanh(),\n",
    "    nn.Linear(128, 2),\n",
    ")\n",
    "no_log_sm_model = no_log_sm_model.to('cuda')\n",
    "ce_loss = nn.CrossEntropyLoss()"
   ],
   "id": "a111d3fae710fe21",
   "outputs": [],
   "execution_count": 151
  },
  {
   "metadata": {
    "ExecuteTime": {
     "end_time": "2025-07-16T08:41:40.314163Z",
     "start_time": "2025-07-16T08:41:12.504408Z"
    }
   },
   "cell_type": "code",
   "source": [
    "optimizer_no_log_sm = optim.SGD(no_log_sm_model.parameters(), learning_rate)\n",
    "train(n_epochs, no_log_sm_model, ce_loss, optimizer_no_log_sm, train_loader)\n",
    "evaluate(no_log_sm_model, val_loader)"
   ],
   "id": "ba9fdc0f1d7e249f",
   "outputs": [
    {
     "name": "stderr",
     "output_type": "stream",
     "text": [
      "100%|██████████| 100/100 [00:27<00:00,  3.60it/s]"
     ]
    },
    {
     "name": "stdout",
     "output_type": "stream",
     "text": [
      "Accuracy: 0.808\n"
     ]
    },
    {
     "name": "stderr",
     "output_type": "stream",
     "text": [
      "\n"
     ]
    }
   ],
   "execution_count": 152
  },
  {
   "metadata": {
    "ExecuteTime": {
     "end_time": "2025-07-16T08:41:40.481866Z",
     "start_time": "2025-07-16T08:41:40.333251Z"
    }
   },
   "cell_type": "code",
   "source": [
    "# The model is highly overfitting\n",
    "evaluate(no_log_sm_model, train_loader)"
   ],
   "id": "211015fa185487a",
   "outputs": [
    {
     "name": "stdout",
     "output_type": "stream",
     "text": [
      "Accuracy: 1.0\n"
     ]
    }
   ],
   "execution_count": 153
  },
  {
   "metadata": {
    "ExecuteTime": {
     "end_time": "2025-07-16T08:43:24.056387Z",
     "start_time": "2025-07-16T08:43:24.052263Z"
    }
   },
   "cell_type": "code",
   "source": [
    "# Parameter count\n",
    "numel_list = [p.numel() for p in no_log_sm_model.parameters() if p.requires_grad == True]\n",
    "sum(numel_list), numel_list"
   ],
   "id": "2f3969c0eee03de7",
   "outputs": [
    {
     "data": {
      "text/plain": [
       "(3737474, [3145728, 1024, 524288, 512, 65536, 128, 256, 2])"
      ]
     },
     "execution_count": 154,
     "metadata": {},
     "output_type": "execute_result"
    }
   ],
   "execution_count": 154
  },
  {
   "metadata": {},
   "cell_type": "markdown",
   "source": [
    "## Exercises\n",
    "\n",
    "### Exercise 1\n",
    "\n",
    "Use `torchvision` to implement random cropping of the data."
   ],
   "id": "8f479ac45b21152d"
  },
  {
   "metadata": {
    "ExecuteTime": {
     "end_time": "2025-07-16T08:58:27.837881Z",
     "start_time": "2025-07-16T08:58:27.505488Z"
    }
   },
   "cell_type": "code",
   "source": [
    "cifar10 = datasets.CIFAR10(\n",
    "    data_path, train=True, download=False,\n",
    "    transform=transforms.Compose([\n",
    "        transforms.RandomCrop((17, 20)),\n",
    "        transforms.ToTensor(),\n",
    "    ])\n",
    ")"
   ],
   "id": "9fe91f0293911d1f",
   "outputs": [],
   "execution_count": 172
  },
  {
   "metadata": {
    "ExecuteTime": {
     "end_time": "2025-07-16T09:01:50.117257Z",
     "start_time": "2025-07-16T09:01:50.111846Z"
    }
   },
   "cell_type": "code",
   "source": [
    "cropped_image, _ = cifar10[400]\n",
    "cropped_image.shape"
   ],
   "id": "f6cca1d75437c05f",
   "outputs": [
    {
     "data": {
      "text/plain": [
       "torch.Size([3, 17, 20])"
      ]
     },
     "execution_count": 195,
     "metadata": {},
     "output_type": "execute_result"
    }
   ],
   "execution_count": 195
  },
  {
   "metadata": {
    "ExecuteTime": {
     "end_time": "2025-07-16T09:01:50.534105Z",
     "start_time": "2025-07-16T09:01:50.407721Z"
    }
   },
   "cell_type": "code",
   "source": "plt.imshow(cropped_image.permute(1, 2, 0))",
   "id": "96fe5b04d63970f7",
   "outputs": [
    {
     "data": {
      "text/plain": [
       "<matplotlib.image.AxesImage at 0x7f6e3033b020>"
      ]
     },
     "execution_count": 196,
     "metadata": {},
     "output_type": "execute_result"
    },
    {
     "data": {
      "text/plain": [
       "<Figure size 640x480 with 1 Axes>"
      ],
      "image/png": "[encoded data removed]"
     },
     "metadata": {},
     "output_type": "display_data"
    }
   ],
   "execution_count": 196
  },
  {
   "metadata": {},
   "cell_type": "markdown",
   "source": [
    "a) The images are randomly cropped to fit the size specified in the size parameter of the class `RandomCrop`.\n",
    "\n",
    "b) When requesting the image again, it randomly crops again."
   ],
   "id": "cc710e538681dea9"
  },
  {
   "metadata": {
    "ExecuteTime": {
     "end_time": "2025-07-16T09:02:29.122529Z",
     "start_time": "2025-07-16T09:02:28.544608Z"
    }
   },
   "cell_type": "code",
   "source": [
    "cifar10 = datasets.CIFAR10(\n",
    "    data_path, train=True, download=False,\n",
    "    transform=transforms.Compose([\n",
    "        transforms.RandomCrop((17, 20)),\n",
    "        transforms.ToTensor(),\n",
    "        transforms.Normalize(mean, std)\n",
    "    ])\n",
    ")\n",
    "\n",
    "cifar10_val = datasets.CIFAR10(\n",
    "    data_path, train=False, download=False,\n",
    "    transform=transforms.Compose([\n",
    "        transforms.RandomCrop((17, 20)),\n",
    "        transforms.ToTensor(),\n",
    "        transforms.Normalize(mean, std)\n",
    "    ])\n",
    ")"
   ],
   "id": "3dcf936e926af0b3",
   "outputs": [],
   "execution_count": 197
  },
  {
   "metadata": {
    "ExecuteTime": {
     "end_time": "2025-07-16T09:17:28.230513Z",
     "start_time": "2025-07-16T09:17:17.480257Z"
    }
   },
   "cell_type": "code",
   "source": [
    "label_map = {0: 0, 2: 1}\n",
    "cifar2 = [(img, label_map[label]) for img, label in cifar10 if label in [0, 2]]\n",
    "cifar2_val = [(img, label_map[label]) for img, label in cifar10_val if label in [0, 2]]"
   ],
   "id": "17ebc4e43cb3d819",
   "outputs": [],
   "execution_count": 227
  },
  {
   "metadata": {
    "ExecuteTime": {
     "end_time": "2025-07-16T09:17:28.238411Z",
     "start_time": "2025-07-16T09:17:28.233859Z"
    }
   },
   "cell_type": "code",
   "source": [
    "train_loader = torch.utils.data.DataLoader(cifar2, batch_size=64, shuffle=True)\n",
    "val_loader = torch.utils.data.DataLoader(cifar2_val, batch_size=64, shuffle=False)"
   ],
   "id": "85a2a75763c1daee",
   "outputs": [],
   "execution_count": 228
  },
  {
   "metadata": {
    "ExecuteTime": {
     "end_time": "2025-07-16T09:17:28.313298Z",
     "start_time": "2025-07-16T09:17:28.307266Z"
    }
   },
   "cell_type": "code",
   "source": [
    "no_log_sm_model = nn.Sequential(\n",
    "    nn.Linear(1020, 512),\n",
    "    nn.Tanh(),\n",
    "    nn.Linear(512, 128),\n",
    "    nn.Tanh(),\n",
    "    nn.Linear(128, 2),\n",
    ")\n",
    "no_log_sm_model = no_log_sm_model.to('cuda')\n",
    "ce_loss = nn.CrossEntropyLoss()"
   ],
   "id": "41321f498f7dd6d1",
   "outputs": [],
   "execution_count": 229
  },
  {
   "metadata": {
    "ExecuteTime": {
     "end_time": "2025-07-16T09:04:26.154167Z",
     "start_time": "2025-07-16T09:04:09.329086Z"
    }
   },
   "cell_type": "code",
   "source": [
    "optimizer_no_log_sm = optim.SGD(no_log_sm_model.parameters(), learning_rate)\n",
    "train(n_epochs, no_log_sm_model, ce_loss, optimizer_no_log_sm, train_loader)\n",
    "evaluate(no_log_sm_model, val_loader)\n",
    "evaluate(no_log_sm_model, train_loader)"
   ],
   "id": "a553bf5a6d564e62",
   "outputs": [
    {
     "name": "stderr",
     "output_type": "stream",
     "text": [
      "100%|██████████| 100/100 [00:16<00:00,  5.98it/s]\n"
     ]
    },
    {
     "name": "stdout",
     "output_type": "stream",
     "text": [
      "Accuracy: 0.752\n",
      "Accuracy: 0.9954\n"
     ]
    }
   ],
   "execution_count": 204
  },
  {
   "metadata": {},
   "cell_type": "markdown",
   "source": "c) Both the validation and training accuracies drop. But the model is still highly overfitting.",
   "id": "f1799907ac93c186"
  },
  {
   "metadata": {},
   "cell_type": "markdown",
   "source": [
    "### Exercise 2\n",
    "\n",
    "Switch loss functions. I will use `BCEWithLogitsLoss`."
   ],
   "id": "2888c2fc53a1b916"
  },
  {
   "metadata": {
    "ExecuteTime": {
     "end_time": "2025-07-16T09:28:40.244996Z",
     "start_time": "2025-07-16T09:28:29.234537Z"
    }
   },
   "cell_type": "code",
   "source": [
    "# Labels have to be float now\n",
    "label_map = {0: 0.0, 2: 1.0}\n",
    "cifar2 = [(img, label_map[label]) for img, label in cifar10 if label in [0, 2]]\n",
    "cifar2_val = [(img, label_map[label]) for img, label in cifar10_val if label in [0, 2]]\n",
    "\n",
    "train_loader = torch.utils.data.DataLoader(cifar2, batch_size=64, shuffle=True)\n",
    "val_loader = torch.utils.data.DataLoader(cifar2_val, batch_size=64, shuffle=False)"
   ],
   "id": "2e0b89e312a264f9",
   "outputs": [],
   "execution_count": 243
  },
  {
   "metadata": {
    "ExecuteTime": {
     "end_time": "2025-07-16T09:34:47.412313Z",
     "start_time": "2025-07-16T09:34:47.406469Z"
    }
   },
   "cell_type": "code",
   "source": [
    "n_epochs = 100\n",
    "def train_bce(epochs, model, loss, optimizer, loader):\n",
    "    for _ in tqdm(range(epochs), position=0, leave=True):\n",
    "        for images, labels in loader:\n",
    "            batch_count = images.shape[0]\n",
    "            images = images.to('cuda')\n",
    "            labels = labels.to('cuda')\n",
    "            outputs = model(images.view(batch_count, -1))\n",
    "            train_loss = loss(outputs, labels.unsqueeze(1))\n",
    "\n",
    "            optimizer.zero_grad()\n",
    "            train_loss.backward()\n",
    "            optimizer.step()\n",
    "\n",
    "def evaluate_bce(model, loader):\n",
    "    correct = 0\n",
    "    total = 0\n",
    "    with torch.no_grad():\n",
    "        for images, labels in loader:\n",
    "            batch_size = images.shape[0]\n",
    "            images = images.to('cuda')\n",
    "            labels = labels.to('cuda')\n",
    "\n",
    "            outputs = model(images.view(batch_size, -1))    # The outputs are direct logits\n",
    "\n",
    "            # To get the class from logits, apply sigmoid\n",
    "            probs = outputs.sigmoid()\n",
    "            predicted = (probs >= 0.5).int()\n",
    "            correct_batch = (predicted.view(-1) == labels)\n",
    "            correct += int(correct_batch.sum())\n",
    "            total += labels.shape[0]\n",
    "\n",
    "    print(f'Accuracy: {correct / total}')"
   ],
   "id": "eb6c36e270e8b393",
   "outputs": [],
   "execution_count": 264
  },
  {
   "metadata": {
    "ExecuteTime": {
     "end_time": "2025-07-16T09:29:53.169262Z",
     "start_time": "2025-07-16T09:29:53.162213Z"
    }
   },
   "cell_type": "code",
   "source": [
    "no_log_sm_model = nn.Sequential(\n",
    "    nn.Linear(1020, 512),\n",
    "    nn.Tanh(),\n",
    "    nn.Linear(512, 128),\n",
    "    nn.Tanh(),\n",
    "    nn.Linear(128, 1),\n",
    ")\n",
    "no_log_sm_model = no_log_sm_model.to('cuda')\n",
    "ce_loss = nn.BCEWithLogitsLoss()"
   ],
   "id": "7df7059b28b6390e",
   "outputs": [],
   "execution_count": 249
  },
  {
   "metadata": {
    "ExecuteTime": {
     "end_time": "2025-07-16T09:30:15.593741Z",
     "start_time": "2025-07-16T09:29:58.225124Z"
    }
   },
   "cell_type": "code",
   "source": [
    "optimizer_no_log_sm = optim.SGD(no_log_sm_model.parameters(), learning_rate)\n",
    "train_bce(n_epochs, no_log_sm_model, ce_loss, optimizer_no_log_sm, train_loader)"
   ],
   "id": "d2d70c81f1ca74b7",
   "outputs": [
    {
     "name": "stderr",
     "output_type": "stream",
     "text": [
      "100%|██████████| 100/100 [00:17<00:00,  5.76it/s]\n"
     ]
    }
   ],
   "execution_count": 250
  },
  {
   "metadata": {
    "ExecuteTime": {
     "end_time": "2025-07-16T09:34:49.972868Z",
     "start_time": "2025-07-16T09:34:49.856353Z"
    }
   },
   "cell_type": "code",
   "source": [
    "evaluate_bce(no_log_sm_model, val_loader)\n",
    "evaluate_bce(no_log_sm_model, train_loader)"
   ],
   "id": "b2a61656ae68ae30",
   "outputs": [
    {
     "name": "stdout",
     "output_type": "stream",
     "text": [
      "670\n",
      "2000\n",
      "Accuracy: 0.335\n",
      "4048\n",
      "10000\n",
      "Accuracy: 0.4048\n"
     ]
    }
   ],
   "execution_count": 265
  },
  {
   "metadata": {},
   "cell_type": "markdown",
   "source": "a) The model's accuracy is quite a lot lower than before",
   "id": "970838e487a8719d"
  },
  {
   "metadata": {},
   "cell_type": "markdown",
   "source": "### Exercise 3",
   "id": "1f81b893dc4f6b2c"
  },
  {
   "metadata": {
    "ExecuteTime": {
     "end_time": "2025-07-16T09:36:37.259216Z",
     "start_time": "2025-07-16T09:36:26.280119Z"
    }
   },
   "cell_type": "code",
   "source": [
    "label_map = {0: 0, 2: 1}\n",
    "cifar2 = [(img, label_map[label]) for img, label in cifar10 if label in [0, 2]]\n",
    "cifar2_val = [(img, label_map[label]) for img, label in cifar10_val if label in [0, 2]]\n",
    "\n",
    "train_loader = torch.utils.data.DataLoader(cifar2, batch_size=64, shuffle=True)\n",
    "val_loader = torch.utils.data.DataLoader(cifar2_val, batch_size=64, shuffle=False)"
   ],
   "id": "577cebe915e4ae0c",
   "outputs": [],
   "execution_count": 268
  },
  {
   "metadata": {
    "ExecuteTime": {
     "end_time": "2025-07-16T09:39:30.752013Z",
     "start_time": "2025-07-16T09:39:30.748380Z"
    }
   },
   "cell_type": "code",
   "source": [
    "no_log_sm_model = nn.Sequential(\n",
    "    nn.Linear(1020, 2),\n",
    ")\n",
    "no_log_sm_model = no_log_sm_model.to('cuda')\n",
    "ce_loss = nn.CrossEntropyLoss()"
   ],
   "id": "c0830c83124f257a",
   "outputs": [],
   "execution_count": 281
  },
  {
   "metadata": {
    "ExecuteTime": {
     "end_time": "2025-07-16T09:39:43.433242Z",
     "start_time": "2025-07-16T09:39:31.151722Z"
    }
   },
   "cell_type": "code",
   "source": [
    "optimizer_no_log_sm = optim.SGD(no_log_sm_model.parameters(), learning_rate)\n",
    "train(n_epochs, no_log_sm_model, ce_loss, optimizer_no_log_sm, train_loader)\n",
    "evaluate(no_log_sm_model, val_loader)\n",
    "evaluate(no_log_sm_model, train_loader)"
   ],
   "id": "b489682cc2f93df1",
   "outputs": [
    {
     "name": "stderr",
     "output_type": "stream",
     "text": [
      "100%|██████████| 100/100 [00:12<00:00,  8.21it/s]\n"
     ]
    },
    {
     "name": "stdout",
     "output_type": "stream",
     "text": [
      "Accuracy: 0.6015\n",
      "Accuracy: 0.6233\n"
     ]
    }
   ],
   "execution_count": 282
  },
  {
   "metadata": {},
   "cell_type": "markdown",
   "source": "c) The only configuration not overfitting seems to be having only a single layer with no activation function. The loss decreases drastically, however.",
   "id": "28de848ff86498e7"
  },
  {
   "metadata": {},
   "cell_type": "code",
   "outputs": [],
   "execution_count": null,
   "source": "",
   "id": "c25caaa63239eb56"
  }
 ],
 "metadata": {
  "kernelspec": {
   "display_name": "Python 3",
   "language": "python",
   "name": "python3"
  },
  "language_info": {
   "codemirror_mode": {
    "name": "ipython",
    "version": 2
   },
   "file_extension": ".py",
   "mimetype": "text/x-python",
   "name": "python",
   "nbconvert_exporter": "python",
   "pygments_lexer": "ipython2",
   "version": "2.7.6"
  }
 },
 "nbformat": 4,
 "nbformat_minor": 5
}
