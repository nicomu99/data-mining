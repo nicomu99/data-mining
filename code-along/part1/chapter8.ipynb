{
 "cells": [
  {
   "cell_type": "code",
   "id": "initial_id",
   "metadata": {
    "collapsed": true,
    "ExecuteTime": {
     "end_time": "2025-07-16T13:36:12.723593Z",
     "start_time": "2025-07-16T13:36:12.717238Z"
    }
   },
   "source": [
    "%matplotlib inline\n",
    "from matplotlib import pyplot as plt\n",
    "from tqdm import tqdm\n",
    "import datetime\n",
    "\n",
    "import torch\n",
    "import torch.nn as nn\n",
    "import torch.nn.functional as F\n",
    "import torch.optim as optim\n",
    "from torchvision import datasets, transforms\n",
    "\n",
    "torch.set_printoptions(edgeitems=2)\n",
    "torch.manual_seed(123)"
   ],
   "outputs": [
    {
     "data": {
      "text/plain": [
       "<torch._C.Generator at 0x7f70841519f0>"
      ]
     },
     "execution_count": 46,
     "metadata": {},
     "output_type": "execute_result"
    }
   ],
   "execution_count": 46
  },
  {
   "metadata": {
    "ExecuteTime": {
     "end_time": "2025-07-16T11:25:01.674674Z",
     "start_time": "2025-07-16T11:25:01.115083Z"
    }
   },
   "cell_type": "code",
   "source": [
    "data_path = 'data/ch7/'\n",
    "cifar10 = datasets.CIFAR10(\n",
    "    data_path, train=True, download=False,\n",
    "    transform=transforms.Compose([\n",
    "        transforms.ToTensor(),\n",
    "        transforms.Normalize(\n",
    "            (0.4915, 0.4823, 0.4468),\n",
    "                             (0.2470, 0.2435, 0.2616)\n",
    "        )\n",
    "    ])\n",
    ")\n",
    "\n",
    "cifar10_val = datasets.CIFAR10(\n",
    "    data_path, train=False, download=False,\n",
    "    transform=transforms.Compose([\n",
    "        transforms.ToTensor(),\n",
    "        transforms.Normalize(\n",
    "            (0.4915, 0.4823, 0.4468),\n",
    "            (0.2470, 0.2435, 0.2616)\n",
    "        )\n",
    "    ])\n",
    ")"
   ],
   "id": "7f1a0fa6fc6f5f34",
   "outputs": [],
   "execution_count": 7
  },
  {
   "metadata": {
    "ExecuteTime": {
     "end_time": "2025-07-16T11:25:13.050518Z",
     "start_time": "2025-07-16T11:25:04.180549Z"
    }
   },
   "cell_type": "code",
   "source": [
    "label_map = {0: 0, 2: 1}\n",
    "class_names = ['airplane', 'bird']\n",
    "cifar2 = [(img, label_map[label]) for img, label in cifar10 if label in [0, 2]]\n",
    "cifar2_val = [(img, label_map[label]) for img, label in cifar10_val if label in [0, 2]]"
   ],
   "id": "319f96cefa687348",
   "outputs": [],
   "execution_count": 8
  },
  {
   "metadata": {
    "ExecuteTime": {
     "end_time": "2025-07-16T11:19:09.750898Z",
     "start_time": "2025-07-16T11:19:09.741746Z"
    }
   },
   "cell_type": "code",
   "source": [
    "conv = nn.Conv2d(3, 16, kernel_size=3)\n",
    "conv"
   ],
   "id": "50a9862fe68c93b2",
   "outputs": [
    {
     "data": {
      "text/plain": [
       "Conv2d(3, 16, kernel_size=(3, 3), stride=(1, 1))"
      ]
     },
     "execution_count": 2,
     "metadata": {},
     "output_type": "execute_result"
    }
   ],
   "execution_count": 2
  },
  {
   "metadata": {
    "ExecuteTime": {
     "end_time": "2025-07-16T11:21:01.334239Z",
     "start_time": "2025-07-16T11:21:01.326016Z"
    }
   },
   "cell_type": "code",
   "source": [
    "# Weights: (n_out, n_in, kernel_size, kernel_size)\n",
    "conv.weight.shape, conv.bias.shape"
   ],
   "id": "a102e30c9096462b",
   "outputs": [
    {
     "data": {
      "text/plain": [
       "(torch.Size([16, 3, 3, 3]), torch.Size([16]))"
      ]
     },
     "execution_count": 3,
     "metadata": {},
     "output_type": "execute_result"
    }
   ],
   "execution_count": 3
  },
  {
   "metadata": {
    "ExecuteTime": {
     "end_time": "2025-07-16T11:25:40.068375Z",
     "start_time": "2025-07-16T11:25:40.063983Z"
    }
   },
   "cell_type": "code",
   "source": [
    "img, _ = cifar2[0]\n",
    "output = conv(img.unsqueeze(0))\n",
    "\n",
    "# Output is one-half conv kernel's width smaller on each side (3 // 2 = 1)\n",
    "img.unsqueeze(0).shape, output.shape"
   ],
   "id": "a8437280a0fef16a",
   "outputs": [
    {
     "data": {
      "text/plain": [
       "(torch.Size([1, 3, 32, 32]), torch.Size([1, 16, 30, 30]))"
      ]
     },
     "execution_count": 9,
     "metadata": {},
     "output_type": "execute_result"
    }
   ],
   "execution_count": 9
  },
  {
   "metadata": {
    "ExecuteTime": {
     "end_time": "2025-07-16T11:26:09.709147Z",
     "start_time": "2025-07-16T11:26:09.613646Z"
    }
   },
   "cell_type": "code",
   "source": "plt.imshow(output[0, 0].detach(), cmap='gray')",
   "id": "fbea400b5c60e1cc",
   "outputs": [
    {
     "data": {
      "text/plain": [
       "<matplotlib.image.AxesImage at 0x7f6f79a21940>"
      ]
     },
     "execution_count": 11,
     "metadata": {},
     "output_type": "execute_result"
    },
    {
     "data": {
      "text/plain": [
       "<Figure size 640x480 with 1 Axes>"
      ],
      "image/png": "[encoded data removed]"
     },
     "metadata": {},
     "output_type": "display_data"
    }
   ],
   "execution_count": 11
  },
  {
   "metadata": {
    "ExecuteTime": {
     "end_time": "2025-07-16T11:29:18.681520Z",
     "start_time": "2025-07-16T11:29:18.674773Z"
    }
   },
   "cell_type": "code",
   "source": [
    "# Padding adds ghost pixels at the borders with value 0 so the size does not change\n",
    "conv = nn.Conv2d(3, 1, kernel_size=3, padding=1)\n",
    "output = conv(img.unsqueeze(0))\n",
    "img.unsqueeze(0).shape, output.shape"
   ],
   "id": "d4790784d9fcc045",
   "outputs": [
    {
     "data": {
      "text/plain": [
       "(torch.Size([1, 3, 32, 32]), torch.Size([1, 1, 32, 32]))"
      ]
     },
     "execution_count": 12,
     "metadata": {},
     "output_type": "execute_result"
    }
   ],
   "execution_count": 12
  },
  {
   "metadata": {
    "ExecuteTime": {
     "end_time": "2025-07-16T11:32:32.631040Z",
     "start_time": "2025-07-16T11:32:32.507856Z"
    }
   },
   "cell_type": "code",
   "source": [
    "with torch.no_grad():\n",
    "    conv.bias.zero_()\n",
    "    conv.weight.fill_(1.0 / 9.0)\n",
    "\n",
    "output = conv(img.unsqueeze(0))\n",
    "plt.imshow(output[0, 0].detach(), cmap='gray')"
   ],
   "id": "c4c109d9a29b6e7d",
   "outputs": [
    {
     "data": {
      "text/plain": [
       "<matplotlib.image.AxesImage at 0x7f6f77080980>"
      ]
     },
     "execution_count": 13,
     "metadata": {},
     "output_type": "execute_result"
    },
    {
     "data": {
      "text/plain": [
       "<Figure size 640x480 with 1 Axes>"
      ],
      "image/png": "[encoded data removed]"
     },
     "metadata": {},
     "output_type": "display_data"
    }
   ],
   "execution_count": 13
  },
  {
   "metadata": {
    "ExecuteTime": {
     "end_time": "2025-07-16T11:34:37.175757Z",
     "start_time": "2025-07-16T11:34:37.074083Z"
    }
   },
   "cell_type": "code",
   "source": [
    "conv = nn.Conv2d(3, 1, kernel_size=3, padding=1)\n",
    "\n",
    "# For vertical edge detection: If pixels on the left and right differ a lot: high value\n",
    "# Else they will be close to 0\n",
    "with torch.no_grad():\n",
    "    conv.weight[:] = torch.tensor([\n",
    "        [-1.0, 0.0, 1.0],\n",
    "        [-1.0, 0.0, 1.0],\n",
    "        [-1.0, 0.0, 1.0]\n",
    "    ])\n",
    "    conv.bias.zero_()\n",
    "\n",
    "output = conv(img.unsqueeze(0))\n",
    "plt.imshow(output[0, 0].detach(), cmap='gray')"
   ],
   "id": "4893ce5c0778eb15",
   "outputs": [
    {
     "data": {
      "text/plain": [
       "<matplotlib.image.AxesImage at 0x7f6f7712a8a0>"
      ]
     },
     "execution_count": 14,
     "metadata": {},
     "output_type": "execute_result"
    },
    {
     "data": {
      "text/plain": [
       "<Figure size 640x480 with 1 Axes>"
      ],
      "image/png": "[encoded data removed]"
     },
     "metadata": {},
     "output_type": "display_data"
    }
   ],
   "execution_count": 14
  },
  {
   "metadata": {
    "ExecuteTime": {
     "end_time": "2025-07-16T11:40:47.290163Z",
     "start_time": "2025-07-16T11:40:47.284393Z"
    }
   },
   "cell_type": "code",
   "source": [
    "pool = nn.MaxPool2d(2)\n",
    "output = pool(img.unsqueeze(0))\n",
    "img.unsqueeze(0).shape, output.shape"
   ],
   "id": "ca95747ca91b92e3",
   "outputs": [
    {
     "data": {
      "text/plain": [
       "(torch.Size([1, 3, 32, 32]), torch.Size([1, 3, 16, 16]))"
      ]
     },
     "execution_count": 15,
     "metadata": {},
     "output_type": "execute_result"
    }
   ],
   "execution_count": 15
  },
  {
   "metadata": {
    "ExecuteTime": {
     "end_time": "2025-07-16T11:41:09.802095Z",
     "start_time": "2025-07-16T11:41:09.676858Z"
    }
   },
   "cell_type": "code",
   "source": "plt.imshow(output[0, 0].detach(), cmap='gray')",
   "id": "a9240bfc5b15b391",
   "outputs": [
    {
     "data": {
      "text/plain": [
       "<matplotlib.image.AxesImage at 0x7f6f7709ccb0>"
      ]
     },
     "execution_count": 16,
     "metadata": {},
     "output_type": "execute_result"
    },
    {
     "data": {
      "text/plain": [
       "<Figure size 640x480 with 1 Axes>"
      ],
      "image/png": "[encoded data removed]"
     },
     "metadata": {},
     "output_type": "display_data"
    }
   ],
   "execution_count": 16
  },
  {
   "metadata": {
    "ExecuteTime": {
     "end_time": "2025-07-16T11:49:59.489052Z",
     "start_time": "2025-07-16T11:49:59.484402Z"
    }
   },
   "cell_type": "code",
   "source": [
    "model = nn.Sequential(\n",
    "    nn.Conv2d(3, 16, kernel_size=3, padding=1),\n",
    "    nn.Tanh(),\n",
    "    nn.MaxPool2d(2),\n",
    "    nn.Conv2d(16, 8, kernel_size=3, padding=1),\n",
    "    nn.Tanh(),\n",
    "    nn.MaxPool2d(2),\n",
    "    # ...,\n",
    "    nn.Linear(8 * 8 * 8, 32),\n",
    "    nn.Tanh(),\n",
    "    nn.Linear(32, 2)\n",
    ")"
   ],
   "id": "8d88683c8e7fd7c4",
   "outputs": [],
   "execution_count": 17
  },
  {
   "metadata": {
    "ExecuteTime": {
     "end_time": "2025-07-16T11:50:36.762583Z",
     "start_time": "2025-07-16T11:50:36.757629Z"
    }
   },
   "cell_type": "code",
   "source": [
    "numel_list = [p.numel() for p in model.parameters()]\n",
    "sum(numel_list), numel_list"
   ],
   "id": "d4d47bd3855a97eb",
   "outputs": [
    {
     "data": {
      "text/plain": [
       "(18090, [432, 16, 1152, 8, 16384, 32, 64, 2])"
      ]
     },
     "execution_count": 20,
     "metadata": {},
     "output_type": "execute_result"
    }
   ],
   "execution_count": 20
  },
  {
   "metadata": {
    "ExecuteTime": {
     "end_time": "2025-07-16T13:24:37.050395Z",
     "start_time": "2025-07-16T13:24:37.044696Z"
    }
   },
   "cell_type": "code",
   "source": [
    "class NeuralNet(nn.Module):\n",
    "    def __init__(self):\n",
    "        super().__init__()\n",
    "        self.conv1 = nn.Conv2d(3, 16, kernel_size=3, padding=1)\n",
    "        self.conv2 = nn.Conv2d(16, 8, kernel_size=3, padding=1)\n",
    "        self.fc1 = nn.Linear(8 * 8 * 8, 32)\n",
    "        self.fc2 = nn.Linear(32, 2)\n",
    "\n",
    "    def forward(self, x):\n",
    "        out = F.max_pool2d(torch.tanh(self.conv1(x)), 2)\n",
    "        out = F.max_pool2d(torch.tanh(self.conv2(out)), 2)\n",
    "        out = out.view(-1, 8 * 8 * 8)   # Reshape output\n",
    "        out = torch.tanh(self.fc1(out))\n",
    "        return self.fc2(out)"
   ],
   "id": "9091a1603afc6cf5",
   "outputs": [],
   "execution_count": 32
  },
  {
   "metadata": {
    "ExecuteTime": {
     "end_time": "2025-07-16T13:24:39.100563Z",
     "start_time": "2025-07-16T13:24:39.090769Z"
    }
   },
   "cell_type": "code",
   "source": [
    "model = NeuralNet()\n",
    "numel_list = [p.numel() for p in model.parameters()]\n",
    "sum(numel_list), numel_list"
   ],
   "id": "7dc554fd300f7b00",
   "outputs": [
    {
     "data": {
      "text/plain": [
       "(18090, [432, 16, 1152, 8, 16384, 32, 64, 2])"
      ]
     },
     "execution_count": 33,
     "metadata": {},
     "output_type": "execute_result"
    }
   ],
   "execution_count": 33
  },
  {
   "metadata": {
    "ExecuteTime": {
     "end_time": "2025-07-16T13:27:58.412186Z",
     "start_time": "2025-07-16T13:27:58.408072Z"
    }
   },
   "cell_type": "code",
   "source": "model(img.unsqueeze(0)).detach().numpy()",
   "id": "e6c269792e475b62",
   "outputs": [
    {
     "data": {
      "text/plain": [
       "array([[0.13001622, 0.18985581]], dtype=float32)"
      ]
     },
     "execution_count": 35,
     "metadata": {},
     "output_type": "execute_result"
    }
   ],
   "execution_count": 35
  },
  {
   "metadata": {
    "ExecuteTime": {
     "end_time": "2025-07-16T13:46:52.798507Z",
     "start_time": "2025-07-16T13:46:52.794654Z"
    }
   },
   "cell_type": "code",
   "source": [
    "def training_loop(n_epochs, conv_model, optimizer, loss_fn, loader, device):\n",
    "    for epoch in tqdm(range(1, n_epochs + 1)):\n",
    "        epoch_loss = 0.0\n",
    "        for images, labels in loader:\n",
    "            images = images.to(device)\n",
    "            labels = labels.to(device)\n",
    "\n",
    "            outputs = conv_model(images)\n",
    "            train_loss = loss_fn(outputs, labels)\n",
    "\n",
    "            optimizer.zero_grad()\n",
    "            train_loss.backward()\n",
    "            optimizer.step()\n",
    "\n",
    "            epoch_loss += train_loss.item()\n",
    "\n",
    "        if epoch % 10 == 0 or epoch == 1:\n",
    "            print(f'{datetime.datetime.now()} Epoch {epoch}: Loss {epoch_loss / len(loader)}')"
   ],
   "id": "8b5774f2a01a71f7",
   "outputs": [],
   "execution_count": 55
  },
  {
   "metadata": {
    "ExecuteTime": {
     "end_time": "2025-07-16T13:46:54.561079Z",
     "start_time": "2025-07-16T13:46:54.557590Z"
    }
   },
   "cell_type": "code",
   "source": [
    "train_loader = torch.utils.data.DataLoader(cifar2, batch_size=64, shuffle=True)\n",
    "val_loader = torch.utils.data.DataLoader(cifar2_val, batch_size=64, shuffle=False)"
   ],
   "id": "abd518b8852cdf43",
   "outputs": [],
   "execution_count": 56
  },
  {
   "metadata": {
    "ExecuteTime": {
     "end_time": "2025-07-16T13:47:31.760691Z",
     "start_time": "2025-07-16T13:46:57.277366Z"
    }
   },
   "cell_type": "code",
   "source": [
    "c_device = torch.device('cuda') if torch.cuda.is_available() else torch.device('cpu')\n",
    "print(f'Training on device {c_device}.')\n",
    "\n",
    "model = NeuralNet()\n",
    "model = model.to(c_device)\n",
    "\n",
    "optimizer_sgd = optim.SGD(model.parameters(), 1e-2)\n",
    "loss = nn.CrossEntropyLoss()\n",
    "\n",
    "training_loop(100, model, optimizer_sgd, loss, train_loader, c_device)"
   ],
   "id": "ef3981c19c456fed",
   "outputs": [
    {
     "name": "stdout",
     "output_type": "stream",
     "text": [
      "Training on device cuda.\n"
     ]
    },
    {
     "name": "stderr",
     "output_type": "stream",
     "text": [
      "  1%|          | 1/100 [00:00<00:38,  2.60it/s]"
     ]
    },
    {
     "name": "stdout",
     "output_type": "stream",
     "text": [
      "2025-07-16 15:46:57.685530 Epoch 1: Loss 0.5680093550757997\n"
     ]
    },
    {
     "name": "stderr",
     "output_type": "stream",
     "text": [
      " 10%|█         | 10/100 [00:03<00:28,  3.15it/s]"
     ]
    },
    {
     "name": "stdout",
     "output_type": "stream",
     "text": [
      "2025-07-16 15:47:00.628741 Epoch 10: Loss 0.3315935701511468\n"
     ]
    },
    {
     "name": "stderr",
     "output_type": "stream",
     "text": [
      " 20%|██        | 20/100 [00:06<00:29,  2.71it/s]"
     ]
    },
    {
     "name": "stdout",
     "output_type": "stream",
     "text": [
      "2025-07-16 15:47:04.119774 Epoch 20: Loss 0.2918432737421838\n"
     ]
    },
    {
     "name": "stderr",
     "output_type": "stream",
     "text": [
      " 30%|███       | 30/100 [00:10<00:23,  2.92it/s]"
     ]
    },
    {
     "name": "stdout",
     "output_type": "stream",
     "text": [
      "2025-07-16 15:47:07.399091 Epoch 30: Loss 0.2690503067651372\n"
     ]
    },
    {
     "name": "stderr",
     "output_type": "stream",
     "text": [
      " 40%|████      | 40/100 [00:13<00:22,  2.66it/s]"
     ]
    },
    {
     "name": "stdout",
     "output_type": "stream",
     "text": [
      "2025-07-16 15:47:11.041116 Epoch 40: Loss 0.2494759494142168\n"
     ]
    },
    {
     "name": "stderr",
     "output_type": "stream",
     "text": [
      " 50%|█████     | 50/100 [00:17<00:19,  2.56it/s]"
     ]
    },
    {
     "name": "stdout",
     "output_type": "stream",
     "text": [
      "2025-07-16 15:47:14.901298 Epoch 50: Loss 0.23207955000696667\n"
     ]
    },
    {
     "name": "stderr",
     "output_type": "stream",
     "text": [
      " 60%|██████    | 60/100 [00:21<00:14,  2.69it/s]"
     ]
    },
    {
     "name": "stdout",
     "output_type": "stream",
     "text": [
      "2025-07-16 15:47:18.362372 Epoch 60: Loss 0.21672460232760496\n"
     ]
    },
    {
     "name": "stderr",
     "output_type": "stream",
     "text": [
      " 70%|███████   | 70/100 [00:24<00:10,  2.93it/s]"
     ]
    },
    {
     "name": "stdout",
     "output_type": "stream",
     "text": [
      "2025-07-16 15:47:21.946807 Epoch 70: Loss 0.20162836628355038\n"
     ]
    },
    {
     "name": "stderr",
     "output_type": "stream",
     "text": [
      " 80%|████████  | 80/100 [00:27<00:06,  3.05it/s]"
     ]
    },
    {
     "name": "stdout",
     "output_type": "stream",
     "text": [
      "2025-07-16 15:47:25.226329 Epoch 80: Loss 0.18893818794542058\n"
     ]
    },
    {
     "name": "stderr",
     "output_type": "stream",
     "text": [
      " 90%|█████████ | 90/100 [00:31<00:03,  3.08it/s]"
     ]
    },
    {
     "name": "stdout",
     "output_type": "stream",
     "text": [
      "2025-07-16 15:47:28.490105 Epoch 90: Loss 0.17570551774304383\n"
     ]
    },
    {
     "name": "stderr",
     "output_type": "stream",
     "text": [
      "100%|██████████| 100/100 [00:34<00:00,  2.90it/s]"
     ]
    },
    {
     "name": "stdout",
     "output_type": "stream",
     "text": [
      "2025-07-16 15:47:31.758315 Epoch 100: Loss 0.1630260386522029\n"
     ]
    },
    {
     "name": "stderr",
     "output_type": "stream",
     "text": [
      "\n"
     ]
    }
   ],
   "execution_count": 57
  },
  {
   "metadata": {
    "ExecuteTime": {
     "end_time": "2025-07-16T13:47:31.768589Z",
     "start_time": "2025-07-16T13:47:31.764857Z"
    }
   },
   "cell_type": "code",
   "source": [
    "def evaluate(conv_model, train_dloader, val_dloader, device):\n",
    "    for name, loader in [('train', train_dloader), ('eval', val_dloader)]:\n",
    "        correct = 0\n",
    "        total = 0\n",
    "\n",
    "        with torch.no_grad():\n",
    "            for images, labels in loader:\n",
    "                images = images.to(device)\n",
    "                labels = labels.to(device)\n",
    "\n",
    "                outputs = conv_model(images)\n",
    "                _, predicted = outputs.max(dim=1)\n",
    "                total += labels.shape[0]\n",
    "\n",
    "                correct_batch = predicted == labels\n",
    "                correct += int(correct_batch.sum())\n",
    "\n",
    "        print(f'Accuracy {name}: {correct / total:.2f}')"
   ],
   "id": "da139d406b0f2505",
   "outputs": [],
   "execution_count": 58
  },
  {
   "metadata": {
    "ExecuteTime": {
     "end_time": "2025-07-16T13:47:31.985472Z",
     "start_time": "2025-07-16T13:47:31.811239Z"
    }
   },
   "cell_type": "code",
   "source": "evaluate(model, train_loader, val_loader, c_device)",
   "id": "40fc5cda7da17793",
   "outputs": [
    {
     "name": "stdout",
     "output_type": "stream",
     "text": [
      "Accuracy train: 0.94\n",
      "Accuracy eval: 0.90\n"
     ]
    }
   ],
   "execution_count": 59
  },
  {
   "metadata": {
    "ExecuteTime": {
     "end_time": "2025-07-16T13:48:01.707441Z",
     "start_time": "2025-07-16T13:48:01.685075Z"
    }
   },
   "cell_type": "code",
   "source": [
    "# Save model\n",
    "torch.save(model.state_dict(), data_path + 'birds_vs_airplanes.pt')"
   ],
   "id": "acf38e4875583395",
   "outputs": [],
   "execution_count": 60
  },
  {
   "metadata": {
    "ExecuteTime": {
     "end_time": "2025-07-16T13:48:13.984499Z",
     "start_time": "2025-07-16T13:48:13.975252Z"
    }
   },
   "cell_type": "code",
   "source": [
    "loaded_model = NeuralNet().to(c_device)\n",
    "loaded_model.load_state_dict(torch.load(data_path + 'birds_vs_airplanes.pt'))"
   ],
   "id": "9684cefaaa9242f5",
   "outputs": [
    {
     "data": {
      "text/plain": [
       "<All keys matched successfully>"
      ]
     },
     "execution_count": 61,
     "metadata": {},
     "output_type": "execute_result"
    }
   ],
   "execution_count": 61
  },
  {
   "metadata": {},
   "cell_type": "code",
   "outputs": [],
   "execution_count": null,
   "source": [
    "class NetWidth(nn.Module):\n",
    "    def __init__(self, n_channels1=32):\n",
    "        super().__init__()\n",
    "        self.conv1 = nn.Conv2d(3, n_channels1, kernel_size=3, padding=1)\n",
    "        self.conv2 = nn.Conv2d(n_channels1, n_channels1 // 2, kernel_size=3, padding=1)\n",
    "        self.fc1 = nn.Linear(8 * 8 * n_channels1 // 2, 32)\n",
    "        self.fc2 = nn.Linear(32, 2)\n",
    "\n",
    "    def forward(self, x):\n",
    "        out = F.max_pool2d(torch.tanh(self.conv1(x)), 2)\n",
    "        out = F.max_pool2d(torch.tanh(self.conv2(out)), 2)\n",
    "        out = out.view(-1, 16 * 8 * 8)   # Reshape output\n",
    "        out = torch.tanh(self.fc1(out))\n",
    "        return self.fc2(out)"
   ],
   "id": "7b1cc79e6ddf61b9"
  },
  {
   "metadata": {
    "ExecuteTime": {
     "end_time": "2025-07-16T13:58:24.029613Z",
     "start_time": "2025-07-16T13:58:24.025804Z"
    }
   },
   "cell_type": "code",
   "source": [
    "# Manual weight decay\n",
    "def training_loop_wd(n_epochs, conv_model, optimizer, loss_fn, loader, device):\n",
    "    for epoch in tqdm(range(1, n_epochs + 1)):\n",
    "        epoch_loss = 0.0\n",
    "        for images, labels in loader:\n",
    "            images = images.to(device)\n",
    "            labels = labels.to(device)\n",
    "\n",
    "            outputs = conv_model(images)\n",
    "            train_loss = loss_fn(outputs, labels)\n",
    "\n",
    "            l2_lambda = 0.001\n",
    "            l2_norm = sum(p.pow(2.0).sum() for p in conv_model.parameters())\n",
    "            train_loss = train_loss + l2_lambda * l2_norm\n",
    "\n",
    "            optimizer.zero_grad()\n",
    "            train_loss.backward()\n",
    "            optimizer.step()\n",
    "\n",
    "            epoch_loss += train_loss.item()\n",
    "\n",
    "        if epoch % 10 == 0 or epoch == 1:\n",
    "            print(f'{datetime.datetime.now()} Epoch {epoch}: Loss {epoch_loss / len(loader)}')\n",
    "\n",
    "# Or using pytorch\n",
    "optimizer_decay = optim.SGD(model.parameters(), 1e-2, weight_decay=0.001)"
   ],
   "id": "b87f901dad8fc564",
   "outputs": [],
   "execution_count": 63
  },
  {
   "metadata": {},
   "cell_type": "code",
   "outputs": [],
   "execution_count": null,
   "source": [
    "class NetDropout(nn.Module):\n",
    "    def __init__(self, n_channels1=32):\n",
    "        super().__init__()\n",
    "        self.n_channels1 = n_channels1\n",
    "        self.conv1 = nn.Conv2d(3, n_channels1, kernel_size=3, padding=1)\n",
    "        self.conv_dropout1 = nn.Dropout2d(p=0.4)\n",
    "        self.conv2 = nn.Conv2d(n_channels1, n_channels1 // 2, kernel_size=3, padding=1)\n",
    "        self.conv_dropout2 = nn.Dropout2d(p=0.4)\n",
    "        self.fc1 = nn.Linear(8 * 8 * n_channels1 // 2, 32)\n",
    "        self.fc2 = nn.Linear(32, 2)\n",
    "\n",
    "    def forward(self, x):\n",
    "        out = F.max_pool2d(torch.tanh(self.conv1(x)), 2)\n",
    "        out = self.conv_dropout1(out)\n",
    "        out = F.max_pool2d(torch.tanh(self.conv2(out)), 2)\n",
    "        out = self.conv_dropout2(out)\n",
    "        out = out.view(-1, 16 * 8 * 8)   # Reshape output\n",
    "        out = torch.tanh(self.fc1(out))\n",
    "        return self.fc2(out)"
   ],
   "id": "bfd9b362f8ea65bd"
  },
  {
   "metadata": {},
   "cell_type": "code",
   "outputs": [],
   "execution_count": null,
   "source": [
    "class NetBatchNorm(nn.Module):\n",
    "    def __init__(self, n_channels1=32):\n",
    "        super().__init__()\n",
    "        self.n_channels1 = n_channels1\n",
    "        self.conv1 = nn.Conv2d(3, n_channels1, kernel_size=3, padding=1)\n",
    "        self.conv1_batchnorm = nn.BatchNorm2d(num_features=n_channels1)\n",
    "        self.conv2 = nn.Conv2d(n_channels1, n_channels1 // 2, kernel_size=3, padding=1)\n",
    "        self.conv2_batchnorm = nn.BatchNorm2d(num_features=n_channels1 // 2)\n",
    "        self.fc1 = nn.Linear(8 * 8 * n_channels1 // 2, 32)\n",
    "        self.fc2 = nn.Linear(32, 2)\n",
    "\n",
    "    def forward(self, x):\n",
    "        out = F.max_pool2d(torch.tanh(self.conv1_batchnorm(self.conv1(x))), 2)\n",
    "        out = F.max_pool2d(torch.tanh(self.conv2_batchnorm(self.conv2(out))), 2)\n",
    "        out = out.view(-1, 16 * 8 * 8)   # Reshape output\n",
    "        out = torch.tanh(self.fc1(out))\n",
    "        return self.fc2(out)"
   ],
   "id": "108cc7ef87c502d8"
  },
  {
   "metadata": {
    "ExecuteTime": {
     "end_time": "2025-07-16T14:14:06.900847Z",
     "start_time": "2025-07-16T14:14:06.896023Z"
    }
   },
   "cell_type": "code",
   "source": [
    "class NetDepth(nn.Module):\n",
    "    def __init__(self, n_channels1=32):\n",
    "        super().__init__()\n",
    "        self.n_channels1 = n_channels1\n",
    "        self.conv1 = nn.Conv2d(3, n_channels1, kernel_size=3, padding=1)\n",
    "        self.conv2 = nn.Conv2d(n_channels1, n_channels1 // 2, kernel_size=3, padding=1)\n",
    "        self.conv3 = nn.Conv2d(n_channels1 // 2, n_channels1 // 2, kernel_size=3, padding=1)\n",
    "        self.fc1 = nn.Linear(4 * 4 * n_channels1 // 2, 32)\n",
    "        self.fc2 = nn.Linear(32, 2)\n",
    "\n",
    "    def forward(self, x):\n",
    "        out = F.max_pool2d(torch.relu(self.conv1(x)), 2)\n",
    "        out = F.max_pool2d(torch.relu(self.conv2(out)), 2)\n",
    "\n",
    "        # Skip Connection\n",
    "        out1 = out\n",
    "        out = F.max_pool2d(torch.relu(self.conv3(out)) + out1, 2)\n",
    "\n",
    "        out = out.view(-1, 16 * 8 * 8)\n",
    "        out = torch.relu(self.fc1(out))\n",
    "        return self.fc2(out)"
   ],
   "id": "88c6c494521529b5",
   "outputs": [],
   "execution_count": 64
  },
  {
   "metadata": {},
   "cell_type": "markdown",
   "source": "## Network from Building Blocks",
   "id": "bdbd2b5281682e75"
  },
  {
   "metadata": {
    "ExecuteTime": {
     "end_time": "2025-07-16T14:35:40.093079Z",
     "start_time": "2025-07-16T14:35:40.088812Z"
    }
   },
   "cell_type": "code",
   "source": [
    "class ResBlock(nn.Module):\n",
    "    def __init__(self, n_channels):\n",
    "        super(ResBlock, self).__init__()\n",
    "        self.conv = nn.Conv2d(n_channels, n_channels, kernel_size=3, padding=1, bias=False)\n",
    "        self.batch_norm = nn.BatchNorm2d(num_features=n_channels)\n",
    "        torch.nn.init.kaiming_normal_(self.conv.weight, nonlinearity='relu')\n",
    "        torch.nn.init.constant_(self.batch_norm.weight, 0.5)\n",
    "        torch.nn.init.zeros_(self.batch_norm.bias)\n",
    "\n",
    "\n",
    "    def forward(self, x):\n",
    "        out = self.batch_norm(self.conv(x))\n",
    "        return torch.relu(out) + x"
   ],
   "id": "abd9b9ef228e3b23",
   "outputs": [],
   "execution_count": 70
  },
  {
   "metadata": {
    "ExecuteTime": {
     "end_time": "2025-07-16T15:03:01.981352Z",
     "start_time": "2025-07-16T15:03:01.976824Z"
    }
   },
   "cell_type": "code",
   "source": [
    "class NetResDeep(nn.Module):\n",
    "    def __init__(self, n_channels=32, n_blocks=10, kernel_size=3):\n",
    "        super().__init__()\n",
    "\n",
    "        self.n_channels = n_channels\n",
    "        self.conv2d = nn.Conv2d(3, n_channels, kernel_size=kernel_size, padding=kernel_size // 2)\n",
    "        self.res_blocks = nn.Sequential(\n",
    "            * (n_blocks * [ResBlock(n_channels)])\n",
    "        )\n",
    "\n",
    "        self.linear1 = nn.Linear(n_channels * 64, 32)\n",
    "        self.linear2 = nn.Linear(32, 2)\n",
    "\n",
    "    def forward(self, x):\n",
    "        out = torch.max_pool2d(torch.relu(self.conv2d(x)), 2)\n",
    "        out = self.res_blocks(out)\n",
    "        out = torch.max_pool2d(out, 2)\n",
    "        out = out.view(-1, self.n_channels * 64)\n",
    "        out = torch.relu(self.linear1(out))\n",
    "        return self.linear2(out)"
   ],
   "id": "2d4e6635fb58bdb4",
   "outputs": [],
   "execution_count": 90
  },
  {
   "metadata": {
    "ExecuteTime": {
     "end_time": "2025-07-16T14:42:51.205927Z",
     "start_time": "2025-07-16T14:38:31.312384Z"
    }
   },
   "cell_type": "code",
   "source": [
    "resnet_model = NetResDeep(n_channels=32, n_blocks=10).to(device=c_device)\n",
    "optimizer_sgd = optim.SGD(resnet_model.parameters(), lr=3e-3)\n",
    "loss = nn.CrossEntropyLoss()\n",
    "\n",
    "# def training_loop(n_epochs, conv_model, optimizer, loss_fn, loader, device):\n",
    "training_loop(\n",
    "    n_epochs = 100,\n",
    "    conv_model = resnet_model,\n",
    "    optimizer = optimizer_sgd,\n",
    "    loss_fn = loss,\n",
    "    loader = train_loader,\n",
    "    device = c_device\n",
    ")\n",
    "evaluate(model, train_loader, val_loader, c_device)"
   ],
   "id": "7b66017fb8558488",
   "outputs": [
    {
     "name": "stderr",
     "output_type": "stream",
     "text": [
      "  1%|          | 1/100 [00:02<04:00,  2.42s/it]"
     ]
    },
    {
     "name": "stdout",
     "output_type": "stream",
     "text": [
      "2025-07-16 16:38:33.744711 Epoch 1: Loss 0.5722927396084853\n"
     ]
    },
    {
     "name": "stderr",
     "output_type": "stream",
     "text": [
      " 10%|█         | 10/100 [00:25<03:54,  2.61s/it]"
     ]
    },
    {
     "name": "stdout",
     "output_type": "stream",
     "text": [
      "2025-07-16 16:38:56.870352 Epoch 10: Loss 0.34564479853317237\n"
     ]
    },
    {
     "name": "stderr",
     "output_type": "stream",
     "text": [
      " 20%|██        | 20/100 [00:51<03:29,  2.62s/it]"
     ]
    },
    {
     "name": "stdout",
     "output_type": "stream",
     "text": [
      "2025-07-16 16:39:23.093606 Epoch 20: Loss 0.25808324603138455\n"
     ]
    },
    {
     "name": "stderr",
     "output_type": "stream",
     "text": [
      " 30%|███       | 30/100 [01:17<03:01,  2.60s/it]"
     ]
    },
    {
     "name": "stdout",
     "output_type": "stream",
     "text": [
      "2025-07-16 16:39:49.130390 Epoch 30: Loss 0.19478124066902575\n"
     ]
    },
    {
     "name": "stderr",
     "output_type": "stream",
     "text": [
      " 40%|████      | 40/100 [01:43<02:35,  2.60s/it]"
     ]
    },
    {
     "name": "stdout",
     "output_type": "stream",
     "text": [
      "2025-07-16 16:40:15.116124 Epoch 40: Loss 0.14383493534698608\n"
     ]
    },
    {
     "name": "stderr",
     "output_type": "stream",
     "text": [
      " 50%|█████     | 50/100 [02:09<02:09,  2.60s/it]"
     ]
    },
    {
     "name": "stdout",
     "output_type": "stream",
     "text": [
      "2025-07-16 16:40:41.118017 Epoch 50: Loss 0.11431231458855283\n"
     ]
    },
    {
     "name": "stderr",
     "output_type": "stream",
     "text": [
      " 60%|██████    | 60/100 [02:35<01:43,  2.59s/it]"
     ]
    },
    {
     "name": "stdout",
     "output_type": "stream",
     "text": [
      "2025-07-16 16:41:07.143767 Epoch 60: Loss 0.10460384683624195\n"
     ]
    },
    {
     "name": "stderr",
     "output_type": "stream",
     "text": [
      " 70%|███████   | 70/100 [03:01<01:17,  2.60s/it]"
     ]
    },
    {
     "name": "stdout",
     "output_type": "stream",
     "text": [
      "2025-07-16 16:41:33.157053 Epoch 70: Loss 0.09695885553481473\n"
     ]
    },
    {
     "name": "stderr",
     "output_type": "stream",
     "text": [
      " 80%|████████  | 80/100 [03:27<00:51,  2.60s/it]"
     ]
    },
    {
     "name": "stdout",
     "output_type": "stream",
     "text": [
      "2025-07-16 16:41:59.157034 Epoch 80: Loss 0.09418934839925948\n"
     ]
    },
    {
     "name": "stderr",
     "output_type": "stream",
     "text": [
      " 90%|█████████ | 90/100 [03:53<00:25,  2.59s/it]"
     ]
    },
    {
     "name": "stdout",
     "output_type": "stream",
     "text": [
      "2025-07-16 16:42:25.065093 Epoch 90: Loss 0.10908287915454548\n"
     ]
    },
    {
     "name": "stderr",
     "output_type": "stream",
     "text": [
      "100%|██████████| 100/100 [04:19<00:00,  2.60s/it]"
     ]
    },
    {
     "name": "stdout",
     "output_type": "stream",
     "text": [
      "2025-07-16 16:42:51.013222 Epoch 100: Loss 0.09380998258378095\n",
      "Accuracy train: 0.94\n",
      "Accuracy eval: 0.90\n"
     ]
    },
    {
     "name": "stderr",
     "output_type": "stream",
     "text": [
      "\n"
     ]
    }
   ],
   "execution_count": 75
  },
  {
   "metadata": {},
   "cell_type": "markdown",
   "source": [
    "## Exercises\n",
    "\n",
    "### Exercise 1\n",
    "\n",
    "Change model to use a 5 x 5 kernel."
   ],
   "id": "78c0fbbbed0b3ce8"
  },
  {
   "metadata": {
    "ExecuteTime": {
     "end_time": "2025-07-16T15:16:16.591841Z",
     "start_time": "2025-07-16T15:16:16.586219Z"
    }
   },
   "cell_type": "code",
   "source": [
    "def training_loop(n_epochs, conv_model, optimizer, loss_fn, loader, device):\n",
    "    with tqdm(range(1, n_epochs + 1), desc='Training') as t:\n",
    "        for epoch in t:\n",
    "            epoch_loss = 0.0\n",
    "            for images, labels in loader:\n",
    "                images = images.to(device)\n",
    "                labels = labels.to(device)\n",
    "\n",
    "                outputs = conv_model(images)\n",
    "                train_loss = loss_fn(outputs, labels)\n",
    "                epoch_loss += train_loss.item()\n",
    "\n",
    "                optimizer.zero_grad()\n",
    "                train_loss.backward()\n",
    "                optimizer.step()\n",
    "            t.set_postfix(loss=(epoch_loss / len(loader)))\n",
    "\n",
    "def evaluate(conv_model, tr_loader, eval_loader, device):\n",
    "    for stage, loader in [('train', tr_loader), ('eval', eval_loader)]:\n",
    "        correct = 0.0\n",
    "        total = 0.0\n",
    "\n",
    "        with torch.no_grad():\n",
    "            for images, labels in loader:\n",
    "                images = images.to(device)\n",
    "                labels = labels.to(device)\n",
    "\n",
    "                outputs = conv_model(images)\n",
    "                _, predictions = outputs.max(dim=1)\n",
    "\n",
    "                batch_correct = (predictions == labels)\n",
    "                correct += int(batch_correct.sum())\n",
    "                total += labels.shape[0]\n",
    "\n",
    "        print(f'Accuracy {stage}: {correct / total:.2f}')"
   ],
   "id": "af598291bfdada74",
   "outputs": [],
   "execution_count": 109
  },
  {
   "metadata": {
    "ExecuteTime": {
     "end_time": "2025-07-16T15:13:25.689301Z",
     "start_time": "2025-07-16T15:08:15.868495Z"
    }
   },
   "cell_type": "code",
   "source": [
    "c_device = torch.device('cuda') if torch.cuda.is_available() else torch.device('cpu')\n",
    "resnet_model = NetResDeep(n_channels=32, n_blocks=10, kernel_size=5).to(device=c_device)\n",
    "\n",
    "optimizer_sgd = optim.SGD(resnet_model.parameters(), 3e-3)\n",
    "loss = nn.CrossEntropyLoss()\n",
    "\n",
    "training_loop(100, resnet_model, optimizer_sgd, loss, train_loader, c_device)"
   ],
   "id": "e0f77824d0d76fde",
   "outputs": [
    {
     "name": "stderr",
     "output_type": "stream",
     "text": [
      "Training: 100%|██████████| 100/100 [05:09<00:00,  3.10s/it, loss=0.00244]\n"
     ]
    }
   ],
   "execution_count": 101
  },
  {
   "metadata": {
    "ExecuteTime": {
     "end_time": "2025-07-16T15:18:53.105102Z",
     "start_time": "2025-07-16T15:18:53.096483Z"
    }
   },
   "cell_type": "code",
   "source": [
    "ks3_model = NetResDeep(n_channels=32, n_blocks=10, kernel_size=3)\n",
    "\n",
    "ks3_numel_list = [p.numel() for p in ks3_model.parameters()]\n",
    "ks5_numel_list = [p.numel() for p in resnet_model.parameters()]\n",
    "\n",
    "sum(ks3_numel_list), sum(ks5_numel_list)"
   ],
   "id": "c9ae007d719ba07e",
   "outputs": [
    {
     "data": {
      "text/plain": [
       "(75810, 77346)"
      ]
     },
     "execution_count": 112,
     "metadata": {},
     "output_type": "execute_result"
    }
   ],
   "execution_count": 112
  },
  {
   "metadata": {},
   "cell_type": "markdown",
   "source": "a) The impact is quite small.",
   "id": "5d1fcd53653fd76f"
  },
  {
   "metadata": {
    "ExecuteTime": {
     "end_time": "2025-07-16T15:16:20.204862Z",
     "start_time": "2025-07-16T15:16:19.422745Z"
    }
   },
   "cell_type": "code",
   "source": [
    "resnet_model.eval()\n",
    "evaluate(resnet_model, train_loader, val_loader, c_device)"
   ],
   "id": "a4251cfa42dd649",
   "outputs": [
    {
     "name": "stdout",
     "output_type": "stream",
     "text": [
      "Accuracy train: 0.76\n",
      "Accuracy eval: 0.76\n"
     ]
    }
   ],
   "execution_count": 110
  },
  {
   "metadata": {},
   "cell_type": "markdown",
   "source": [
    "b) Overfitting seems a lot better. The accuracies are the same.\n",
    "\n",
    "d) For this kernel size, the model would take into account the following 2 pixels.\n",
    "\n",
    "e) It would be possible to look at relationships between horizontal neighbors."
   ],
   "id": "a59efddd591548cd"
  },
  {
   "metadata": {},
   "cell_type": "code",
   "outputs": [],
   "execution_count": null,
   "source": "",
   "id": "5f3f59363a362091"
  }
 ],
 "metadata": {
  "kernelspec": {
   "display_name": "Python 3",
   "language": "python",
   "name": "python3"
  },
  "language_info": {
   "codemirror_mode": {
    "name": "ipython",
    "version": 2
   },
   "file_extension": ".py",
   "mimetype": "text/x-python",
   "name": "python",
   "nbconvert_exporter": "python",
   "pygments_lexer": "ipython2",
   "version": "2.7.6"
  }
 },
 "nbformat": 4,
 "nbformat_minor": 5
}
