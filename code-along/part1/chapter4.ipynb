{
 "cells": [
  {
   "metadata": {},
   "cell_type": "markdown",
   "source": "## Image Data",
   "id": "f8dfe1571cb4c014"
  },
  {
   "cell_type": "code",
   "id": "initial_id",
   "metadata": {
    "collapsed": true,
    "ExecuteTime": {
     "end_time": "2025-07-14T18:11:38.520781Z",
     "start_time": "2025-07-14T18:11:38.517646Z"
    }
   },
   "source": [
    "import os\n",
    "import torch\n",
    "import imageio.v2 as iio"
   ],
   "outputs": [],
   "execution_count": 20
  },
  {
   "metadata": {
    "ExecuteTime": {
     "end_time": "2025-07-14T17:49:09.222806Z",
     "start_time": "2025-07-14T17:49:09.211088Z"
    }
   },
   "cell_type": "code",
   "source": [
    "img_arr = iio.imread('data/bobby.jpg')\n",
    "\n",
    "# (height, width, channels)\n",
    "img_arr.shape"
   ],
   "id": "ce14283425bb1c36",
   "outputs": [
    {
     "data": {
      "text/plain": [
       "(720, 1280, 3)"
      ]
     },
     "execution_count": 9,
     "metadata": {},
     "output_type": "execute_result"
    }
   ],
   "execution_count": 9
  },
  {
   "metadata": {
    "ExecuteTime": {
     "end_time": "2025-07-14T17:49:26.186837Z",
     "start_time": "2025-07-14T17:49:26.183029Z"
    }
   },
   "cell_type": "code",
   "source": [
    "# Numpy arrays perfect for converting to tensors\n",
    "type(img_arr)"
   ],
   "id": "d7a4821cb399fc31",
   "outputs": [
    {
     "data": {
      "text/plain": [
       "numpy.ndarray"
      ]
     },
     "execution_count": 10,
     "metadata": {},
     "output_type": "execute_result"
    }
   ],
   "execution_count": 10
  },
  {
   "metadata": {
    "ExecuteTime": {
     "end_time": "2025-07-14T17:50:27.236717Z",
     "start_time": "2025-07-14T17:50:27.230519Z"
    }
   },
   "cell_type": "code",
   "source": [
    "# PyTorch needs shape (channels, height, width)\n",
    "img = torch.from_numpy(img_arr)\n",
    "\n",
    "# permute() simply requires the desired ordering of the dimensions\n",
    "# and works inplace (also changing img will change out)\n",
    "out = img.permute(2, 0, 1)\n",
    "out.shape"
   ],
   "id": "d1e5a5916b9c75a9",
   "outputs": [
    {
     "data": {
      "text/plain": [
       "torch.Size([3, 720, 1280])"
      ]
     },
     "execution_count": 13,
     "metadata": {},
     "output_type": "execute_result"
    }
   ],
   "execution_count": 13
  },
  {
   "metadata": {
    "ExecuteTime": {
     "end_time": "2025-07-14T17:54:34.652681Z",
     "start_time": "2025-07-14T17:54:34.647896Z"
    }
   },
   "cell_type": "code",
   "source": [
    "# To build up a stack of tensors, preallocate a tensor of the desired size\n",
    "batch_size = 3\n",
    "batch = torch.zeros(batch_size, 3, 256, 256, dtype=torch.uint8)"
   ],
   "id": "60d03e97ac37d2a2",
   "outputs": [],
   "execution_count": 14
  },
  {
   "metadata": {
    "ExecuteTime": {
     "end_time": "2025-07-14T18:02:26.374Z",
     "start_time": "2025-07-14T18:02:26.353376Z"
    }
   },
   "cell_type": "code",
   "source": [
    "# Load data into the prepared tensor\n",
    "data_dir = 'data/ch4/image-cats/'\n",
    "filenames = [name for name in os.listdir(data_dir) if os.path.splitext(name)[-1] == '.png']\n",
    "for i, filename in enumerate(filenames):\n",
    "    img_arr = iio.imread(os.path.join(data_dir, filename))\n",
    "    img_t = torch.from_numpy(img_arr)\n",
    "    img_t = img_t.permute(2, 0, 1)\n",
    "    img_t = img_t[:3]   # Sometimes, images have an alpha channel\n",
    "    batch[i] = img_t    # Add to batch"
   ],
   "id": "2b788fc5136cdfb",
   "outputs": [],
   "execution_count": 16
  },
  {
   "metadata": {
    "ExecuteTime": {
     "end_time": "2025-07-14T18:05:39.236220Z",
     "start_time": "2025-07-14T18:05:39.229334Z"
    }
   },
   "cell_type": "code",
   "source": [
    "# Normalize: NNs generally work best with inputs between 0 and 1 or -1 and 1\n",
    "\n",
    "# One possibility: Simply scale down\n",
    "batch = batch.float()\n",
    "batch /= 255\n",
    "\n",
    "# Or: standardize each channel\n",
    "n_channels = batch.shape[1]\n",
    "for c in range(n_channels):\n",
    "    mean = torch.mean(batch[:, c])\n",
    "    std = torch.std(batch[:, c])\n",
    "    batch[:, c] = (batch[:, c] - mean) / std"
   ],
   "id": "179b0fc156fa82dd",
   "outputs": [],
   "execution_count": 18
  },
  {
   "metadata": {},
   "cell_type": "markdown",
   "source": [
    "## Medical Data\n",
    "\n",
    "Of a CT scan"
   ],
   "id": "57f3c19783f34f82"
  },
  {
   "metadata": {
    "ExecuteTime": {
     "end_time": "2025-07-14T18:12:59.291835Z",
     "start_time": "2025-07-14T18:12:59.154661Z"
    }
   },
   "cell_type": "code",
   "source": [
    "dir_path = 'data/ch4/volumetric-dicom/2-LUNG 3.0  B70f-04083'\n",
    "vol_arr = iio.volread(dir_path, 'DICOM')\n",
    "vol_arr.shape, type(vol_arr)"
   ],
   "id": "4e8ffea91776a090",
   "outputs": [
    {
     "name": "stdout",
     "output_type": "stream",
     "text": [
      "Reading DICOM (examining files): 99/99 files (100.0%)\n",
      "  Found 1 correct series.\n",
      "Reading DICOM (loading data): 99/99  (100.0%)\n"
     ]
    },
    {
     "data": {
      "text/plain": [
       "((99, 512, 512), imageio.core.util.Array)"
      ]
     },
     "execution_count": 23,
     "metadata": {},
     "output_type": "execute_result"
    }
   ],
   "execution_count": 23
  },
  {
   "metadata": {
    "ExecuteTime": {
     "end_time": "2025-07-14T18:13:43.685525Z",
     "start_time": "2025-07-14T18:13:43.670096Z"
    }
   },
   "cell_type": "code",
   "source": [
    "# Add channel dimension\n",
    "vol = torch.from_numpy(vol_arr).float()\n",
    "vol = torch.unsqueeze(vol, 0)\n",
    "vol.shape"
   ],
   "id": "10aa1126a34c5200",
   "outputs": [
    {
     "data": {
      "text/plain": [
       "torch.Size([1, 99, 512, 512])"
      ]
     },
     "execution_count": 26,
     "metadata": {},
     "output_type": "execute_result"
    }
   ],
   "execution_count": 26
  },
  {
   "metadata": {},
   "cell_type": "markdown",
   "source": "## Tabular Data",
   "id": "6c8af914e5b952fd"
  },
  {
   "metadata": {
    "ExecuteTime": {
     "end_time": "2025-07-14T18:44:23.869894Z",
     "start_time": "2025-07-14T18:44:23.850148Z"
    }
   },
   "cell_type": "code",
   "source": [
    "import csv\n",
    "import numpy as np\n",
    "\n",
    "wine_path = 'data/ch4/tabular-wine/winequality-white.csv'\n",
    "wine_np = np.loadtxt(wine_path, dtype=np.float32, delimiter=';', skiprows=1)\n",
    "wine_np.shape"
   ],
   "id": "bcf73873ef8d4816",
   "outputs": [
    {
     "data": {
      "text/plain": [
       "(4898, 12)"
      ]
     },
     "execution_count": 60,
     "metadata": {},
     "output_type": "execute_result"
    }
   ],
   "execution_count": 60
  },
  {
   "metadata": {
    "ExecuteTime": {
     "end_time": "2025-07-14T18:44:24.307276Z",
     "start_time": "2025-07-14T18:44:24.302072Z"
    }
   },
   "cell_type": "code",
   "source": [
    "col_list = next(csv.reader(open(wine_path), delimiter=';'))\n",
    "col_list"
   ],
   "id": "c578e6a4e5f85ae9",
   "outputs": [
    {
     "data": {
      "text/plain": [
       "['fixed acidity',\n",
       " 'volatile acidity',\n",
       " 'citric acid',\n",
       " 'residual sugar',\n",
       " 'chlorides',\n",
       " 'free sulfur dioxide',\n",
       " 'total sulfur dioxide',\n",
       " 'density',\n",
       " 'pH',\n",
       " 'sulphates',\n",
       " 'alcohol',\n",
       " 'quality']"
      ]
     },
     "execution_count": 61,
     "metadata": {},
     "output_type": "execute_result"
    }
   ],
   "execution_count": 61
  },
  {
   "metadata": {
    "ExecuteTime": {
     "end_time": "2025-07-14T18:44:25.592397Z",
     "start_time": "2025-07-14T18:44:25.586498Z"
    }
   },
   "cell_type": "code",
   "source": [
    "wine_t = torch.from_numpy(wine_np)\n",
    "wine_t.shape, wine_t.dtype"
   ],
   "id": "d11876c599d1e2db",
   "outputs": [
    {
     "data": {
      "text/plain": [
       "(torch.Size([4898, 12]), torch.float32)"
      ]
     },
     "execution_count": 62,
     "metadata": {},
     "output_type": "execute_result"
    }
   ],
   "execution_count": 62
  },
  {
   "metadata": {
    "ExecuteTime": {
     "end_time": "2025-07-14T18:44:26.226413Z",
     "start_time": "2025-07-14T18:44:26.221296Z"
    }
   },
   "cell_type": "code",
   "source": [
    "# Split into inputs and targets\n",
    "data = wine_t[:, :-1]\n",
    "data, data.shape"
   ],
   "id": "34aa4cb811087981",
   "outputs": [
    {
     "data": {
      "text/plain": [
       "(tensor([[ 7.0000,  0.2700,  0.3600,  ...,  3.0000,  0.4500,  8.8000],\n",
       "         [ 6.3000,  0.3000,  0.3400,  ...,  3.3000,  0.4900,  9.5000],\n",
       "         [ 8.1000,  0.2800,  0.4000,  ...,  3.2600,  0.4400, 10.1000],\n",
       "         ...,\n",
       "         [ 6.5000,  0.2400,  0.1900,  ...,  2.9900,  0.4600,  9.4000],\n",
       "         [ 5.5000,  0.2900,  0.3000,  ...,  3.3400,  0.3800, 12.8000],\n",
       "         [ 6.0000,  0.2100,  0.3800,  ...,  3.2600,  0.3200, 11.8000]]),\n",
       " torch.Size([4898, 11]))"
      ]
     },
     "execution_count": 63,
     "metadata": {},
     "output_type": "execute_result"
    }
   ],
   "execution_count": 63
  },
  {
   "metadata": {
    "ExecuteTime": {
     "end_time": "2025-07-14T18:44:26.772194Z",
     "start_time": "2025-07-14T18:44:26.767807Z"
    }
   },
   "cell_type": "code",
   "source": [
    "target = wine_t[:, -1]\n",
    "target, target.shape"
   ],
   "id": "936c9bd81c847d24",
   "outputs": [
    {
     "data": {
      "text/plain": [
       "(tensor([6., 6., 6.,  ..., 6., 7., 6.]), torch.Size([4898]))"
      ]
     },
     "execution_count": 64,
     "metadata": {},
     "output_type": "execute_result"
    }
   ],
   "execution_count": 64
  },
  {
   "metadata": {
    "ExecuteTime": {
     "end_time": "2025-07-14T18:44:27.857582Z",
     "start_time": "2025-07-14T18:44:27.853036Z"
    }
   },
   "cell_type": "code",
   "source": "target",
   "id": "4dad55192e9908f1",
   "outputs": [
    {
     "data": {
      "text/plain": [
       "tensor([6., 6., 6.,  ..., 6., 7., 6.])"
      ]
     },
     "execution_count": 65,
     "metadata": {},
     "output_type": "execute_result"
    }
   ],
   "execution_count": 65
  },
  {
   "metadata": {
    "ExecuteTime": {
     "end_time": "2025-07-14T18:44:28.623207Z",
     "start_time": "2025-07-14T18:44:28.620281Z"
    }
   },
   "cell_type": "code",
   "source": [
    "# We can treat targets like numbers for a regression\n",
    "target = target.long()"
   ],
   "id": "3003c4a2b19154c5",
   "outputs": [],
   "execution_count": 66
  },
  {
   "metadata": {
    "ExecuteTime": {
     "end_time": "2025-07-14T18:44:29.434717Z",
     "start_time": "2025-07-14T18:44:29.429608Z"
    }
   },
   "cell_type": "code",
   "source": [
    "# Or as labels\n",
    "# Onehot encoding is only required for inputs, targets can remain simply classes\n",
    "target_onehot = torch.zeros(target.shape[0], 10)\n",
    "\n",
    "# Arguments:\n",
    "#   Dimension along which the following two arguments are specified\n",
    "#   Column tensor indicating the indices of the elements to scatter\n",
    "#   The value to use\n",
    "# The output and input tensors have to have same shape, so we use unsqueeze\n",
    "target_onehot.scatter_(1, target.unsqueeze(1), 1.0)"
   ],
   "id": "9d6fc664b3b682f7",
   "outputs": [
    {
     "data": {
      "text/plain": [
       "tensor([[0., 0., 0.,  ..., 0., 0., 0.],\n",
       "        [0., 0., 0.,  ..., 0., 0., 0.],\n",
       "        [0., 0., 0.,  ..., 0., 0., 0.],\n",
       "        ...,\n",
       "        [0., 0., 0.,  ..., 0., 0., 0.],\n",
       "        [0., 0., 0.,  ..., 1., 0., 0.],\n",
       "        [0., 0., 0.,  ..., 0., 0., 0.]])"
      ]
     },
     "execution_count": 67,
     "metadata": {},
     "output_type": "execute_result"
    }
   ],
   "execution_count": 67
  },
  {
   "metadata": {
    "ExecuteTime": {
     "end_time": "2025-07-14T18:44:32.349430Z",
     "start_time": "2025-07-14T18:44:32.345886Z"
    }
   },
   "cell_type": "code",
   "source": [
    "# Get mean of each column\n",
    "data_mean = torch.mean(data, dim=0)\n",
    "data_std = torch.std(data, dim=0)\n",
    "\n",
    "# Normalize/Standardize\n",
    "data_norm = (data - data_mean) / data_std"
   ],
   "id": "4f09e0ff94ae706c",
   "outputs": [],
   "execution_count": 68
  },
  {
   "metadata": {
    "ExecuteTime": {
     "end_time": "2025-07-14T18:44:33.666908Z",
     "start_time": "2025-07-14T18:44:33.662787Z"
    }
   },
   "cell_type": "code",
   "source": [
    "# Find bad wines\n",
    "bad_indexes = target <= 3\n",
    "bad_indexes.shape, bad_indexes.dtype, bad_indexes.sum()"
   ],
   "id": "92800bcdb33783c0",
   "outputs": [
    {
     "data": {
      "text/plain": [
       "(torch.Size([4898]), torch.bool, tensor(20))"
      ]
     },
     "execution_count": 69,
     "metadata": {},
     "output_type": "execute_result"
    }
   ],
   "execution_count": 69
  },
  {
   "metadata": {
    "ExecuteTime": {
     "end_time": "2025-07-14T18:44:34.329457Z",
     "start_time": "2025-07-14T18:44:34.324802Z"
    }
   },
   "cell_type": "code",
   "source": [
    "bad_data = data[bad_indexes]\n",
    "bad_data.shape"
   ],
   "id": "21f68a04a4c6ae07",
   "outputs": [
    {
     "data": {
      "text/plain": [
       "torch.Size([20, 11])"
      ]
     },
     "execution_count": 70,
     "metadata": {},
     "output_type": "execute_result"
    }
   ],
   "execution_count": 70
  },
  {
   "metadata": {
    "ExecuteTime": {
     "end_time": "2025-07-14T18:44:34.884432Z",
     "start_time": "2025-07-14T18:44:34.881876Z"
    }
   },
   "cell_type": "code",
   "source": [
    "mid_data = data[(target > 3) & (target < 7)]\n",
    "good_data = data[(target >= 7)]"
   ],
   "id": "7b6384b30da94ec0",
   "outputs": [],
   "execution_count": 71
  },
  {
   "metadata": {
    "ExecuteTime": {
     "end_time": "2025-07-14T18:44:35.315943Z",
     "start_time": "2025-07-14T18:44:35.312455Z"
    }
   },
   "cell_type": "code",
   "source": [
    "bad_mean = torch.mean(bad_data, dim=0)\n",
    "mid_mean = torch.mean(mid_data, dim=0)\n",
    "good_mean = torch.mean(good_data, dim=0)"
   ],
   "id": "ff38f1d4ee460ead",
   "outputs": [],
   "execution_count": 72
  },
  {
   "metadata": {
    "ExecuteTime": {
     "end_time": "2025-07-14T18:44:36.070712Z",
     "start_time": "2025-07-14T18:44:36.066457Z"
    }
   },
   "cell_type": "code",
   "source": [
    "for i, args in enumerate(zip(col_list, bad_mean, mid_mean, good_mean)):\n",
    "    print('{:2} {:20} {:6.2f} {:6.2f} {:6.2f}'.format(i, *args))"
   ],
   "id": "57232aa33d4f4e7c",
   "outputs": [
    {
     "name": "stdout",
     "output_type": "stream",
     "text": [
      " 0 fixed acidity          7.60   6.89   6.73\n",
      " 1 volatile acidity       0.33   0.28   0.27\n",
      " 2 citric acid            0.34   0.34   0.33\n",
      " 3 residual sugar         6.39   6.71   5.26\n",
      " 4 chlorides              0.05   0.05   0.04\n",
      " 5 free sulfur dioxide   53.33  35.42  34.55\n",
      " 6 total sulfur dioxide 170.60 141.83 125.25\n",
      " 7 density                0.99   0.99   0.99\n",
      " 8 pH                     3.19   3.18   3.22\n",
      " 9 sulphates              0.47   0.49   0.50\n",
      "10 alcohol               10.34  10.26  11.42\n"
     ]
    }
   ],
   "execution_count": 73
  },
  {
   "metadata": {
    "ExecuteTime": {
     "end_time": "2025-07-14T18:46:18.165284Z",
     "start_time": "2025-07-14T18:46:18.160240Z"
    }
   },
   "cell_type": "code",
   "source": [
    "total_sulfur_threshold = 141.83\n",
    "total_sulfur_data = data[:, 6]\n",
    "predicted_indices = torch.lt(total_sulfur_data, total_sulfur_threshold)\n",
    "predicted_indices.shape, predicted_indices.dtype, predicted_indices.sum()"
   ],
   "id": "1fe2e958e7658b39",
   "outputs": [
    {
     "data": {
      "text/plain": [
       "(torch.Size([4898]), torch.bool, tensor(2727))"
      ]
     },
     "execution_count": 74,
     "metadata": {},
     "output_type": "execute_result"
    }
   ],
   "execution_count": 74
  },
  {
   "metadata": {
    "ExecuteTime": {
     "end_time": "2025-07-14T18:46:53.688813Z",
     "start_time": "2025-07-14T18:46:53.684399Z"
    }
   },
   "cell_type": "code",
   "source": [
    "actual_indices = target > 5\n",
    "actual_indices.shape, actual_indices.dtype, actual_indices.sum()"
   ],
   "id": "9e8308671a5f35f1",
   "outputs": [
    {
     "data": {
      "text/plain": [
       "(torch.Size([4898]), torch.bool, tensor(3258))"
      ]
     },
     "execution_count": 76,
     "metadata": {},
     "output_type": "execute_result"
    }
   ],
   "execution_count": 76
  },
  {
   "metadata": {
    "ExecuteTime": {
     "end_time": "2025-07-14T18:48:28.475877Z",
     "start_time": "2025-07-14T18:48:28.470987Z"
    }
   },
   "cell_type": "code",
   "source": [
    "n_matches = torch.sum(actual_indices & predicted_indices).item()\n",
    "n_predicted = torch.sum(predicted_indices).item()\n",
    "n_actual = torch.sum(actual_indices).item()\n",
    "n_matches, n_matches / n_predicted, n_matches / n_actual"
   ],
   "id": "84ccfdaed2c375b3",
   "outputs": [
    {
     "data": {
      "text/plain": [
       "(2018, 0.74000733406674, 0.6193984039287906)"
      ]
     },
     "execution_count": 77,
     "metadata": {},
     "output_type": "execute_result"
    }
   ],
   "execution_count": 77
  },
  {
   "metadata": {},
   "cell_type": "markdown",
   "source": "## Time-Series Data",
   "id": "c9e28eff13ed1475"
  },
  {
   "metadata": {
    "ExecuteTime": {
     "end_time": "2025-07-14T19:00:25.796579Z",
     "start_time": "2025-07-14T19:00:25.767403Z"
    }
   },
   "cell_type": "code",
   "source": [
    "bikes_numpy = np.loadtxt(\n",
    "    'data/ch4/bike-sharing-dataset/hour-fixed.csv',\n",
    "    dtype=np.float32,\n",
    "    delimiter=',',\n",
    "    skiprows=1,\n",
    "    converters={1: lambda x: float(x[8:10])}\n",
    ")\n",
    "bikes = torch.from_numpy(bikes_numpy)\n",
    "bikes.shape, bikes.stride()"
   ],
   "id": "6f667326bc989d11",
   "outputs": [
    {
     "data": {
      "text/plain": [
       "(torch.Size([17520, 17]), (17, 1))"
      ]
     },
     "execution_count": 81,
     "metadata": {},
     "output_type": "execute_result"
    }
   ],
   "execution_count": 81
  },
  {
   "metadata": {},
   "cell_type": "code",
   "outputs": [],
   "execution_count": null,
   "source": "",
   "id": "850dbd9e05146111"
  }
 ],
 "metadata": {
  "kernelspec": {
   "display_name": "Python 3",
   "language": "python",
   "name": "python3"
  },
  "language_info": {
   "codemirror_mode": {
    "name": "ipython",
    "version": 2
   },
   "file_extension": ".py",
   "mimetype": "text/x-python",
   "name": "python",
   "nbconvert_exporter": "python",
   "pygments_lexer": "ipython2",
   "version": "2.7.6"
  }
 },
 "nbformat": 4,
 "nbformat_minor": 5
}
