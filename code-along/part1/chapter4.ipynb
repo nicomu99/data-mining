{
 "cells": [
  {
   "metadata": {},
   "cell_type": "markdown",
   "source": "## Image Data",
   "id": "f8dfe1571cb4c014"
  },
  {
   "cell_type": "code",
   "id": "initial_id",
   "metadata": {
    "collapsed": true,
    "ExecuteTime": {
     "end_time": "2025-07-14T18:11:38.520781Z",
     "start_time": "2025-07-14T18:11:38.517646Z"
    }
   },
   "source": [
    "import os\n",
    "\n",
    "import torch\n",
    "import imageio.v2 as iio"
   ],
   "outputs": [],
   "execution_count": 20
  },
  {
   "metadata": {
    "ExecuteTime": {
     "end_time": "2025-07-14T17:49:09.222806Z",
     "start_time": "2025-07-14T17:49:09.211088Z"
    }
   },
   "cell_type": "code",
   "source": [
    "img_arr = iio.imread('data/bobby.jpg')\n",
    "\n",
    "# (height, width, channels)\n",
    "img_arr.shape"
   ],
   "id": "ce14283425bb1c36",
   "outputs": [
    {
     "data": {
      "text/plain": [
       "(720, 1280, 3)"
      ]
     },
     "execution_count": 9,
     "metadata": {},
     "output_type": "execute_result"
    }
   ],
   "execution_count": 9
  },
  {
   "metadata": {
    "ExecuteTime": {
     "end_time": "2025-07-14T17:49:26.186837Z",
     "start_time": "2025-07-14T17:49:26.183029Z"
    }
   },
   "cell_type": "code",
   "source": [
    "# Numpy arrays perfect for converting to tensors\n",
    "type(img_arr)"
   ],
   "id": "d7a4821cb399fc31",
   "outputs": [
    {
     "data": {
      "text/plain": [
       "numpy.ndarray"
      ]
     },
     "execution_count": 10,
     "metadata": {},
     "output_type": "execute_result"
    }
   ],
   "execution_count": 10
  },
  {
   "metadata": {
    "ExecuteTime": {
     "end_time": "2025-07-14T17:50:27.236717Z",
     "start_time": "2025-07-14T17:50:27.230519Z"
    }
   },
   "cell_type": "code",
   "source": [
    "# PyTorch needs shape (channels, height, width)\n",
    "img = torch.from_numpy(img_arr)\n",
    "\n",
    "# permute() simply requires the desired ordering of the dimensions\n",
    "# and works inplace (also changing img will change out)\n",
    "out = img.permute(2, 0, 1)\n",
    "out.shape"
   ],
   "id": "d1e5a5916b9c75a9",
   "outputs": [
    {
     "data": {
      "text/plain": [
       "torch.Size([3, 720, 1280])"
      ]
     },
     "execution_count": 13,
     "metadata": {},
     "output_type": "execute_result"
    }
   ],
   "execution_count": 13
  },
  {
   "metadata": {
    "ExecuteTime": {
     "end_time": "2025-07-14T17:54:34.652681Z",
     "start_time": "2025-07-14T17:54:34.647896Z"
    }
   },
   "cell_type": "code",
   "source": [
    "# To build up a stack of tensors, preallocate a tensor of the desired size\n",
    "batch_size = 3\n",
    "batch = torch.zeros(batch_size, 3, 256, 256, dtype=torch.uint8)"
   ],
   "id": "60d03e97ac37d2a2",
   "outputs": [],
   "execution_count": 14
  },
  {
   "metadata": {
    "ExecuteTime": {
     "end_time": "2025-07-14T18:02:26.374Z",
     "start_time": "2025-07-14T18:02:26.353376Z"
    }
   },
   "cell_type": "code",
   "source": [
    "# Load data into the prepared tensor\n",
    "data_dir = 'data/ch4/image-cats/'\n",
    "filenames = [name for name in os.listdir(data_dir) if os.path.splitext(name)[-1] == '.png']\n",
    "for i, filename in enumerate(filenames):\n",
    "    img_arr = iio.imread(os.path.join(data_dir, filename))\n",
    "    img_t = torch.from_numpy(img_arr)\n",
    "    img_t = img_t.permute(2, 0, 1)\n",
    "    img_t = img_t[:3]   # Sometimes, images have an alpha channel\n",
    "    batch[i] = img_t    # Add to batch"
   ],
   "id": "2b788fc5136cdfb",
   "outputs": [],
   "execution_count": 16
  },
  {
   "metadata": {
    "ExecuteTime": {
     "end_time": "2025-07-14T18:05:39.236220Z",
     "start_time": "2025-07-14T18:05:39.229334Z"
    }
   },
   "cell_type": "code",
   "source": [
    "# Normalize: NNs generally work best with inputs between 0 and 1 or -1 and 1\n",
    "\n",
    "# One possibility: Simply scale down\n",
    "batch = batch.float()\n",
    "batch /= 255\n",
    "\n",
    "# Or: standardize each channel\n",
    "n_channels = batch.shape[1]\n",
    "for c in range(n_channels):\n",
    "    mean = torch.mean(batch[:, c])\n",
    "    std = torch.std(batch[:, c])\n",
    "    batch[:, c] = (batch[:, c] - mean) / std"
   ],
   "id": "179b0fc156fa82dd",
   "outputs": [],
   "execution_count": 18
  },
  {
   "metadata": {},
   "cell_type": "markdown",
   "source": [
    "## Medical Data\n",
    "\n",
    "Of a CT scan"
   ],
   "id": "57f3c19783f34f82"
  },
  {
   "metadata": {
    "ExecuteTime": {
     "end_time": "2025-07-14T18:12:59.291835Z",
     "start_time": "2025-07-14T18:12:59.154661Z"
    }
   },
   "cell_type": "code",
   "source": [
    "dir_path = 'data/ch4/volumetric-dicom/2-LUNG 3.0  B70f-04083'\n",
    "vol_arr = iio.volread(dir_path, 'DICOM')\n",
    "vol_arr.shape, type(vol_arr)"
   ],
   "id": "4e8ffea91776a090",
   "outputs": [
    {
     "name": "stdout",
     "output_type": "stream",
     "text": [
      "Reading DICOM (examining files): 99/99 files (100.0%)\n",
      "  Found 1 correct series.\n",
      "Reading DICOM (loading data): 99/99  (100.0%)\n"
     ]
    },
    {
     "data": {
      "text/plain": [
       "((99, 512, 512), imageio.core.util.Array)"
      ]
     },
     "execution_count": 23,
     "metadata": {},
     "output_type": "execute_result"
    }
   ],
   "execution_count": 23
  },
  {
   "metadata": {
    "ExecuteTime": {
     "end_time": "2025-07-14T18:13:43.685525Z",
     "start_time": "2025-07-14T18:13:43.670096Z"
    }
   },
   "cell_type": "code",
   "source": [
    "# Add channel dimension\n",
    "vol = torch.from_numpy(vol_arr).float()\n",
    "vol = torch.unsqueeze(vol, 0)\n",
    "vol.shape"
   ],
   "id": "10aa1126a34c5200",
   "outputs": [
    {
     "data": {
      "text/plain": [
       "torch.Size([1, 99, 512, 512])"
      ]
     },
     "execution_count": 26,
     "metadata": {},
     "output_type": "execute_result"
    }
   ],
   "execution_count": 26
  },
  {
   "metadata": {},
   "cell_type": "markdown",
   "source": "## Tabular Data",
   "id": "6c8af914e5b952fd"
  },
  {
   "metadata": {
    "ExecuteTime": {
     "end_time": "2025-07-14T18:44:23.869894Z",
     "start_time": "2025-07-14T18:44:23.850148Z"
    }
   },
   "cell_type": "code",
   "source": [
    "import csv\n",
    "import numpy as np\n",
    "\n",
    "wine_path = 'data/ch4/tabular-wine/winequality-white.csv'\n",
    "wine_np = np.loadtxt(wine_path, dtype=np.float32, delimiter=';', skiprows=1)\n",
    "wine_np.shape"
   ],
   "id": "bcf73873ef8d4816",
   "outputs": [
    {
     "data": {
      "text/plain": [
       "(4898, 12)"
      ]
     },
     "execution_count": 60,
     "metadata": {},
     "output_type": "execute_result"
    }
   ],
   "execution_count": 60
  },
  {
   "metadata": {
    "ExecuteTime": {
     "end_time": "2025-07-14T18:44:24.307276Z",
     "start_time": "2025-07-14T18:44:24.302072Z"
    }
   },
   "cell_type": "code",
   "source": [
    "col_list = next(csv.reader(open(wine_path), delimiter=';'))\n",
    "col_list"
   ],
   "id": "c578e6a4e5f85ae9",
   "outputs": [
    {
     "data": {
      "text/plain": [
       "['fixed acidity',\n",
       " 'volatile acidity',\n",
       " 'citric acid',\n",
       " 'residual sugar',\n",
       " 'chlorides',\n",
       " 'free sulfur dioxide',\n",
       " 'total sulfur dioxide',\n",
       " 'density',\n",
       " 'pH',\n",
       " 'sulphates',\n",
       " 'alcohol',\n",
       " 'quality']"
      ]
     },
     "execution_count": 61,
     "metadata": {},
     "output_type": "execute_result"
    }
   ],
   "execution_count": 61
  },
  {
   "metadata": {
    "ExecuteTime": {
     "end_time": "2025-07-14T18:44:25.592397Z",
     "start_time": "2025-07-14T18:44:25.586498Z"
    }
   },
   "cell_type": "code",
   "source": [
    "wine_t = torch.from_numpy(wine_np)\n",
    "wine_t.shape, wine_t.dtype"
   ],
   "id": "d11876c599d1e2db",
   "outputs": [
    {
     "data": {
      "text/plain": [
       "(torch.Size([4898, 12]), torch.float32)"
      ]
     },
     "execution_count": 62,
     "metadata": {},
     "output_type": "execute_result"
    }
   ],
   "execution_count": 62
  },
  {
   "metadata": {
    "ExecuteTime": {
     "end_time": "2025-07-14T18:44:26.226413Z",
     "start_time": "2025-07-14T18:44:26.221296Z"
    }
   },
   "cell_type": "code",
   "source": [
    "# Split into inputs and targets\n",
    "data = wine_t[:, :-1]\n",
    "data, data.shape"
   ],
   "id": "34aa4cb811087981",
   "outputs": [
    {
     "data": {
      "text/plain": [
       "(tensor([[ 7.0000,  0.2700,  0.3600,  ...,  3.0000,  0.4500,  8.8000],\n",
       "         [ 6.3000,  0.3000,  0.3400,  ...,  3.3000,  0.4900,  9.5000],\n",
       "         [ 8.1000,  0.2800,  0.4000,  ...,  3.2600,  0.4400, 10.1000],\n",
       "         ...,\n",
       "         [ 6.5000,  0.2400,  0.1900,  ...,  2.9900,  0.4600,  9.4000],\n",
       "         [ 5.5000,  0.2900,  0.3000,  ...,  3.3400,  0.3800, 12.8000],\n",
       "         [ 6.0000,  0.2100,  0.3800,  ...,  3.2600,  0.3200, 11.8000]]),\n",
       " torch.Size([4898, 11]))"
      ]
     },
     "execution_count": 63,
     "metadata": {},
     "output_type": "execute_result"
    }
   ],
   "execution_count": 63
  },
  {
   "metadata": {
    "ExecuteTime": {
     "end_time": "2025-07-14T18:44:26.772194Z",
     "start_time": "2025-07-14T18:44:26.767807Z"
    }
   },
   "cell_type": "code",
   "source": [
    "target = wine_t[:, -1]\n",
    "target, target.shape"
   ],
   "id": "936c9bd81c847d24",
   "outputs": [
    {
     "data": {
      "text/plain": [
       "(tensor([6., 6., 6.,  ..., 6., 7., 6.]), torch.Size([4898]))"
      ]
     },
     "execution_count": 64,
     "metadata": {},
     "output_type": "execute_result"
    }
   ],
   "execution_count": 64
  },
  {
   "metadata": {
    "ExecuteTime": {
     "end_time": "2025-07-14T18:44:27.857582Z",
     "start_time": "2025-07-14T18:44:27.853036Z"
    }
   },
   "cell_type": "code",
   "source": "target",
   "id": "4dad55192e9908f1",
   "outputs": [
    {
     "data": {
      "text/plain": [
       "tensor([6., 6., 6.,  ..., 6., 7., 6.])"
      ]
     },
     "execution_count": 65,
     "metadata": {},
     "output_type": "execute_result"
    }
   ],
   "execution_count": 65
  },
  {
   "metadata": {
    "ExecuteTime": {
     "end_time": "2025-07-14T18:44:28.623207Z",
     "start_time": "2025-07-14T18:44:28.620281Z"
    }
   },
   "cell_type": "code",
   "source": [
    "# We can treat targets like numbers for a regression\n",
    "target = target.long()"
   ],
   "id": "3003c4a2b19154c5",
   "outputs": [],
   "execution_count": 66
  },
  {
   "metadata": {
    "ExecuteTime": {
     "end_time": "2025-07-14T18:44:29.434717Z",
     "start_time": "2025-07-14T18:44:29.429608Z"
    }
   },
   "cell_type": "code",
   "source": [
    "# Or as labels\n",
    "# Onehot encoding is only required for inputs, targets can remain simply classes\n",
    "target_onehot = torch.zeros(target.shape[0], 10)\n",
    "\n",
    "# Arguments:\n",
    "#   Dimension along which the following two arguments are specified\n",
    "#   Column tensor indicating the indices of the elements to scatter\n",
    "#   The value to use\n",
    "# The output and input tensors have to have same shape, so we use unsqueeze\n",
    "target_onehot.scatter_(1, target.unsqueeze(1), 1.0)"
   ],
   "id": "9d6fc664b3b682f7",
   "outputs": [
    {
     "data": {
      "text/plain": [
       "tensor([[0., 0., 0.,  ..., 0., 0., 0.],\n",
       "        [0., 0., 0.,  ..., 0., 0., 0.],\n",
       "        [0., 0., 0.,  ..., 0., 0., 0.],\n",
       "        ...,\n",
       "        [0., 0., 0.,  ..., 0., 0., 0.],\n",
       "        [0., 0., 0.,  ..., 1., 0., 0.],\n",
       "        [0., 0., 0.,  ..., 0., 0., 0.]])"
      ]
     },
     "execution_count": 67,
     "metadata": {},
     "output_type": "execute_result"
    }
   ],
   "execution_count": 67
  },
  {
   "metadata": {
    "ExecuteTime": {
     "end_time": "2025-07-14T18:44:32.349430Z",
     "start_time": "2025-07-14T18:44:32.345886Z"
    }
   },
   "cell_type": "code",
   "source": [
    "# Get mean of each column\n",
    "data_mean = torch.mean(data, dim=0)\n",
    "data_std = torch.std(data, dim=0)\n",
    "\n",
    "# Normalize/Standardize\n",
    "data_norm = (data - data_mean) / data_std"
   ],
   "id": "4f09e0ff94ae706c",
   "outputs": [],
   "execution_count": 68
  },
  {
   "metadata": {
    "ExecuteTime": {
     "end_time": "2025-07-14T18:44:33.666908Z",
     "start_time": "2025-07-14T18:44:33.662787Z"
    }
   },
   "cell_type": "code",
   "source": [
    "# Find bad wines\n",
    "bad_indexes = target <= 3\n",
    "bad_indexes.shape, bad_indexes.dtype, bad_indexes.sum()"
   ],
   "id": "92800bcdb33783c0",
   "outputs": [
    {
     "data": {
      "text/plain": [
       "(torch.Size([4898]), torch.bool, tensor(20))"
      ]
     },
     "execution_count": 69,
     "metadata": {},
     "output_type": "execute_result"
    }
   ],
   "execution_count": 69
  },
  {
   "metadata": {
    "ExecuteTime": {
     "end_time": "2025-07-14T18:44:34.329457Z",
     "start_time": "2025-07-14T18:44:34.324802Z"
    }
   },
   "cell_type": "code",
   "source": [
    "bad_data = data[bad_indexes]\n",
    "bad_data.shape"
   ],
   "id": "21f68a04a4c6ae07",
   "outputs": [
    {
     "data": {
      "text/plain": [
       "torch.Size([20, 11])"
      ]
     },
     "execution_count": 70,
     "metadata": {},
     "output_type": "execute_result"
    }
   ],
   "execution_count": 70
  },
  {
   "metadata": {
    "ExecuteTime": {
     "end_time": "2025-07-14T18:44:34.884432Z",
     "start_time": "2025-07-14T18:44:34.881876Z"
    }
   },
   "cell_type": "code",
   "source": [
    "mid_data = data[(target > 3) & (target < 7)]\n",
    "good_data = data[(target >= 7)]"
   ],
   "id": "7b6384b30da94ec0",
   "outputs": [],
   "execution_count": 71
  },
  {
   "metadata": {
    "ExecuteTime": {
     "end_time": "2025-07-14T18:44:35.315943Z",
     "start_time": "2025-07-14T18:44:35.312455Z"
    }
   },
   "cell_type": "code",
   "source": [
    "bad_mean = torch.mean(bad_data, dim=0)\n",
    "mid_mean = torch.mean(mid_data, dim=0)\n",
    "good_mean = torch.mean(good_data, dim=0)"
   ],
   "id": "ff38f1d4ee460ead",
   "outputs": [],
   "execution_count": 72
  },
  {
   "metadata": {
    "ExecuteTime": {
     "end_time": "2025-07-14T18:44:36.070712Z",
     "start_time": "2025-07-14T18:44:36.066457Z"
    }
   },
   "cell_type": "code",
   "source": [
    "for i, args in enumerate(zip(col_list, bad_mean, mid_mean, good_mean)):\n",
    "    print('{:2} {:20} {:6.2f} {:6.2f} {:6.2f}'.format(i, *args))"
   ],
   "id": "57232aa33d4f4e7c",
   "outputs": [
    {
     "name": "stdout",
     "output_type": "stream",
     "text": [
      " 0 fixed acidity          7.60   6.89   6.73\n",
      " 1 volatile acidity       0.33   0.28   0.27\n",
      " 2 citric acid            0.34   0.34   0.33\n",
      " 3 residual sugar         6.39   6.71   5.26\n",
      " 4 chlorides              0.05   0.05   0.04\n",
      " 5 free sulfur dioxide   53.33  35.42  34.55\n",
      " 6 total sulfur dioxide 170.60 141.83 125.25\n",
      " 7 density                0.99   0.99   0.99\n",
      " 8 pH                     3.19   3.18   3.22\n",
      " 9 sulphates              0.47   0.49   0.50\n",
      "10 alcohol               10.34  10.26  11.42\n"
     ]
    }
   ],
   "execution_count": 73
  },
  {
   "metadata": {
    "ExecuteTime": {
     "end_time": "2025-07-14T18:46:18.165284Z",
     "start_time": "2025-07-14T18:46:18.160240Z"
    }
   },
   "cell_type": "code",
   "source": [
    "total_sulfur_threshold = 141.83\n",
    "total_sulfur_data = data[:, 6]\n",
    "predicted_indices = torch.lt(total_sulfur_data, total_sulfur_threshold)\n",
    "predicted_indices.shape, predicted_indices.dtype, predicted_indices.sum()"
   ],
   "id": "1fe2e958e7658b39",
   "outputs": [
    {
     "data": {
      "text/plain": [
       "(torch.Size([4898]), torch.bool, tensor(2727))"
      ]
     },
     "execution_count": 74,
     "metadata": {},
     "output_type": "execute_result"
    }
   ],
   "execution_count": 74
  },
  {
   "metadata": {
    "ExecuteTime": {
     "end_time": "2025-07-14T18:46:53.688813Z",
     "start_time": "2025-07-14T18:46:53.684399Z"
    }
   },
   "cell_type": "code",
   "source": [
    "actual_indices = target > 5\n",
    "actual_indices.shape, actual_indices.dtype, actual_indices.sum()"
   ],
   "id": "9e8308671a5f35f1",
   "outputs": [
    {
     "data": {
      "text/plain": [
       "(torch.Size([4898]), torch.bool, tensor(3258))"
      ]
     },
     "execution_count": 76,
     "metadata": {},
     "output_type": "execute_result"
    }
   ],
   "execution_count": 76
  },
  {
   "metadata": {
    "ExecuteTime": {
     "end_time": "2025-07-14T18:48:28.475877Z",
     "start_time": "2025-07-14T18:48:28.470987Z"
    }
   },
   "cell_type": "code",
   "source": [
    "n_matches = torch.sum(actual_indices & predicted_indices).item()\n",
    "n_predicted = torch.sum(predicted_indices).item()\n",
    "n_actual = torch.sum(actual_indices).item()\n",
    "n_matches, n_matches / n_predicted, n_matches / n_actual"
   ],
   "id": "84ccfdaed2c375b3",
   "outputs": [
    {
     "data": {
      "text/plain": [
       "(2018, 0.74000733406674, 0.6193984039287906)"
      ]
     },
     "execution_count": 77,
     "metadata": {},
     "output_type": "execute_result"
    }
   ],
   "execution_count": 77
  },
  {
   "metadata": {},
   "cell_type": "markdown",
   "source": "## Time-Series Data",
   "id": "c9e28eff13ed1475"
  },
  {
   "metadata": {
    "ExecuteTime": {
     "end_time": "2025-07-15T07:11:15.827150Z",
     "start_time": "2025-07-15T07:11:14.247185Z"
    }
   },
   "cell_type": "code",
   "source": [
    "import torch\n",
    "import numpy as np"
   ],
   "id": "55490cde336dfaa4",
   "outputs": [],
   "execution_count": 2
  },
  {
   "metadata": {
    "ExecuteTime": {
     "end_time": "2025-07-15T07:11:17.157607Z",
     "start_time": "2025-07-15T07:11:17.113939Z"
    }
   },
   "cell_type": "code",
   "source": [
    "bikes_numpy = np.loadtxt(\n",
    "    'data/ch4/bike-sharing-dataset/hour-fixed.csv',\n",
    "    dtype=np.float32,\n",
    "    delimiter=',',\n",
    "    skiprows=1,\n",
    "    converters={1: lambda x: float(x[8:10])}    # Date is stored as yyyy-mm-dd\n",
    ")\n",
    "bikes = torch.from_numpy(bikes_numpy)\n",
    "\n",
    "# Data is sorted by date first and time of day second\n",
    "bikes.shape, bikes.stride()"
   ],
   "id": "6f667326bc989d11",
   "outputs": [
    {
     "data": {
      "text/plain": [
       "(torch.Size([17520, 17]), (17, 1))"
      ]
     },
     "execution_count": 3,
     "metadata": {},
     "output_type": "execute_result"
    }
   ],
   "execution_count": 3
  },
  {
   "metadata": {
    "ExecuteTime": {
     "end_time": "2025-07-15T07:13:14.255638Z",
     "start_time": "2025-07-15T07:13:14.250867Z"
    }
   },
   "cell_type": "code",
   "source": [
    "# view() takes in the desired dimension:\n",
    "#   -1 is inferred from the other dimensions\n",
    "#   24 comes from the hours per day\n",
    "#   bikes.shape[1] returns the number of columns\n",
    "# view() only changes the number of dimensions and striding information, memory remains the same -> very efficient\n",
    "daily_bikes = bikes.view(-1, 24, bikes.shape[1])\n",
    "daily_bikes.shape, daily_bikes.stride()"
   ],
   "id": "32603a1fa7c6a4e6",
   "outputs": [
    {
     "data": {
      "text/plain": [
       "(torch.Size([730, 24, 17]), (408, 17, 1))"
      ]
     },
     "execution_count": 5,
     "metadata": {},
     "output_type": "execute_result"
    }
   ],
   "execution_count": 5
  },
  {
   "metadata": {
    "ExecuteTime": {
     "end_time": "2025-07-15T07:26:18.962579Z",
     "start_time": "2025-07-15T07:26:18.958938Z"
    }
   },
   "cell_type": "code",
   "source": [
    "# Both stay contiguous after view\n",
    "# For daily bikes: In memory we first have the 17 columns of the first entry\n",
    "# Then the next 17 columns of the next hour... until we reach the next day after 24 of these tuples\n",
    "daily_bikes.is_contiguous(), bikes.is_contiguous()"
   ],
   "id": "a8068aeb990e8d6e",
   "outputs": [
    {
     "data": {
      "text/plain": [
       "(True, True)"
      ]
     },
     "execution_count": 8,
     "metadata": {},
     "output_type": "execute_result"
    }
   ],
   "execution_count": 8
  },
  {
   "metadata": {
    "ExecuteTime": {
     "end_time": "2025-07-15T07:37:48.564321Z",
     "start_time": "2025-07-15T07:37:48.560086Z"
    }
   },
   "cell_type": "code",
   "source": [
    "# Desired ordering is (num_days, channels, hour_of_day)\n",
    "daily_bikes = daily_bikes.transpose(1, 2)\n",
    "daily_bikes.shape, daily_bikes.stride(), daily_bikes.is_contiguous()"
   ],
   "id": "324944954eb5b125",
   "outputs": [
    {
     "data": {
      "text/plain": [
       "(torch.Size([730, 17, 24]), (408, 1, 17), False)"
      ]
     },
     "execution_count": 16,
     "metadata": {},
     "output_type": "execute_result"
    }
   ],
   "execution_count": 16
  },
  {
   "metadata": {
    "ExecuteTime": {
     "end_time": "2025-07-15T07:40:27.580325Z",
     "start_time": "2025-07-15T07:40:27.575330Z"
    }
   },
   "cell_type": "code",
   "source": [
    "# Handle categorical/ordinal variables\n",
    "# Limit to just one day for now\n",
    "first_day = bikes[:24].long()\n",
    "weather_onehot = torch.zeros(first_day.shape[0], 4)\n",
    "\n",
    "# This is the weather condition going from 1 to 4\n",
    "first_day[:, 9]"
   ],
   "id": "925b8ef0468d78ca",
   "outputs": [
    {
     "data": {
      "text/plain": [
       "tensor([1, 1, 1, 1, 1, 2, 1, 1, 1, 1, 1, 1, 1, 2, 2, 2, 2, 2, 3, 3, 2, 2, 2, 2])"
      ]
     },
     "execution_count": 19,
     "metadata": {},
     "output_type": "execute_result"
    }
   ],
   "execution_count": 19
  },
  {
   "metadata": {
    "ExecuteTime": {
     "end_time": "2025-07-15T07:44:21.673396Z",
     "start_time": "2025-07-15T07:44:21.669392Z"
    }
   },
   "cell_type": "code",
   "source": "first_day[:, 9].unsqueeze(1).shape, weather_onehot.shape",
   "id": "b7354f0717528274",
   "outputs": [
    {
     "data": {
      "text/plain": [
       "(torch.Size([24, 1]), torch.Size([24, 4]))"
      ]
     },
     "execution_count": 21,
     "metadata": {},
     "output_type": "execute_result"
    }
   ],
   "execution_count": 21
  },
  {
   "metadata": {
    "ExecuteTime": {
     "end_time": "2025-07-15T07:50:32.255375Z",
     "start_time": "2025-07-15T07:50:32.248871Z"
    }
   },
   "cell_type": "code",
   "source": [
    "# For each row i in weather_onehot, set the value to 1.0 at the index first_day[i, 9]\n",
    "# So if first_day[i, 9] = 1, row i column 1 of weather_onehot is set to 1.0\n",
    "# We unsqueeze first_day, because it needs to have same dimensionality as target tensor\n",
    "weather_onehot.scatter_(\n",
    "    dim=1,  # Axis along which to index, in this case the columns\n",
    "    index=first_day[:, 9].unsqueeze(1).long() - 1,  # Decrease by 1 since values go from 1 to 4\n",
    "    value=1.0\n",
    ")"
   ],
   "id": "6c31bb2a9e2a2557",
   "outputs": [
    {
     "data": {
      "text/plain": [
       "tensor([[1., 0., 0., 0.],\n",
       "        [1., 0., 0., 0.],\n",
       "        [1., 0., 0., 0.],\n",
       "        [1., 0., 0., 0.],\n",
       "        [1., 0., 0., 0.],\n",
       "        [0., 1., 0., 0.],\n",
       "        [1., 0., 0., 0.],\n",
       "        [1., 0., 0., 0.],\n",
       "        [1., 0., 0., 0.],\n",
       "        [1., 0., 0., 0.],\n",
       "        [1., 0., 0., 0.],\n",
       "        [1., 0., 0., 0.],\n",
       "        [1., 0., 0., 0.],\n",
       "        [0., 1., 0., 0.],\n",
       "        [0., 1., 0., 0.],\n",
       "        [0., 1., 0., 0.],\n",
       "        [0., 1., 0., 0.],\n",
       "        [0., 1., 0., 0.],\n",
       "        [0., 0., 1., 0.],\n",
       "        [0., 0., 1., 0.],\n",
       "        [0., 1., 0., 0.],\n",
       "        [0., 1., 0., 0.],\n",
       "        [0., 1., 0., 0.],\n",
       "        [0., 1., 0., 0.]])"
      ]
     },
     "execution_count": 23,
     "metadata": {},
     "output_type": "execute_result"
    }
   ],
   "execution_count": 23
  },
  {
   "metadata": {
    "ExecuteTime": {
     "end_time": "2025-07-15T07:50:34.375588Z",
     "start_time": "2025-07-15T07:50:34.370722Z"
    }
   },
   "cell_type": "code",
   "source": [
    "# Now concatenate along the columns (dim 1) -> add one hot encoded weather as columns\n",
    "torch.cat((bikes[:24], weather_onehot), 1)[:1]"
   ],
   "id": "121fbc4218e7ef6d",
   "outputs": [
    {
     "data": {
      "text/plain": [
       "tensor([[ 1.0000,  1.0000,  1.0000,  0.0000,  1.0000,  0.0000,  0.0000,  6.0000,\n",
       "          0.0000,  1.0000,  0.2400,  0.2879,  0.8100,  0.0000,  3.0000, 13.0000,\n",
       "         16.0000,  1.0000,  0.0000,  0.0000,  0.0000]])"
      ]
     },
     "execution_count": 24,
     "metadata": {},
     "output_type": "execute_result"
    }
   ],
   "execution_count": 24
  },
  {
   "metadata": {
    "ExecuteTime": {
     "end_time": "2025-07-15T07:52:43.779701Z",
     "start_time": "2025-07-15T07:52:43.776178Z"
    }
   },
   "cell_type": "code",
   "source": [
    "daily_weather_onehot = torch.zeros(daily_bikes.shape[0], 4, daily_bikes.shape[2])\n",
    "daily_weather_onehot.shape"
   ],
   "id": "7f11ad19b2c41d8f",
   "outputs": [
    {
     "data": {
      "text/plain": [
       "torch.Size([730, 4, 24])"
      ]
     },
     "execution_count": 26,
     "metadata": {},
     "output_type": "execute_result"
    }
   ],
   "execution_count": 26
  },
  {
   "metadata": {
    "ExecuteTime": {
     "end_time": "2025-07-15T07:55:00.357483Z",
     "start_time": "2025-07-15T07:55:00.350960Z"
    }
   },
   "cell_type": "code",
   "source": [
    "daily_weather_onehot.scatter_(\n",
    "    dim=1,\n",
    "    index=daily_bikes[:, 9, :].long().unsqueeze(1) - 1,\n",
    "    value=1.0\n",
    ")\n",
    "daily_bikes = torch.cat((daily_bikes, daily_weather_onehot), 1)\n",
    "daily_bikes.shape"
   ],
   "id": "8930a08683998c4f",
   "outputs": [
    {
     "data": {
      "text/plain": [
       "torch.Size([730, 21, 24])"
      ]
     },
     "execution_count": 28,
     "metadata": {},
     "output_type": "execute_result"
    }
   ],
   "execution_count": 28
  },
  {
   "metadata": {},
   "cell_type": "code",
   "outputs": [],
   "execution_count": null,
   "source": [
    "# Can also treat as ordinal and simply scale to between 0 and 1\n",
    "daily_bikes[:, 9, :] = (daily_bikes[:, 9, :] - 1) / 3.0"
   ],
   "id": "2be42ce7dfcacb38"
  },
  {
   "metadata": {
    "ExecuteTime": {
     "end_time": "2025-07-15T08:00:40.962050Z",
     "start_time": "2025-07-15T08:00:40.956656Z"
    }
   },
   "cell_type": "code",
   "source": [
    "# For quantitative variables, it would be good to scale to [0, 1] or [-1, 1]\n",
    "temp = daily_bikes[:, 10, :]\n",
    "temp_max = torch.max(temp)\n",
    "temp_min = torch.min(temp)\n",
    "daily_bikes[:, 10, :] = ((daily_bikes[:, 10, :] - temp_min) / temp_max - temp_min)\n",
    "\n",
    "# Or for [-1, 1]:\n",
    "mean = temp.mean()\n",
    "std = temp.std()\n",
    "daily_bikes[:, 10, :] = (daily_bikes[:, 10, :] - mean) / std"
   ],
   "id": "dcdbfbcf81081d2",
   "outputs": [],
   "execution_count": 32
  },
  {
   "metadata": {},
   "cell_type": "markdown",
   "source": "## Text Data",
   "id": "ce6b96fa178b6a0a"
  },
  {
   "metadata": {
    "ExecuteTime": {
     "end_time": "2025-07-15T08:03:44.443889Z",
     "start_time": "2025-07-15T08:03:44.438228Z"
    }
   },
   "cell_type": "code",
   "source": [
    "with open('data/ch4/jane-austen/1342-0.txt', encoding='utf8') as f:\n",
    "    text = f.read()"
   ],
   "id": "731ada10c64e0520",
   "outputs": [],
   "execution_count": 33
  },
  {
   "metadata": {
    "ExecuteTime": {
     "end_time": "2025-07-15T08:06:03.600155Z",
     "start_time": "2025-07-15T08:06:03.591961Z"
    }
   },
   "cell_type": "code",
   "source": [
    "# The book starts out with one-hot encoding, which is not state-of-the-art anymore\n",
    "lines = text.split('\\n')\n",
    "line = lines[200]\n",
    "line"
   ],
   "id": "fa3bcbbe43fbf10",
   "outputs": [
    {
     "data": {
      "text/plain": [
       "'“Impossible, Mr. Bennet, impossible, when I am not acquainted with him'"
      ]
     },
     "execution_count": 35,
     "metadata": {},
     "output_type": "execute_result"
    }
   ],
   "execution_count": 35
  },
  {
   "metadata": {
    "ExecuteTime": {
     "end_time": "2025-07-15T08:06:21.419910Z",
     "start_time": "2025-07-15T08:06:21.415786Z"
    }
   },
   "cell_type": "code",
   "source": [
    "letter_t = torch.zeros(len(line), 128)\n",
    "letter_t.shape"
   ],
   "id": "5188e20940d5d4f8",
   "outputs": [
    {
     "data": {
      "text/plain": [
       "torch.Size([70, 128])"
      ]
     },
     "execution_count": 37,
     "metadata": {},
     "output_type": "execute_result"
    }
   ],
   "execution_count": 37
  },
  {
   "metadata": {},
   "cell_type": "code",
   "outputs": [],
   "execution_count": null,
   "source": [
    "# One hot encoding letters\n",
    "for i, letter in enumerate(line):\n",
    "    letter_index = ord(letter) if ord(letter) < 128 else 0\n",
    "    letter_t[i, letter_index] = 1"
   ],
   "id": "7bb91ae57347d5a1"
  },
  {
   "metadata": {
    "ExecuteTime": {
     "end_time": "2025-07-15T08:10:57.554932Z",
     "start_time": "2025-07-15T08:10:57.549041Z"
    }
   },
   "cell_type": "code",
   "source": [
    "# One-hot encoding words\n",
    "def clean_words(input_str):\n",
    "    punctuation = '.,;:\"!?_-”“'\n",
    "    word_list = input_str.lower().replace('\\n', ' ').split()\n",
    "    word_list = [word.strip(punctuation) for word in word_list]\n",
    "    return word_list\n",
    "\n",
    "words_in_line = clean_words(line)\n",
    "words_in_line"
   ],
   "id": "2648e51d02b9b3e8",
   "outputs": [
    {
     "data": {
      "text/plain": [
       "['impossible',\n",
       " 'mr',\n",
       " 'bennet',\n",
       " 'impossible',\n",
       " 'when',\n",
       " 'i',\n",
       " 'am',\n",
       " 'not',\n",
       " 'acquainted',\n",
       " 'with',\n",
       " 'him']"
      ]
     },
     "execution_count": 39,
     "metadata": {},
     "output_type": "execute_result"
    }
   ],
   "execution_count": 39
  },
  {
   "metadata": {
    "ExecuteTime": {
     "end_time": "2025-07-15T08:14:29.176242Z",
     "start_time": "2025-07-15T08:14:29.137768Z"
    }
   },
   "cell_type": "code",
   "source": [
    "words = sorted(set(clean_words(text)))\n",
    "word2index_dict = {word: i for (i, word) in enumerate(words)}\n",
    "len(word2index_dict), word2index_dict['impossible']"
   ],
   "id": "e85eada74a32a41a",
   "outputs": [
    {
     "data": {
      "text/plain": [
       "(8267, 3848)"
      ]
     },
     "execution_count": 41,
     "metadata": {},
     "output_type": "execute_result"
    }
   ],
   "execution_count": 41
  },
  {
   "metadata": {
    "ExecuteTime": {
     "end_time": "2025-07-15T08:17:12.580456Z",
     "start_time": "2025-07-15T08:17:12.575113Z"
    }
   },
   "cell_type": "code",
   "source": [
    "word_t = torch.zeros(len(words_in_line), len(word2index_dict))\n",
    "for i, word in enumerate(words_in_line):\n",
    "    word_index = word2index_dict[word]\n",
    "    word_t[i, word_index] = 1\n",
    "    print('{:2} {:4} {}'.format(i, word_index, word))\n",
    "word_t.shape"
   ],
   "id": "37173f4877a67ebc",
   "outputs": [
    {
     "name": "stdout",
     "output_type": "stream",
     "text": [
      " 0 3848 impossible\n",
      " 1 4928 mr\n",
      " 2  899 bennet\n",
      " 3 3848 impossible\n",
      " 4 8049 when\n",
      " 5 3759 i\n",
      " 6  449 am\n",
      " 7 5081 not\n",
      " 8  249 acquainted\n",
      " 9 8126 with\n",
      "10 3637 him\n"
     ]
    },
    {
     "data": {
      "text/plain": [
       "torch.Size([11, 8267])"
      ]
     },
     "execution_count": 44,
     "metadata": {},
     "output_type": "execute_result"
    }
   ],
   "execution_count": 44
  },
  {
   "metadata": {},
   "cell_type": "markdown",
   "source": [
    "## Exercises\n",
    "\n",
    "### Exercise 1"
   ],
   "id": "61277742394bf8f4"
  },
  {
   "metadata": {
    "ExecuteTime": {
     "end_time": "2025-07-15T08:32:21.217511Z",
     "start_time": "2025-07-15T08:32:21.214951Z"
    }
   },
   "cell_type": "code",
   "source": [
    "import os\n",
    "import torch\n",
    "import imageio.v2 as iio"
   ],
   "id": "f43661c4a6962e18",
   "outputs": [],
   "execution_count": 50
  },
  {
   "metadata": {
    "ExecuteTime": {
     "end_time": "2025-07-15T08:31:09.418253Z",
     "start_time": "2025-07-15T08:31:09.370944Z"
    }
   },
   "cell_type": "code",
   "source": [
    "img_np = iio.imread('data/ch4/ex1/IMG_4856.jpg')\n",
    "img_np.shape"
   ],
   "id": "11813a7ac8772cb",
   "outputs": [],
   "execution_count": 47
  },
  {
   "metadata": {
    "ExecuteTime": {
     "end_time": "2025-07-15T08:44:05.070662Z",
     "start_time": "2025-07-15T08:44:05.006904Z"
    }
   },
   "cell_type": "code",
   "source": [
    "batch_size = 3\n",
    "batch = torch.zeros(batch_size, 3, 1600, 1200, dtype=torch.uint8)\n",
    "\n",
    "image_dir = 'data/ch4/ex1'\n",
    "for i, image in enumerate(os.listdir(image_dir)):\n",
    "    image_file = os.path.join(image_dir, image)\n",
    "    image_np = iio.imread(image_file)\n",
    "    image_t = torch.from_numpy(image_np)\n",
    "    image_v = image_t.permute(2, 0, 1)\n",
    "    batch[i] = image_v\n",
    "    print(f'{i:>2} {image:>3} {batch[i].float().mean():>5.4f}')"
   ],
   "id": "d13ef978cb57cd51",
   "outputs": [
    {
     "name": "stdout",
     "output_type": "stream",
     "text": [
      " 0 IMG_4856.jpg 115.0545\n",
      " 1 IMG_4857.jpg 103.5018\n",
      " 2 IMG_4858.jpg 114.7122\n"
     ]
    }
   ],
   "execution_count": 66
  },
  {
   "metadata": {
    "ExecuteTime": {
     "end_time": "2025-07-15T08:48:15.025083Z",
     "start_time": "2025-07-15T08:48:15.014690Z"
    }
   },
   "cell_type": "code",
   "source": [
    "for channel in range(3):\n",
    "    channel_pixels = batch[:, channel, :]\n",
    "    channel_mean = channel_pixels.float().mean()\n",
    "    print(f'{channel:>2} {channel_mean:5>.4f}')"
   ],
   "id": "526c0b6b462bbd27",
   "outputs": [
    {
     "name": "stdout",
     "output_type": "stream",
     "text": [
      " 0 116.9941\n",
      " 1 122.6129\n",
      " 2 93.6616\n"
     ]
    }
   ],
   "execution_count": 74
  },
  {
   "metadata": {},
   "cell_type": "markdown",
   "source": "### Exercise 2",
   "id": "8cf7bd453bc6b129"
  },
  {
   "metadata": {
    "ExecuteTime": {
     "end_time": "2025-07-15T08:54:33.739154Z",
     "start_time": "2025-07-15T08:54:33.735921Z"
    }
   },
   "cell_type": "code",
   "source": [
    "import re\n",
    "\n",
    "with open('data/ch4/ex2/data_utils.py', encoding='utf8') as f:\n",
    "    python_text = f.read()"
   ],
   "id": "910172415f022522",
   "outputs": [],
   "execution_count": 80
  },
  {
   "metadata": {
    "ExecuteTime": {
     "end_time": "2025-07-15T08:52:08.805912Z",
     "start_time": "2025-07-15T08:52:08.801327Z"
    }
   },
   "cell_type": "code",
   "source": "python_text",
   "id": "fc5dda7fc36a88a5",
   "outputs": [
    {
     "data": {
      "text/plain": [
       "'import os\\nimport tarfile\\nimport urllib\\nimport pandas as pd\\nimport numpy as np\\nfrom zlib import crc32\\n\\nDOWNLOAD_ROOT = \"https://raw.githubusercontent.com/ageron/handson-ml2/master/\"\\nHOUSING_PATH = os.path.join(\"datasets\", \"housing\")\\nHOUSING_URL = DOWNLOAD_ROOT + \"datasets/housing/housing.tgz\"\\n\\ndef fetch_housing_data(housing_url=HOUSING_URL, housing_path=HOUSING_PATH):\\n    os.makedirs(housing_path, exist_ok=True)\\n    tgz_path = os.path.join(housing_path, \"housing.tgz\")\\n    urllib.request.urlretrieve(housing_url, tgz_path)\\n    housing_tgz = tarfile.open(tgz_path)\\n    housing_tgz.extractall(path=housing_path)\\n    housing_tgz.close()\\n\\ndef load_housing_data(housing_path=HOUSING_PATH):\\n    csv_path = os.path.join(housing_path, \"housing.csv\")\\n    return pd.read_csv(csv_path)\\n\\ndef test_set_check(identifier, test_ratio):\\n    \"\"\"\\n    Computes a has value for each instance\\'s identifier and puts an instance in the test set, if the hash is lower\\n    than 20 % of the maximum hash value.\\n    \"\"\"\\n    return crc32(np.int64(identifier)) & 0xffffffff < test_ratio * 2**32\\n\\ndef split_train_test_by_id(data, test_ratio, id_column):\\n    ids = data[id_column]\\n    in_test_set = ids.apply(lambda id_: test_set_check(id_, test_ratio))\\n    # not in test set, in test set\\n    return data.loc[~in_test_set], data.loc[in_test_set]\\n\\ndef split_train_test(data, test_ratio):\\n    \"\"\"\\n    Naive train/test split function with no reproducibility\\n    \"\"\"\\n    shuffled_indices = np.random.permutation(len(data))\\n    test_set_size = int(len(data) * test_ratio)\\n    test_indices = shuffled_indices[:test_set_size]\\n    train_indices = shuffled_indices[test_set_size:]\\n    return data.iloc[train_indices], data.iloc[test_indices]'"
      ]
     },
     "execution_count": 77,
     "metadata": {},
     "output_type": "execute_result"
    }
   ],
   "execution_count": 77
  },
  {
   "metadata": {
    "ExecuteTime": {
     "end_time": "2025-07-15T08:55:50.715544Z",
     "start_time": "2025-07-15T08:55:50.711088Z"
    }
   },
   "cell_type": "code",
   "source": [
    "def clean_code(input_str):\n",
    "    # Replace characters\n",
    "    input_str = re.sub(r'[^a-zA-Z0-9_]+', ' ', input_str)\n",
    "    words_in_str = input_str.split(' ')\n",
    "    return words_in_str"
   ],
   "id": "4ed83b583137d2fb",
   "outputs": [],
   "execution_count": 83
  },
  {
   "metadata": {
    "ExecuteTime": {
     "end_time": "2025-07-15T09:00:42.482321Z",
     "start_time": "2025-07-15T09:00:42.478974Z"
    }
   },
   "cell_type": "code",
   "source": [
    "cleaned_text = clean_code(python_text)\n",
    "word2index = dict()\n",
    "for word in cleaned_text:\n",
    "    if word not in word2index:\n",
    "        word2index[word] = len(word2index)"
   ],
   "id": "3b6beb2d5281921f",
   "outputs": [],
   "execution_count": 93
  },
  {
   "metadata": {
    "ExecuteTime": {
     "end_time": "2025-07-15T09:00:43.610694Z",
     "start_time": "2025-07-15T09:00:43.605436Z"
    }
   },
   "cell_type": "code",
   "source": [
    "word_onehot = torch.zeros(len(cleaned_text), len(word2index))\n",
    "for i, word in enumerate(cleaned_text):\n",
    "    word_index = word2index[word]\n",
    "    word_onehot[i, word_index] = 1"
   ],
   "id": "939dcd163920ac66",
   "outputs": [],
   "execution_count": 94
  },
  {
   "metadata": {
    "ExecuteTime": {
     "end_time": "2025-07-15T09:00:48.664006Z",
     "start_time": "2025-07-15T09:00:48.659256Z"
    }
   },
   "cell_type": "code",
   "source": "word_onehot",
   "id": "5f484c2dd8c56531",
   "outputs": [
    {
     "data": {
      "text/plain": [
       "tensor([[1., 0., 0.,  ..., 0., 0., 0.],\n",
       "        [0., 1., 0.,  ..., 0., 0., 0.],\n",
       "        [1., 0., 0.,  ..., 0., 0., 0.],\n",
       "        ...,\n",
       "        [0., 0., 0.,  ..., 0., 1., 0.],\n",
       "        [0., 0., 0.,  ..., 0., 0., 0.],\n",
       "        [0., 0., 0.,  ..., 0., 0., 1.]])"
      ]
     },
     "execution_count": 95,
     "metadata": {},
     "output_type": "execute_result"
    }
   ],
   "execution_count": 95
  },
  {
   "metadata": {},
   "cell_type": "code",
   "outputs": [],
   "execution_count": null,
   "source": "",
   "id": "289477a554775f52"
  }
 ],
 "metadata": {
  "kernelspec": {
   "display_name": "Python 3",
   "language": "python",
   "name": "python3"
  },
  "language_info": {
   "codemirror_mode": {
    "name": "ipython",
    "version": 2
   },
   "file_extension": ".py",
   "mimetype": "text/x-python",
   "name": "python",
   "nbconvert_exporter": "python",
   "pygments_lexer": "ipython2",
   "version": "2.7.6"
  }
 },
 "nbformat": 4,
 "nbformat_minor": 5
}
