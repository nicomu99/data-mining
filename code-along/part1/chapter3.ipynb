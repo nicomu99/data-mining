{
 "cells": [
  {
   "metadata": {
    "ExecuteTime": {
     "end_time": "2025-07-14T14:27:56.403956Z",
     "start_time": "2025-07-14T14:27:54.644839Z"
    }
   },
   "cell_type": "code",
   "source": "import torch",
   "id": "640cf63452215599",
   "outputs": [],
   "execution_count": 2
  },
  {
   "metadata": {},
   "cell_type": "markdown",
   "source": "## Tensors",
   "id": "1ccdf279972e81fd"
  },
  {
   "cell_type": "code",
   "id": "initial_id",
   "metadata": {
    "collapsed": true,
    "ExecuteTime": {
     "end_time": "2025-07-14T11:56:25.763328Z",
     "start_time": "2025-07-14T11:56:25.759712Z"
    }
   },
   "source": [
    "# Simple python list\n",
    "a = [1.0, 2.0, 1.0]\n",
    "print(a[0])\n",
    "a[2] = 3.0\n",
    "print(a)"
   ],
   "outputs": [
    {
     "name": "stdout",
     "output_type": "stream",
     "text": [
      "1.0\n",
      "[1.0, 2.0, 3.0]\n"
     ]
    }
   ],
   "execution_count": 21
  },
  {
   "metadata": {
    "ExecuteTime": {
     "end_time": "2025-07-14T11:58:16.563491Z",
     "start_time": "2025-07-14T11:58:16.555882Z"
    }
   },
   "cell_type": "code",
   "source": [
    "# Create Pytorch tensor\n",
    "a = torch.ones(3)"
   ],
   "id": "57aa5679410e21d6",
   "outputs": [],
   "execution_count": 25
  },
  {
   "metadata": {
    "ExecuteTime": {
     "end_time": "2025-07-14T11:58:17.015628Z",
     "start_time": "2025-07-14T11:58:17.010858Z"
    }
   },
   "cell_type": "code",
   "source": [
    "# Indexing\n",
    "a[1]"
   ],
   "id": "3deaf356ebce52a6",
   "outputs": [
    {
     "data": {
      "text/plain": [
       "tensor(1.)"
      ]
     },
     "execution_count": 26,
     "metadata": {},
     "output_type": "execute_result"
    }
   ],
   "execution_count": 26
  },
  {
   "metadata": {
    "ExecuteTime": {
     "end_time": "2025-07-14T11:58:17.644624Z",
     "start_time": "2025-07-14T11:58:17.639641Z"
    }
   },
   "cell_type": "code",
   "source": [
    "# Convert to float\n",
    "float(a[1])"
   ],
   "id": "6f817caa830b6c0",
   "outputs": [
    {
     "data": {
      "text/plain": [
       "1.0"
      ]
     },
     "execution_count": 27,
     "metadata": {},
     "output_type": "execute_result"
    }
   ],
   "execution_count": 27
  },
  {
   "metadata": {
    "ExecuteTime": {
     "end_time": "2025-07-14T11:58:23.386704Z",
     "start_time": "2025-07-14T11:58:23.382423Z"
    }
   },
   "cell_type": "code",
   "source": [
    "# Manipulate content\n",
    "a[2] = 2.0\n",
    "a"
   ],
   "id": "6d7f697580f979d2",
   "outputs": [
    {
     "data": {
      "text/plain": [
       "tensor([1., 1., 2.])"
      ]
     },
     "execution_count": 28,
     "metadata": {},
     "output_type": "execute_result"
    }
   ],
   "execution_count": 28
  },
  {
   "metadata": {
    "ExecuteTime": {
     "end_time": "2025-07-14T11:52:11.429Z",
     "start_time": "2025-07-14T11:52:11.422708Z"
    }
   },
   "cell_type": "code",
   "source": [
    "# Triangle coordinates with X's in even and Y's in odds\n",
    "points = torch.zeros(6)\n",
    "points[0] = 4.0\n",
    "points[1] = 1.0\n",
    "points[2] = 5.0\n",
    "points[3] = 3.0\n",
    "points[4] = 2.0\n",
    "points[5] = 1.0\n",
    "points"
   ],
   "id": "9fb979346b30a932",
   "outputs": [
    {
     "data": {
      "text/plain": [
       "tensor([4., 1., 5., 3., 2., 1.])"
      ]
     },
     "execution_count": 12,
     "metadata": {},
     "output_type": "execute_result"
    }
   ],
   "execution_count": 12
  },
  {
   "metadata": {
    "ExecuteTime": {
     "end_time": "2025-07-14T11:58:43.652418Z",
     "start_time": "2025-07-14T11:58:43.645281Z"
    }
   },
   "cell_type": "code",
   "source": [
    "# Create tensor from 1D list\n",
    "points = torch.tensor([4.0, 1.0, 5.0, 3.0, 2.0, 1.0])\n",
    "points"
   ],
   "id": "8d5e423f2c3e3108",
   "outputs": [
    {
     "data": {
      "text/plain": [
       "tensor([4., 1., 5., 3., 2., 1.])"
      ]
     },
     "execution_count": 29,
     "metadata": {},
     "output_type": "execute_result"
    }
   ],
   "execution_count": 29
  },
  {
   "metadata": {
    "ExecuteTime": {
     "end_time": "2025-07-14T11:59:06.616600Z",
     "start_time": "2025-07-14T11:59:06.607638Z"
    }
   },
   "cell_type": "code",
   "source": [
    "# Get coordinates of first triangle vertex\n",
    "float(points[0]), float(points[1])"
   ],
   "id": "34dc701139dfea12",
   "outputs": [
    {
     "data": {
      "text/plain": [
       "(4.0, 1.0)"
      ]
     },
     "execution_count": 30,
     "metadata": {},
     "output_type": "execute_result"
    }
   ],
   "execution_count": 30
  },
  {
   "metadata": {
    "ExecuteTime": {
     "end_time": "2025-07-14T11:54:39.754502Z",
     "start_time": "2025-07-14T11:54:39.747506Z"
    }
   },
   "cell_type": "code",
   "source": [
    "# 2D version\n",
    "points = torch.tensor([[4.0, 1.0], [5.0, 3.0], [2.0, 1.0]])\n",
    "points"
   ],
   "id": "5e04b33c92d33fc3",
   "outputs": [
    {
     "data": {
      "text/plain": [
       "tensor([[4., 1.],\n",
       "        [5., 3.],\n",
       "        [2., 1.]])"
      ]
     },
     "execution_count": 16,
     "metadata": {},
     "output_type": "execute_result"
    }
   ],
   "execution_count": 16
  },
  {
   "metadata": {
    "ExecuteTime": {
     "end_time": "2025-07-14T11:59:20.293934Z",
     "start_time": "2025-07-14T11:59:20.287635Z"
    }
   },
   "cell_type": "code",
   "source": [
    "# Get tensor shape\n",
    "points.shape"
   ],
   "id": "52a7534f289b117",
   "outputs": [
    {
     "data": {
      "text/plain": [
       "torch.Size([6])"
      ]
     },
     "execution_count": 31,
     "metadata": {},
     "output_type": "execute_result"
    }
   ],
   "execution_count": 31
  },
  {
   "metadata": {
    "ExecuteTime": {
     "end_time": "2025-07-14T11:59:28.398814Z",
     "start_time": "2025-07-14T11:59:28.392172Z"
    }
   },
   "cell_type": "code",
   "source": [
    "# Create 2D tensor with 0s\n",
    "points = torch.zeros(3, 2)\n",
    "points"
   ],
   "id": "bbf200b45e292a96",
   "outputs": [
    {
     "data": {
      "text/plain": [
       "tensor([[0., 0.],\n",
       "        [0., 0.],\n",
       "        [0., 0.]])"
      ]
     },
     "execution_count": 32,
     "metadata": {},
     "output_type": "execute_result"
    }
   ],
   "execution_count": 32
  },
  {
   "metadata": {},
   "cell_type": "markdown",
   "source": "## Indexing",
   "id": "8c9f056a9c1edcfa"
  },
  {
   "metadata": {
    "ExecuteTime": {
     "end_time": "2025-07-14T11:59:36.510804Z",
     "start_time": "2025-07-14T11:59:36.505622Z"
    }
   },
   "cell_type": "code",
   "source": [
    "# 2D indexing\n",
    "points = torch.tensor([[4.0, 1.0], [5.0, 3.0], [2.0, 1.0]])\n",
    "points[0, 1]"
   ],
   "id": "9a2bdcc8be10431a",
   "outputs": [
    {
     "data": {
      "text/plain": [
       "tensor(1.)"
      ]
     },
     "execution_count": 33,
     "metadata": {},
     "output_type": "execute_result"
    }
   ],
   "execution_count": 33
  },
  {
   "metadata": {
    "ExecuteTime": {
     "end_time": "2025-07-14T11:59:51.270374Z",
     "start_time": "2025-07-14T11:59:51.261727Z"
    }
   },
   "cell_type": "code",
   "source": [
    "# 1D indexing on 2D tensor\n",
    "points[0]"
   ],
   "id": "add4637d4d3fa82",
   "outputs": [
    {
     "data": {
      "text/plain": [
       "tensor([4., 1.])"
      ]
     },
     "execution_count": 34,
     "metadata": {},
     "output_type": "execute_result"
    }
   ],
   "execution_count": 34
  },
  {
   "metadata": {
    "ExecuteTime": {
     "end_time": "2025-07-14T12:03:14.941088Z",
     "start_time": "2025-07-14T12:03:14.929265Z"
    }
   },
   "cell_type": "code",
   "source": "points[1:]",
   "id": "d60aacf46053a999",
   "outputs": [
    {
     "data": {
      "text/plain": [
       "tensor([[5., 3.],\n",
       "        [2., 1.]])"
      ]
     },
     "execution_count": 40,
     "metadata": {},
     "output_type": "execute_result"
    }
   ],
   "execution_count": 40
  },
  {
   "metadata": {
    "ExecuteTime": {
     "end_time": "2025-07-14T12:03:33.979918Z",
     "start_time": "2025-07-14T12:03:33.975014Z"
    }
   },
   "cell_type": "code",
   "source": "points[1:, :]",
   "id": "3d447a1b1975b7e8",
   "outputs": [
    {
     "data": {
      "text/plain": [
       "tensor([[5., 3.],\n",
       "        [2., 1.]])"
      ]
     },
     "execution_count": 41,
     "metadata": {},
     "output_type": "execute_result"
    }
   ],
   "execution_count": 41
  },
  {
   "metadata": {
    "ExecuteTime": {
     "end_time": "2025-07-14T12:03:38.075612Z",
     "start_time": "2025-07-14T12:03:38.071295Z"
    }
   },
   "cell_type": "code",
   "source": "points[1:, 0]",
   "id": "4a0213015ff26ba0",
   "outputs": [
    {
     "data": {
      "text/plain": [
       "tensor([5., 2.])"
      ]
     },
     "execution_count": 42,
     "metadata": {},
     "output_type": "execute_result"
    }
   ],
   "execution_count": 42
  },
  {
   "metadata": {
    "ExecuteTime": {
     "end_time": "2025-07-14T12:03:46.277928Z",
     "start_time": "2025-07-14T12:03:46.273871Z"
    }
   },
   "cell_type": "code",
   "source": "points[None]",
   "id": "ee9bc6db0ad192bf",
   "outputs": [
    {
     "data": {
      "text/plain": [
       "tensor([[[4., 1.],\n",
       "         [5., 3.],\n",
       "         [2., 1.]]])"
      ]
     },
     "execution_count": 43,
     "metadata": {},
     "output_type": "execute_result"
    }
   ],
   "execution_count": 43
  },
  {
   "metadata": {},
   "cell_type": "markdown",
   "source": "## Data Types",
   "id": "3a698ee3681fc1fd"
  },
  {
   "metadata": {
    "ExecuteTime": {
     "end_time": "2025-07-14T14:27:58.588082Z",
     "start_time": "2025-07-14T14:27:58.584794Z"
    }
   },
   "cell_type": "code",
   "source": [
    "double_points = torch.ones(10, 2, dtype=torch.double) # or torch.float64, float32 is default\n",
    "short_points = torch.tensor([[1, 2], [3, 4]], dtype=torch.short) # or torch.int16, int64 is default"
   ],
   "id": "111d6e85a976f963",
   "outputs": [],
   "execution_count": 3
  },
  {
   "metadata": {
    "ExecuteTime": {
     "end_time": "2025-07-14T14:27:59.064359Z",
     "start_time": "2025-07-14T14:27:59.059177Z"
    }
   },
   "cell_type": "code",
   "source": "short_points.dtype",
   "id": "b1a306d810e8025b",
   "outputs": [
    {
     "data": {
      "text/plain": [
       "torch.int16"
      ]
     },
     "execution_count": 4,
     "metadata": {},
     "output_type": "execute_result"
    }
   ],
   "execution_count": 4
  },
  {
   "metadata": {
    "ExecuteTime": {
     "end_time": "2025-07-14T14:29:50.133752Z",
     "start_time": "2025-07-14T14:29:50.131023Z"
    }
   },
   "cell_type": "code",
   "source": [
    "# Type casting\n",
    "do_points = torch.zeros(10, 2).double()\n",
    "so_points = torch.ones(10, 2).short()\n",
    "\n",
    "# to() also checks whether conversion is necessary\n",
    "# but .double() and so on are shorthands for to()\n",
    "new_do_points = torch.zeros(10, 2).to(torch.double)\n",
    "new_so_points = torch.ones(10, 2).to(torch.short)"
   ],
   "id": "7d5e8f5ffc1dd115",
   "outputs": [],
   "execution_count": 7
  },
  {
   "metadata": {
    "ExecuteTime": {
     "end_time": "2025-07-14T14:32:41.223527Z",
     "start_time": "2025-07-14T14:32:41.212887Z"
    }
   },
   "cell_type": "code",
   "source": [
    "# Computations cast to larger type\n",
    "points_64 = torch.rand(5, dtype=torch.double)   # 64-bit\n",
    "points_short = points_64.to(torch.short)        # 32-bit\n",
    "points_64 * points_short"
   ],
   "id": "7a86fe294de78575",
   "outputs": [
    {
     "data": {
      "text/plain": [
       "tensor([0., 0., 0., 0., 0.], dtype=torch.float64)"
      ]
     },
     "execution_count": 8,
     "metadata": {},
     "output_type": "execute_result"
    }
   ],
   "execution_count": 8
  },
  {
   "metadata": {},
   "cell_type": "markdown",
   "source": "## Transpose",
   "id": "7807b467e5f9fe7d"
  },
  {
   "metadata": {
    "ExecuteTime": {
     "end_time": "2025-07-14T14:35:02.471236Z",
     "start_time": "2025-07-14T14:35:02.467687Z"
    }
   },
   "cell_type": "code",
   "source": [
    "# Transpose\n",
    "a = torch.ones(3, 2)\n",
    "a_t = torch.transpose(a, 0, 1)\n",
    "a.shape, a_t.shape"
   ],
   "id": "a7be6a3787821cff",
   "outputs": [
    {
     "data": {
      "text/plain": [
       "(torch.Size([3, 2]), torch.Size([2, 3]))"
      ]
     },
     "execution_count": 9,
     "metadata": {},
     "output_type": "execute_result"
    }
   ],
   "execution_count": 9
  },
  {
   "metadata": {
    "ExecuteTime": {
     "end_time": "2025-07-14T14:36:02.923749Z",
     "start_time": "2025-07-14T14:36:02.919239Z"
    }
   },
   "cell_type": "code",
   "source": [
    "# Or\n",
    "a_t = a.transpose(0, 1)\n",
    "a.shape, a_t.shape"
   ],
   "id": "9ffea546a81679cd",
   "outputs": [
    {
     "data": {
      "text/plain": [
       "(torch.Size([3, 2]), torch.Size([2, 3]))"
      ]
     },
     "execution_count": 11,
     "metadata": {},
     "output_type": "execute_result"
    }
   ],
   "execution_count": 11
  },
  {
   "metadata": {},
   "cell_type": "markdown",
   "source": "## Storage",
   "id": "d500f38642b2ab11"
  },
  {
   "metadata": {
    "ExecuteTime": {
     "end_time": "2025-07-14T14:47:35.192062Z",
     "start_time": "2025-07-14T14:47:35.186547Z"
    }
   },
   "cell_type": "code",
   "source": [
    "# Tensors are stored sequentially in memory\n",
    "points = torch.tensor([[4.0, 1.0], [5.0, 3.0], [2.0, 1.0]])\n",
    "points.storage()"
   ],
   "id": "1c1bf56873cc5f41",
   "outputs": [
    {
     "data": {
      "text/plain": [
       " 4.0\n",
       " 1.0\n",
       " 5.0\n",
       " 3.0\n",
       " 2.0\n",
       " 1.0\n",
       "[torch.storage.TypedStorage(dtype=torch.float32, device=cpu) of size 6]"
      ]
     },
     "execution_count": 14,
     "metadata": {},
     "output_type": "execute_result"
    }
   ],
   "execution_count": 14
  },
  {
   "metadata": {
    "ExecuteTime": {
     "end_time": "2025-07-14T14:48:10.604233Z",
     "start_time": "2025-07-14T14:48:10.594006Z"
    }
   },
   "cell_type": "code",
   "source": [
    "# Direct access, only 1D for any tensor shape\n",
    "points_storage = points.storage()\n",
    "points_storage[2]"
   ],
   "id": "e2c1c0e2c8f4bbaa",
   "outputs": [
    {
     "data": {
      "text/plain": [
       "5.0"
      ]
     },
     "execution_count": 15,
     "metadata": {},
     "output_type": "execute_result"
    }
   ],
   "execution_count": 15
  },
  {
   "metadata": {
    "ExecuteTime": {
     "end_time": "2025-07-14T14:48:59.364759Z",
     "start_time": "2025-07-14T14:48:59.357784Z"
    }
   },
   "cell_type": "code",
   "source": [
    "# Modifying storage modifies the tensor as well\n",
    "points_storage[2] = 3.0\n",
    "points"
   ],
   "id": "874cfc1b9099ed8e",
   "outputs": [
    {
     "data": {
      "text/plain": [
       "tensor([[4., 1.],\n",
       "        [3., 3.],\n",
       "        [2., 1.]])"
      ]
     },
     "execution_count": 16,
     "metadata": {},
     "output_type": "execute_result"
    }
   ],
   "execution_count": 16
  },
  {
   "metadata": {
    "ExecuteTime": {
     "end_time": "2025-07-14T14:53:37.203746Z",
     "start_time": "2025-07-14T14:53:37.193754Z"
    }
   },
   "cell_type": "code",
   "source": [
    "# Functions with trailing underscore are inplace\n",
    "a = torch.ones(3, 2)\n",
    "a.zero_()"
   ],
   "id": "491d70519031a34c",
   "outputs": [
    {
     "data": {
      "text/plain": [
       "tensor([[0., 0.],\n",
       "        [0., 0.],\n",
       "        [0., 0.]])"
      ]
     },
     "execution_count": 17,
     "metadata": {},
     "output_type": "execute_result"
    }
   ],
   "execution_count": 17
  },
  {
   "metadata": {},
   "cell_type": "markdown",
   "source": "## Tensor Metadata",
   "id": "8986f46d51565f79"
  },
  {
   "metadata": {
    "ExecuteTime": {
     "end_time": "2025-07-14T14:57:17.093595Z",
     "start_time": "2025-07-14T14:57:17.086744Z"
    }
   },
   "cell_type": "code",
   "source": [
    "points = torch.tensor([[4.0, 1.0], [5.0, 3.0], [2.0, 1.0]])\n",
    "second_point = points[1]\n",
    "\n",
    "# Two elements in memory have to be skipped to get to the second point\n",
    "second_point.storage_offset()"
   ],
   "id": "b621c76bc8c60166",
   "outputs": [
    {
     "data": {
      "text/plain": [
       "2"
      ]
     },
     "execution_count": 18,
     "metadata": {},
     "output_type": "execute_result"
    }
   ],
   "execution_count": 18
  },
  {
   "metadata": {
    "ExecuteTime": {
     "end_time": "2025-07-14T14:58:08.252146Z",
     "start_time": "2025-07-14T14:58:08.247887Z"
    }
   },
   "cell_type": "code",
   "source": [
    "# Same information\n",
    "second_point.size(), second_point.shape"
   ],
   "id": "526646ff43176db3",
   "outputs": [
    {
     "data": {
      "text/plain": [
       "(torch.Size([2]), torch.Size([2]))"
      ]
     },
     "execution_count": 19,
     "metadata": {},
     "output_type": "execute_result"
    }
   ],
   "execution_count": 19
  },
  {
   "metadata": {
    "ExecuteTime": {
     "end_time": "2025-07-14T14:58:22.656954Z",
     "start_time": "2025-07-14T14:58:22.652993Z"
    }
   },
   "cell_type": "code",
   "source": [
    "# Number of elements that need to be skipped in memory to get to next element of some dimension\n",
    "points.stride()"
   ],
   "id": "bf9571bdbea0925b",
   "outputs": [
    {
     "data": {
      "text/plain": [
       "(2, 1)"
      ]
     },
     "execution_count": 20,
     "metadata": {},
     "output_type": "execute_result"
    }
   ],
   "execution_count": 20
  },
  {
   "metadata": {
    "ExecuteTime": {
     "end_time": "2025-07-14T15:03:14.515416Z",
     "start_time": "2025-07-14T15:03:14.510550Z"
    }
   },
   "cell_type": "code",
   "source": [
    "# Changing sub tensors also changes the main tensor\n",
    "second_point[0] = 10.0\n",
    "points"
   ],
   "id": "1b6515a5b3e204f2",
   "outputs": [
    {
     "data": {
      "text/plain": [
       "tensor([[ 4.,  1.],\n",
       "        [10.,  3.],\n",
       "        [ 2.,  1.]])"
      ]
     },
     "execution_count": 21,
     "metadata": {},
     "output_type": "execute_result"
    }
   ],
   "execution_count": 21
  },
  {
   "metadata": {
    "ExecuteTime": {
     "end_time": "2025-07-14T15:03:55.925044Z",
     "start_time": "2025-07-14T15:03:55.920947Z"
    }
   },
   "cell_type": "code",
   "source": [
    "# We can clone to mitigate this problem\n",
    "second_point_c = points[1].clone()\n",
    "second_point_c[0] = 15.0\n",
    "points"
   ],
   "id": "484e7c3e47413af",
   "outputs": [
    {
     "data": {
      "text/plain": [
       "tensor([[ 4.,  1.],\n",
       "        [10.,  3.],\n",
       "        [ 2.,  1.]])"
      ]
     },
     "execution_count": 22,
     "metadata": {},
     "output_type": "execute_result"
    }
   ],
   "execution_count": 22
  },
  {
   "metadata": {},
   "cell_type": "markdown",
   "source": "## Transpose under the hood",
   "id": "73fa4361d848be7a"
  },
  {
   "metadata": {
    "ExecuteTime": {
     "end_time": "2025-07-14T15:12:28.784537Z",
     "start_time": "2025-07-14T15:12:28.780359Z"
    }
   },
   "cell_type": "code",
   "source": [
    "points = torch.tensor([[4.0, 1.0], [5.0, 3.0], [2.0, 1.0]])\n",
    "points_t = points.t()\n",
    "points, points_t"
   ],
   "id": "2b7f64a39a45fbfd",
   "outputs": [
    {
     "data": {
      "text/plain": [
       "(tensor([[4., 1.],\n",
       "         [5., 3.],\n",
       "         [2., 1.]]),\n",
       " tensor([[4., 5., 2.],\n",
       "         [1., 3., 1.]]))"
      ]
     },
     "execution_count": 52,
     "metadata": {},
     "output_type": "execute_result"
    }
   ],
   "execution_count": 52
  },
  {
   "metadata": {
    "ExecuteTime": {
     "end_time": "2025-07-14T15:12:29.653358Z",
     "start_time": "2025-07-14T15:12:29.645424Z"
    }
   },
   "cell_type": "code",
   "source": "id(points.storage()) == id(points_t.storage())",
   "id": "ab510546f6692762",
   "outputs": [
    {
     "data": {
      "text/plain": [
       "False"
      ]
     },
     "execution_count": 53,
     "metadata": {},
     "output_type": "execute_result"
    }
   ],
   "execution_count": 53
  },
  {
   "metadata": {
    "ExecuteTime": {
     "end_time": "2025-07-14T15:13:01.031130Z",
     "start_time": "2025-07-14T15:13:01.027004Z"
    }
   },
   "cell_type": "code",
   "source": [
    "# The memory should still be the same, but it is accessed differently\n",
    "points.stride(), points_t.stride()"
   ],
   "id": "d32618526f758687",
   "outputs": [
    {
     "data": {
      "text/plain": [
       "((2, 1), (1, 2))"
      ]
     },
     "execution_count": 54,
     "metadata": {},
     "output_type": "execute_result"
    }
   ],
   "execution_count": 54
  },
  {
   "metadata": {
    "ExecuteTime": {
     "end_time": "2025-07-14T15:13:42.390447Z",
     "start_time": "2025-07-14T15:13:42.381406Z"
    }
   },
   "cell_type": "code",
   "source": [
    "# Multidimensional Transposing\n",
    "some_t = torch.ones(2, 4, 5)\n",
    "transpose_t = some_t.transpose(0, 2)\n",
    "some_t.shape, transpose_t.shape"
   ],
   "id": "e7130d8ded725609",
   "outputs": [
    {
     "data": {
      "text/plain": [
       "(torch.Size([2, 4, 5]), torch.Size([5, 4, 2]))"
      ]
     },
     "execution_count": 55,
     "metadata": {},
     "output_type": "execute_result"
    }
   ],
   "execution_count": 55
  },
  {
   "metadata": {
    "ExecuteTime": {
     "end_time": "2025-07-14T15:16:25.712001Z",
     "start_time": "2025-07-14T15:16:25.705881Z"
    }
   },
   "cell_type": "code",
   "source": [
    "# Contiguous tensors are stored such that they can be accessed efficiently\n",
    "points.is_contiguous()"
   ],
   "id": "c824b85735edb842",
   "outputs": [
    {
     "data": {
      "text/plain": [
       "True"
      ]
     },
     "execution_count": 56,
     "metadata": {},
     "output_type": "execute_result"
    }
   ],
   "execution_count": 56
  },
  {
   "metadata": {
    "ExecuteTime": {
     "end_time": "2025-07-14T15:16:32.998706Z",
     "start_time": "2025-07-14T15:16:32.992267Z"
    }
   },
   "cell_type": "code",
   "source": "points_t.is_contiguous()",
   "id": "f128e79f4ca6865b",
   "outputs": [
    {
     "data": {
      "text/plain": [
       "False"
      ]
     },
     "execution_count": 57,
     "metadata": {},
     "output_type": "execute_result"
    }
   ],
   "execution_count": 57
  },
  {
   "metadata": {
    "ExecuteTime": {
     "end_time": "2025-07-14T15:18:30.220996Z",
     "start_time": "2025-07-14T15:18:30.210762Z"
    }
   },
   "cell_type": "code",
   "source": "points_t",
   "id": "59098cbe84df8a36",
   "outputs": [
    {
     "data": {
      "text/plain": [
       "tensor([[4., 5., 2.],\n",
       "        [1., 3., 1.]])"
      ]
     },
     "execution_count": 59,
     "metadata": {},
     "output_type": "execute_result"
    }
   ],
   "execution_count": 59
  },
  {
   "metadata": {
    "ExecuteTime": {
     "end_time": "2025-07-14T15:19:15.023683Z",
     "start_time": "2025-07-14T15:19:15.015953Z"
    }
   },
   "cell_type": "code",
   "source": [
    "# The transposed points tensor is stored in such a way\n",
    "# that we have to skip between rows when reading\n",
    "points_t.storage()"
   ],
   "id": "2ff1290f4ef2b497",
   "outputs": [
    {
     "data": {
      "text/plain": [
       " 4.0\n",
       " 1.0\n",
       " 5.0\n",
       " 3.0\n",
       " 2.0\n",
       " 1.0\n",
       "[torch.storage.TypedStorage(dtype=torch.float32, device=cpu) of size 6]"
      ]
     },
     "execution_count": 61,
     "metadata": {},
     "output_type": "execute_result"
    }
   ],
   "execution_count": 61
  },
  {
   "metadata": {
    "ExecuteTime": {
     "end_time": "2025-07-14T15:19:29.748143Z",
     "start_time": "2025-07-14T15:19:29.744589Z"
    }
   },
   "cell_type": "code",
   "source": "points_t.stride()",
   "id": "85b13f27579b2d0b",
   "outputs": [
    {
     "data": {
      "text/plain": [
       "(1, 2)"
      ]
     },
     "execution_count": 63,
     "metadata": {},
     "output_type": "execute_result"
    }
   ],
   "execution_count": 63
  },
  {
   "metadata": {
    "ExecuteTime": {
     "end_time": "2025-07-14T15:19:19.733367Z",
     "start_time": "2025-07-14T15:19:19.729650Z"
    }
   },
   "cell_type": "code",
   "source": [
    "# Contiguous method returns a contiguous tensor\n",
    "points_c = points_t.contiguous()\n",
    "points_c.is_contiguous()"
   ],
   "id": "2dff8a5dce5c5478",
   "outputs": [
    {
     "data": {
      "text/plain": [
       "True"
      ]
     },
     "execution_count": 62,
     "metadata": {},
     "output_type": "execute_result"
    }
   ],
   "execution_count": 62
  },
  {
   "metadata": {
    "ExecuteTime": {
     "end_time": "2025-07-14T15:20:46.476298Z",
     "start_time": "2025-07-14T15:20:46.466892Z"
    }
   },
   "cell_type": "code",
   "source": "points_c",
   "id": "73707b76cc25673",
   "outputs": [
    {
     "data": {
      "text/plain": [
       "tensor([[4., 5., 2.],\n",
       "        [1., 3., 1.]])"
      ]
     },
     "execution_count": 65,
     "metadata": {},
     "output_type": "execute_result"
    }
   ],
   "execution_count": 65
  },
  {
   "metadata": {
    "ExecuteTime": {
     "end_time": "2025-07-14T15:20:37.709011Z",
     "start_time": "2025-07-14T15:20:37.701652Z"
    }
   },
   "cell_type": "code",
   "source": [
    "# No jumping between objects required anymore\n",
    "# stride[0] = jump 3 to next row, stride[1] = jump 1 to next column\n",
    "points_c.stride()"
   ],
   "id": "35f7193ebf3772a4",
   "outputs": [
    {
     "data": {
      "text/plain": [
       "(3, 1)"
      ]
     },
     "execution_count": 64,
     "metadata": {},
     "output_type": "execute_result"
    }
   ],
   "execution_count": 64
  },
  {
   "metadata": {
    "ExecuteTime": {
     "end_time": "2025-07-14T15:21:56.496853Z",
     "start_time": "2025-07-14T15:21:56.492716Z"
    }
   },
   "cell_type": "code",
   "source": "points_c.storage()",
   "id": "b1d80dead5b44aec",
   "outputs": [
    {
     "data": {
      "text/plain": [
       " 4.0\n",
       " 5.0\n",
       " 2.0\n",
       " 1.0\n",
       " 3.0\n",
       " 1.0\n",
       "[torch.storage.TypedStorage(dtype=torch.float32, device=cpu) of size 6]"
      ]
     },
     "execution_count": 66,
     "metadata": {},
     "output_type": "execute_result"
    }
   ],
   "execution_count": 66
  },
  {
   "metadata": {
    "ExecuteTime": {
     "end_time": "2025-07-14T15:22:08.464247Z",
     "start_time": "2025-07-14T15:22:08.459992Z"
    }
   },
   "cell_type": "code",
   "source": "points.is_contiguous()",
   "id": "9799a84dbdb1900d",
   "outputs": [
    {
     "data": {
      "text/plain": [
       "True"
      ]
     },
     "execution_count": 67,
     "metadata": {},
     "output_type": "execute_result"
    }
   ],
   "execution_count": 67
  },
  {
   "metadata": {},
   "cell_type": "markdown",
   "source": "## Moving to GPUs",
   "id": "8840cae09f4c28b0"
  },
  {
   "metadata": {
    "ExecuteTime": {
     "end_time": "2025-07-14T15:27:44.819253Z",
     "start_time": "2025-07-14T15:27:44.798720Z"
    }
   },
   "cell_type": "code",
   "source": [
    "# Use device argument\n",
    "points_gpu = torch.tensor([[4.0, 1.0], [5.0, 3.0], [2.0, 1.0]], device='cuda')\n",
    "\n",
    "# Or copy\n",
    "points_gpu_ = points.to(device='cuda')"
   ],
   "id": "acbaed0216cb21db",
   "outputs": [],
   "execution_count": 71
  },
  {
   "metadata": {
    "ExecuteTime": {
     "end_time": "2025-07-14T15:29:10.095901Z",
     "start_time": "2025-07-14T15:29:10.092980Z"
    }
   },
   "cell_type": "code",
   "source": [
    "# If multiple GPUs are present, zero indexing for GPU selection\n",
    "points_gpu_0 = points.to(device='cuda:0')"
   ],
   "id": "76ac22bfb57221e1",
   "outputs": [],
   "execution_count": 72
  },
  {
   "metadata": {
    "ExecuteTime": {
     "end_time": "2025-07-14T15:30:14.877339Z",
     "start_time": "2025-07-14T15:30:14.860372Z"
    }
   },
   "cell_type": "code",
   "source": "points_gpu = points_gpu * 2 # Carried out on the GPU",
   "id": "7796394270a081e4",
   "outputs": [],
   "execution_count": 74
  },
  {
   "metadata": {
    "ExecuteTime": {
     "end_time": "2025-07-14T15:30:33.880286Z",
     "start_time": "2025-07-14T15:30:33.860795Z"
    }
   },
   "cell_type": "code",
   "source": [
    "# Move back to CPU\n",
    "points_cpu = points_gpu.to(device='cpu')\n",
    "points_cpu"
   ],
   "id": "21b49c6a00966ae7",
   "outputs": [
    {
     "data": {
      "text/plain": [
       "tensor([[ 8.,  2.],\n",
       "        [10.,  6.],\n",
       "        [ 4.,  2.]])"
      ]
     },
     "execution_count": 75,
     "metadata": {},
     "output_type": "execute_result"
    }
   ],
   "execution_count": 75
  },
  {
   "metadata": {
    "ExecuteTime": {
     "end_time": "2025-07-14T15:32:22.438769Z",
     "start_time": "2025-07-14T15:32:22.419749Z"
    }
   },
   "cell_type": "code",
   "source": [
    "# Also can use shorthand methods\n",
    "points_sh_gpu = points_cpu.cuda()       # Default is 0\n",
    "points_sh_gpu_0 = points_cpu.cuda(0)    # Choose which GPU\n",
    "points_sh_cpu = points_sh_gpu.cpu()\n",
    "\n",
    "# to() however allows switching datatype and device at the same time"
   ],
   "id": "9bad7caf13604043",
   "outputs": [],
   "execution_count": 77
  },
  {
   "metadata": {},
   "cell_type": "markdown",
   "source": "## Numpy Interoperability",
   "id": "b061930393592574"
  },
  {
   "metadata": {
    "ExecuteTime": {
     "end_time": "2025-07-14T15:34:56.321094Z",
     "start_time": "2025-07-14T15:34:56.317898Z"
    }
   },
   "cell_type": "code",
   "source": [
    "# To switch to numpy, use numpy() method\n",
    "points = torch.zeros(2, 3)\n",
    "points_np = points.numpy()\n",
    "type(points_np)"
   ],
   "id": "5b3e33c0486b567f",
   "outputs": [
    {
     "data": {
      "text/plain": [
       "numpy.ndarray"
      ]
     },
     "execution_count": 79,
     "metadata": {},
     "output_type": "execute_result"
    }
   ],
   "execution_count": 79
  },
  {
   "metadata": {
    "ExecuteTime": {
     "end_time": "2025-07-14T15:35:43.967822Z",
     "start_time": "2025-07-14T15:35:43.964079Z"
    }
   },
   "cell_type": "code",
   "source": "points",
   "id": "ec70efd2ac750e1b",
   "outputs": [
    {
     "data": {
      "text/plain": [
       "tensor([[0., 0., 0.],\n",
       "        [0., 0., 0.]])"
      ]
     },
     "execution_count": 80,
     "metadata": {},
     "output_type": "execute_result"
    }
   ],
   "execution_count": 80
  },
  {
   "metadata": {
    "ExecuteTime": {
     "end_time": "2025-07-14T15:35:49.488423Z",
     "start_time": "2025-07-14T15:35:49.486022Z"
    }
   },
   "cell_type": "code",
   "source": [
    "# Both arrays share the same memory, changes are reflected in both of them\n",
    "points_np[1] = 2.0\n",
    "points"
   ],
   "id": "21c2909d1ddf80e6",
   "outputs": [],
   "execution_count": 81
  },
  {
   "metadata": {
    "ExecuteTime": {
     "end_time": "2025-07-14T15:37:24.106102Z",
     "start_time": "2025-07-14T15:37:24.053912Z"
    }
   },
   "cell_type": "code",
   "source": [
    "# Can not convert, if tensor is on GPU\n",
    "points_gpu = torch.zeros(2, 3, device='cuda')\n",
    "points_gpu_np = points_gpu.numpy()"
   ],
   "id": "7e3d8dc9a1eeb108",
   "outputs": [
    {
     "ename": "TypeError",
     "evalue": "can't convert cuda:0 device type tensor to numpy. Use Tensor.cpu() to copy the tensor to host memory first.",
     "output_type": "error",
     "traceback": [
      "\u001B[31m---------------------------------------------------------------------------\u001B[39m",
      "\u001B[31mTypeError\u001B[39m                                 Traceback (most recent call last)",
      "\u001B[36mCell\u001B[39m\u001B[36m \u001B[39m\u001B[32mIn[84]\u001B[39m\u001B[32m, line 2\u001B[39m\n\u001B[32m      1\u001B[39m points_gpu = torch.zeros(\u001B[32m2\u001B[39m, \u001B[32m3\u001B[39m, device=\u001B[33m'\u001B[39m\u001B[33mcuda\u001B[39m\u001B[33m'\u001B[39m)\n\u001B[32m----> \u001B[39m\u001B[32m2\u001B[39m points_gpu_np = \u001B[43mpoints_gpu\u001B[49m\u001B[43m.\u001B[49m\u001B[43mnumpy\u001B[49m\u001B[43m(\u001B[49m\u001B[43m)\u001B[49m\n",
      "\u001B[31mTypeError\u001B[39m: can't convert cuda:0 device type tensor to numpy. Use Tensor.cpu() to copy the tensor to host memory first."
     ]
    }
   ],
   "execution_count": 84
  },
  {
   "metadata": {
    "ExecuteTime": {
     "end_time": "2025-07-14T15:39:22.483400Z",
     "start_time": "2025-07-14T15:39:22.476479Z"
    }
   },
   "cell_type": "code",
   "source": [
    "# Convert from numpy array to tensor\n",
    "points_ten = torch.from_numpy(points_np)\n",
    "\n",
    "# And again, changes are reflected in both data structures\n",
    "points_ten[1, 2] = 10.0\n",
    "points_np"
   ],
   "id": "6ffda3e2a6b53bfb",
   "outputs": [
    {
     "data": {
      "text/plain": [
       "array([[ 0.,  0.,  0.],\n",
       "       [ 2.,  2., 10.]], dtype=float32)"
      ]
     },
     "execution_count": 90,
     "metadata": {},
     "output_type": "execute_result"
    }
   ],
   "execution_count": 90
  },
  {
   "metadata": {},
   "cell_type": "markdown",
   "source": "## Serialization of tensors",
   "id": "9a9bf71d7684a8ad"
  },
  {
   "metadata": {
    "ExecuteTime": {
     "end_time": "2025-07-14T15:48:42.548328Z",
     "start_time": "2025-07-14T15:48:42.542505Z"
    }
   },
   "cell_type": "code",
   "source": [
    "# Save and load, the file format is not interoperable\n",
    "torch.save(points, 'data/tensor.t')\n",
    "loaded_tensor = torch.load('data/tensor.t')\n",
    "loaded_tensor"
   ],
   "id": "ad9b95e3bb66e9c3",
   "outputs": [
    {
     "data": {
      "text/plain": [
       "tensor([[ 0.,  0.,  0.],\n",
       "        [ 2.,  2., 10.]])"
      ]
     },
     "execution_count": 95,
     "metadata": {},
     "output_type": "execute_result"
    }
   ],
   "execution_count": 95
  },
  {
   "metadata": {
    "ExecuteTime": {
     "end_time": "2025-07-14T17:04:06.139580Z",
     "start_time": "2025-07-14T17:04:06.134784Z"
    }
   },
   "cell_type": "code",
   "source": [
    "import h5py\n",
    "\n",
    "# Save in a format that is interoperable\n",
    "f = h5py.File('data/points.hdf5', 'w')\n",
    "dset = f.create_dataset('coords', data=points.numpy())\n",
    "f.close()"
   ],
   "id": "89b1425283208b2d",
   "outputs": [],
   "execution_count": 98
  },
  {
   "metadata": {
    "ExecuteTime": {
     "end_time": "2025-07-14T17:06:44.932158Z",
     "start_time": "2025-07-14T17:06:44.928314Z"
    }
   },
   "cell_type": "code",
   "source": [
    "# Load\n",
    "f = h5py.File('data/points.hdf5', 'r')\n",
    "\n",
    "# coords is used as a key\n",
    "dset_loaded = f['coords']\n",
    "\n",
    "# The data is only loaded from the disk when it is required\n",
    "last_points = torch.from_numpy(dset_loaded[-2:])\n",
    "f.close()"
   ],
   "id": "f4a015d87f41f9ef",
   "outputs": [],
   "execution_count": 102
  },
  {
   "metadata": {},
   "cell_type": "markdown",
   "source": [
    "## Exercises\n",
    "\n",
    "### Exercise 1\n",
    "\n",
    "The tensor will have shape (9), stride (1) and offset (0)."
   ],
   "id": "440e5ad9e5c9cfa0"
  },
  {
   "metadata": {
    "ExecuteTime": {
     "end_time": "2025-07-14T17:09:59.008710Z",
     "start_time": "2025-07-14T17:09:59.004607Z"
    }
   },
   "cell_type": "code",
   "source": [
    "a = torch.tensor(list(range(9)))\n",
    "a.shape, a.stride(), a.storage_offset()"
   ],
   "id": "6618dfa2b32f7290",
   "outputs": [
    {
     "data": {
      "text/plain": [
       "(torch.Size([9]), (1,), 0)"
      ]
     },
     "execution_count": 106,
     "metadata": {},
     "output_type": "execute_result"
    }
   ],
   "execution_count": 106
  },
  {
   "metadata": {
    "ExecuteTime": {
     "end_time": "2025-07-14T17:10:13.892503Z",
     "start_time": "2025-07-14T17:10:13.887565Z"
    }
   },
   "cell_type": "code",
   "source": [
    "b = a.view(3, 3)\n",
    "b"
   ],
   "id": "400f20d8ee82e8c",
   "outputs": [
    {
     "data": {
      "text/plain": [
       "tensor([[0, 1, 2],\n",
       "        [3, 4, 5],\n",
       "        [6, 7, 8]])"
      ]
     },
     "execution_count": 108,
     "metadata": {},
     "output_type": "execute_result"
    }
   ],
   "execution_count": 108
  },
  {
   "metadata": {
    "ExecuteTime": {
     "end_time": "2025-07-14T17:12:45.565233Z",
     "start_time": "2025-07-14T17:12:45.561496Z"
    }
   },
   "cell_type": "code",
   "source": "b.storage().data_ptr() == a.storage().data_ptr()",
   "id": "6bbeeeff5689ed82",
   "outputs": [
    {
     "data": {
      "text/plain": [
       "True"
      ]
     },
     "execution_count": 110,
     "metadata": {},
     "output_type": "execute_result"
    }
   ],
   "execution_count": 110
  },
  {
   "metadata": {},
   "cell_type": "markdown",
   "source": "Size will be (2, 2), stride (2, 1) and offset (4).",
   "id": "3c38fa1dd629ab4e"
  },
  {
   "metadata": {
    "ExecuteTime": {
     "end_time": "2025-07-14T17:13:47.487174Z",
     "start_time": "2025-07-14T17:13:47.482630Z"
    }
   },
   "cell_type": "code",
   "source": [
    "c = b[1:, 1:]\n",
    "c.shape, c.stride(), c.storage_offset()"
   ],
   "id": "8e9cca96db2f2b9e",
   "outputs": [
    {
     "data": {
      "text/plain": [
       "(torch.Size([2, 2]), (3, 1), 4)"
      ]
     },
     "execution_count": 111,
     "metadata": {},
     "output_type": "execute_result"
    }
   ],
   "execution_count": 111
  },
  {
   "metadata": {},
   "cell_type": "markdown",
   "source": "### Exercise 2",
   "id": "47f27262a046a612"
  },
  {
   "metadata": {
    "ExecuteTime": {
     "end_time": "2025-07-14T17:14:41.355297Z",
     "start_time": "2025-07-14T17:14:41.350489Z"
    }
   },
   "cell_type": "code",
   "source": [
    "a = torch.tensor(list(range(9)))\n",
    "a"
   ],
   "id": "1fd540b3fbf5041a",
   "outputs": [
    {
     "data": {
      "text/plain": [
       "tensor([0, 1, 2, 3, 4, 5, 6, 7, 8])"
      ]
     },
     "execution_count": 112,
     "metadata": {},
     "output_type": "execute_result"
    }
   ],
   "execution_count": 112
  },
  {
   "metadata": {
    "ExecuteTime": {
     "end_time": "2025-07-14T17:14:54.503887Z",
     "start_time": "2025-07-14T17:14:54.499775Z"
    }
   },
   "cell_type": "code",
   "source": "a.sqrt()",
   "id": "6dc913f977d415f9",
   "outputs": [
    {
     "data": {
      "text/plain": [
       "tensor([0.0000, 1.0000, 1.4142, 1.7321, 2.0000, 2.2361, 2.4495, 2.6458, 2.8284])"
      ]
     },
     "execution_count": 113,
     "metadata": {},
     "output_type": "execute_result"
    }
   ],
   "execution_count": 113
  },
  {
   "metadata": {
    "ExecuteTime": {
     "end_time": "2025-07-14T17:15:00.447847Z",
     "start_time": "2025-07-14T17:15:00.443432Z"
    }
   },
   "cell_type": "code",
   "source": "a.cos()",
   "id": "a6aee8240cad4589",
   "outputs": [
    {
     "data": {
      "text/plain": [
       "tensor([ 1.0000,  0.5403, -0.4161, -0.9900, -0.6536,  0.2837,  0.9602,  0.7539,\n",
       "        -0.1455])"
      ]
     },
     "execution_count": 114,
     "metadata": {},
     "output_type": "execute_result"
    }
   ],
   "execution_count": 114
  },
  {
   "metadata": {
    "ExecuteTime": {
     "end_time": "2025-07-14T17:17:03.291398Z",
     "start_time": "2025-07-14T17:17:03.287620Z"
    }
   },
   "cell_type": "code",
   "source": "torch.cos(a)",
   "id": "cd3b2008b9baeec8",
   "outputs": [
    {
     "data": {
      "text/plain": [
       "tensor([ 1.0000,  0.5403, -0.4161, -0.9900, -0.6536,  0.2837,  0.9602,  0.7539,\n",
       "        -0.1455])"
      ]
     },
     "execution_count": 117,
     "metadata": {},
     "output_type": "execute_result"
    }
   ],
   "execution_count": 117
  },
  {
   "metadata": {
    "ExecuteTime": {
     "end_time": "2025-07-14T17:15:53.326553Z",
     "start_time": "2025-07-14T17:15:53.296863Z"
    }
   },
   "cell_type": "code",
   "source": "a.sqrt_()",
   "id": "c42b5b85ec197bf8",
   "outputs": [
    {
     "ename": "RuntimeError",
     "evalue": "result type Float can't be cast to the desired output type Long",
     "output_type": "error",
     "traceback": [
      "\u001B[31m---------------------------------------------------------------------------\u001B[39m",
      "\u001B[31mRuntimeError\u001B[39m                              Traceback (most recent call last)",
      "\u001B[36mCell\u001B[39m\u001B[36m \u001B[39m\u001B[32mIn[116]\u001B[39m\u001B[32m, line 1\u001B[39m\n\u001B[32m----> \u001B[39m\u001B[32m1\u001B[39m \u001B[43ma\u001B[49m\u001B[43m.\u001B[49m\u001B[43msqrt_\u001B[49m\u001B[43m(\u001B[49m\u001B[43m)\u001B[49m\n",
      "\u001B[31mRuntimeError\u001B[39m: result type Float can't be cast to the desired output type Long"
     ]
    }
   ],
   "execution_count": 116
  },
  {
   "metadata": {},
   "cell_type": "code",
   "outputs": [],
   "execution_count": null,
   "source": "",
   "id": "7b0654d1c9e8d25f"
  }
 ],
 "metadata": {
  "kernelspec": {
   "display_name": "Python 3",
   "language": "python",
   "name": "python3"
  },
  "language_info": {
   "codemirror_mode": {
    "name": "ipython",
    "version": 2
   },
   "file_extension": ".py",
   "mimetype": "text/x-python",
   "name": "python",
   "nbconvert_exporter": "python",
   "pygments_lexer": "ipython2",
   "version": "2.7.6"
  }
 },
 "nbformat": 4,
 "nbformat_minor": 5
}
