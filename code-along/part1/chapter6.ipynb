{
 "cells": [
  {
   "metadata": {},
   "cell_type": "markdown",
   "source": "## Simple Neural Net",
   "id": "8ec0f1e2fda65300"
  },
  {
   "metadata": {
    "ExecuteTime": {
     "end_time": "2025-07-15T18:00:00.570640Z",
     "start_time": "2025-07-15T18:00:00.567764Z"
    }
   },
   "cell_type": "code",
   "source": [
    "import torch\n",
    "import torch.nn as nn\n",
    "import torch.optim as optim"
   ],
   "id": "d7ef011c8acfdab2",
   "outputs": [],
   "execution_count": 22
  },
  {
   "metadata": {
    "ExecuteTime": {
     "end_time": "2025-07-15T17:37:58.585421Z",
     "start_time": "2025-07-15T17:37:58.580571Z"
    }
   },
   "cell_type": "code",
   "source": [
    "t_c = [0.5,  14.0, 15.0, 28.0, 11.0,  8.0,  3.0, -4.0,  6.0, 13.0, 21.0]    # In Celsius\n",
    "t_u = [35.7, 55.9, 58.2, 81.9, 56.3, 48.9, 33.9, 21.8, 48.4, 60.4, 68.4]    # No units\n",
    "t_c = torch.tensor(t_c).unsqueeze(1)\n",
    "t_u = torch.tensor(t_u).unsqueeze(1)\n",
    "\n",
    "t_u.shape"
   ],
   "id": "acb01f07bb7974a3",
   "outputs": [
    {
     "data": {
      "text/plain": [
       "torch.Size([11, 1])"
      ]
     },
     "execution_count": 6,
     "metadata": {},
     "output_type": "execute_result"
    }
   ],
   "execution_count": 6
  },
  {
   "metadata": {
    "ExecuteTime": {
     "end_time": "2025-07-15T17:39:22.969822Z",
     "start_time": "2025-07-15T17:39:22.964073Z"
    }
   },
   "cell_type": "code",
   "source": [
    "n_samples = t_u.shape[0]\n",
    "n_val = int(0.2 * n_samples)\n",
    "\n",
    "shuffled_indices = torch.randperm(n_samples)\n",
    "train_indices = shuffled_indices[:-n_val]\n",
    "val_indices = shuffled_indices[n_val:]\n",
    "\n",
    "train_t_u = t_u[train_indices]\n",
    "val_t_u = t_u[val_indices]\n",
    "\n",
    "t_c_train = t_c[train_indices]\n",
    "t_c_val = t_c[val_indices]\n",
    "\n",
    "t_un_train = train_t_u * 0.1\n",
    "t_un_val = val_t_u * 0.1"
   ],
   "id": "46063c1d66583ba7",
   "outputs": [],
   "execution_count": 9
  },
  {
   "metadata": {
    "ExecuteTime": {
     "end_time": "2025-07-15T19:00:27.326503Z",
     "start_time": "2025-07-15T19:00:27.322738Z"
    }
   },
   "cell_type": "code",
   "source": "t_c_val.shape, t_un_val.shape",
   "id": "193dbf6dfd221f06",
   "outputs": [
    {
     "data": {
      "text/plain": [
       "(torch.Size([9, 1]), torch.Size([9, 1]))"
      ]
     },
     "execution_count": 117,
     "metadata": {},
     "output_type": "execute_result"
    }
   ],
   "execution_count": 117
  },
  {
   "cell_type": "code",
   "id": "initial_id",
   "metadata": {
    "collapsed": true,
    "ExecuteTime": {
     "end_time": "2025-07-15T17:40:07.559508Z",
     "start_time": "2025-07-15T17:40:07.552787Z"
    }
   },
   "source": [
    "linear_model = nn.Linear(1, 1)  # Num input features, num output features\n",
    "linear_model(t_un_val).detach().numpy()"
   ],
   "outputs": [
    {
     "data": {
      "text/plain": [
       "array([[2.8833995],\n",
       "       [2.3221292],\n",
       "       [1.5421069],\n",
       "       [1.9421921],\n",
       "       [3.2719717],\n",
       "       [2.535124 ],\n",
       "       [2.5236108],\n",
       "       [2.5898118],\n",
       "       [2.3077374]], dtype=float32)"
      ]
     },
     "execution_count": 16,
     "metadata": {},
     "output_type": "execute_result"
    }
   ],
   "execution_count": 16
  },
  {
   "metadata": {
    "ExecuteTime": {
     "end_time": "2025-07-15T17:42:07.768448Z",
     "start_time": "2025-07-15T17:42:07.763482Z"
    }
   },
   "cell_type": "code",
   "source": "linear_model.weight, linear_model.bias",
   "id": "e34b10f9fd807528",
   "outputs": [
    {
     "data": {
      "text/plain": [
       "(Parameter containing:\n",
       " tensor([[0.2878]], requires_grad=True),\n",
       " Parameter containing:\n",
       " tensor([0.9146], requires_grad=True))"
      ]
     },
     "execution_count": 17,
     "metadata": {},
     "output_type": "execute_result"
    }
   ],
   "execution_count": 17
  },
  {
   "metadata": {
    "ExecuteTime": {
     "end_time": "2025-07-15T17:43:12.312970Z",
     "start_time": "2025-07-15T17:43:12.308884Z"
    }
   },
   "cell_type": "code",
   "source": [
    "x = torch.ones(1)\n",
    "linear_model(x)"
   ],
   "id": "5697d5bd97fb8b32",
   "outputs": [
    {
     "data": {
      "text/plain": [
       "tensor([1.2025], grad_fn=<ViewBackward0>)"
      ]
     },
     "execution_count": 18,
     "metadata": {},
     "output_type": "execute_result"
    }
   ],
   "execution_count": 18
  },
  {
   "metadata": {
    "ExecuteTime": {
     "end_time": "2025-07-15T17:44:42.206426Z",
     "start_time": "2025-07-15T17:44:42.201805Z"
    }
   },
   "cell_type": "code",
   "source": [
    "batch_x = torch.ones(10, 1)\n",
    "linear_model(batch_x).detach()"
   ],
   "id": "9ffca3a72dd243f4",
   "outputs": [
    {
     "data": {
      "text/plain": [
       "tensor([[1.2025],\n",
       "        [1.2025],\n",
       "        [1.2025],\n",
       "        [1.2025],\n",
       "        [1.2025],\n",
       "        [1.2025],\n",
       "        [1.2025],\n",
       "        [1.2025],\n",
       "        [1.2025],\n",
       "        [1.2025]])"
      ]
     },
     "execution_count": 20,
     "metadata": {},
     "output_type": "execute_result"
    }
   ],
   "execution_count": 20
  },
  {
   "metadata": {
    "ExecuteTime": {
     "end_time": "2025-07-15T18:08:49.101548Z",
     "start_time": "2025-07-15T18:08:49.098379Z"
    }
   },
   "cell_type": "code",
   "source": [
    "linear_model = nn.Linear(1, 1)\n",
    "optimizer_sgd = optim.SGD(linear_model.parameters(), 1e-2)"
   ],
   "id": "aca93e3c73c20d22",
   "outputs": [],
   "execution_count": 35
  },
  {
   "metadata": {
    "ExecuteTime": {
     "end_time": "2025-07-15T18:08:49.354067Z",
     "start_time": "2025-07-15T18:08:49.348738Z"
    }
   },
   "cell_type": "code",
   "source": [
    "def forward_call(model, loss_fn, data, targets, is_train=True):\n",
    "    with torch.set_grad_enabled(is_train):\n",
    "        out = model(data)\n",
    "        loss = loss_fn(out, targets)\n",
    "    return loss\n",
    "\n",
    "def training_loop(n_epochs, model, optimizer, loss_fn, train_data, train_targets, val_data, val_targets):\n",
    "    for epoch in range(n_epochs):\n",
    "        train_loss = forward_call(model, loss_fn, train_data, train_targets)\n",
    "        val_loss = forward_call(model, loss_fn, val_data, val_targets, False)\n",
    "\n",
    "        optimizer.zero_grad()\n",
    "        train_loss.backward()\n",
    "        optimizer.step()\n",
    "\n",
    "        if (epoch + 1) % 200 == 0 or epoch <= 3:\n",
    "            print(f'Epoch {epoch + 1:>4}:    Train Loss {train_loss.float():.4f}    Val Loss {val_loss.float():.4f}')"
   ],
   "id": "889ea5f1ce032821",
   "outputs": [],
   "execution_count": 36
  },
  {
   "metadata": {
    "ExecuteTime": {
     "end_time": "2025-07-15T18:08:50.660078Z",
     "start_time": "2025-07-15T18:08:49.788915Z"
    }
   },
   "cell_type": "code",
   "source": "training_loop(3000, linear_model, optimizer_sgd, nn.MSELoss(), t_un_train, t_c_train, t_un_val, t_c_val)",
   "id": "e521ca4cef862ad6",
   "outputs": [
    {
     "name": "stdout",
     "output_type": "stream",
     "text": [
      "Epoch    1:    Train Loss 188.2718    Val Loss 196.9988\n",
      "Epoch    2:    Train Loss 56.7837    Val Loss 59.1701\n",
      "Epoch    3:    Train Loss 36.6289    Val Loss 37.6256\n",
      "Epoch    4:    Train Loss 33.4513    Val Loss 34.0758\n",
      "Epoch  200:    Train Loss 16.2877    Val Loss 17.6336\n",
      "Epoch  400:    Train Loss 8.6883    Val Loss 10.0807\n",
      "Epoch  600:    Train Loss 5.3130    Val Loss 6.4752\n",
      "Epoch  800:    Train Loss 3.8138    Val Loss 4.7067\n",
      "Epoch 1000:    Train Loss 3.1479    Val Loss 3.8098\n",
      "Epoch 1200:    Train Loss 2.8521    Val Loss 3.3373\n",
      "Epoch 1400:    Train Loss 2.7207    Val Loss 3.0779\n",
      "Epoch 1600:    Train Loss 2.6624    Val Loss 2.9297\n",
      "Epoch 1800:    Train Loss 2.6365    Val Loss 2.8420\n",
      "Epoch 2000:    Train Loss 2.6250    Val Loss 2.7883\n",
      "Epoch 2200:    Train Loss 2.6199    Val Loss 2.7547\n",
      "Epoch 2400:    Train Loss 2.6176    Val Loss 2.7333\n",
      "Epoch 2600:    Train Loss 2.6166    Val Loss 2.7195\n",
      "Epoch 2800:    Train Loss 2.6161    Val Loss 2.7104\n",
      "Epoch 3000:    Train Loss 2.6159    Val Loss 2.7045\n"
     ]
    }
   ],
   "execution_count": 37
  },
  {
   "metadata": {
    "ExecuteTime": {
     "end_time": "2025-07-15T18:14:05.073881Z",
     "start_time": "2025-07-15T18:14:05.069293Z"
    }
   },
   "cell_type": "code",
   "source": [
    "seq_model = nn.Sequential(\n",
    "    nn.Linear(1, 13),\n",
    "    nn.Tanh(),\n",
    "    nn.Linear(13, 1)\n",
    ")\n",
    "seq_model"
   ],
   "id": "6e3a907dfce0f477",
   "outputs": [
    {
     "data": {
      "text/plain": [
       "Sequential(\n",
       "  (0): Linear(in_features=1, out_features=13, bias=True)\n",
       "  (1): Tanh()\n",
       "  (2): Linear(in_features=13, out_features=1, bias=True)\n",
       ")"
      ]
     },
     "execution_count": 38,
     "metadata": {},
     "output_type": "execute_result"
    }
   ],
   "execution_count": 38
  },
  {
   "metadata": {
    "ExecuteTime": {
     "end_time": "2025-07-15T18:14:56.315591Z",
     "start_time": "2025-07-15T18:14:56.310003Z"
    }
   },
   "cell_type": "code",
   "source": "[param.shape for param in seq_model.parameters()]",
   "id": "2f770a4b6f02a808",
   "outputs": [
    {
     "data": {
      "text/plain": [
       "[torch.Size([13, 1]), torch.Size([13]), torch.Size([1, 13]), torch.Size([1])]"
      ]
     },
     "execution_count": 40,
     "metadata": {},
     "output_type": "execute_result"
    }
   ],
   "execution_count": 40
  },
  {
   "metadata": {
    "ExecuteTime": {
     "end_time": "2025-07-15T18:15:50.303839Z",
     "start_time": "2025-07-15T18:15:50.301355Z"
    }
   },
   "cell_type": "code",
   "source": [
    "for name, param in seq_model.named_parameters():\n",
    "    print(name, param.shape)"
   ],
   "id": "6427d1d7edf4834d",
   "outputs": [
    {
     "name": "stdout",
     "output_type": "stream",
     "text": [
      "0.weight torch.Size([13, 1])\n",
      "0.bias torch.Size([13])\n",
      "2.weight torch.Size([1, 13])\n",
      "2.bias torch.Size([1])\n"
     ]
    }
   ],
   "execution_count": 41
  },
  {
   "metadata": {
    "ExecuteTime": {
     "end_time": "2025-07-15T18:17:47.013898Z",
     "start_time": "2025-07-15T18:17:47.009995Z"
    }
   },
   "cell_type": "code",
   "source": [
    "# Sequential also allows Order dicts\n",
    "from collections import OrderedDict\n",
    "\n",
    "seq_model = nn.Sequential(OrderedDict([\n",
    "    ('hidden_layer', nn.Linear(1, 8)),\n",
    "    ('hidden_activation', nn.Tanh()),\n",
    "    ('output_layer', nn.Linear(8, 1))\n",
    "]))"
   ],
   "id": "4cbc9624410f300f",
   "outputs": [],
   "execution_count": 42
  },
  {
   "metadata": {
    "ExecuteTime": {
     "end_time": "2025-07-15T18:18:02.000051Z",
     "start_time": "2025-07-15T18:18:01.996893Z"
    }
   },
   "cell_type": "code",
   "source": [
    "for name, param in seq_model.named_parameters():\n",
    "    print(name, param.shape)"
   ],
   "id": "a19c332bf229fe56",
   "outputs": [
    {
     "name": "stdout",
     "output_type": "stream",
     "text": [
      "hidden_layer.weight torch.Size([8, 1])\n",
      "hidden_layer.bias torch.Size([8])\n",
      "output_layer.weight torch.Size([1, 8])\n",
      "output_layer.bias torch.Size([1])\n"
     ]
    }
   ],
   "execution_count": 43
  },
  {
   "metadata": {
    "ExecuteTime": {
     "end_time": "2025-07-15T18:19:45.699199Z",
     "start_time": "2025-07-15T18:19:44.485324Z"
    }
   },
   "cell_type": "code",
   "source": [
    "optimizer_sgd = optim.SGD(seq_model.parameters(), 1e-3)\n",
    "training_loop(3000, seq_model, optimizer_sgd, nn.MSELoss(), t_un_train, t_c_train, t_un_val, t_c_val)"
   ],
   "id": "16d9e05eba8ec1dd",
   "outputs": [
    {
     "name": "stdout",
     "output_type": "stream",
     "text": [
      "Epoch    1:    Train Loss 197.1738    Val Loss 206.2709\n",
      "Epoch    2:    Train Loss 193.0380    Val Loss 201.9187\n",
      "Epoch    3:    Train Loss 189.0106    Val Loss 197.6786\n",
      "Epoch    4:    Train Loss 185.1427    Val Loss 193.6025\n",
      "Epoch  200:    Train Loss 39.6420    Val Loss 41.5249\n",
      "Epoch  400:    Train Loss 14.9635    Val Loss 16.4628\n",
      "Epoch  600:    Train Loss 8.9189    Val Loss 9.2223\n",
      "Epoch  800:    Train Loss 6.6749    Val Loss 6.5050\n",
      "Epoch 1000:    Train Loss 5.2463    Val Loss 4.9072\n",
      "Epoch 1200:    Train Loss 4.2282    Val Loss 3.7014\n",
      "Epoch 1400:    Train Loss 6.7598    Val Loss 6.7420\n",
      "Epoch 1600:    Train Loss 5.6030    Val Loss 5.5011\n",
      "Epoch 1800:    Train Loss 4.8557    Val Loss 4.7487\n",
      "Epoch 2000:    Train Loss 4.2754    Val Loss 4.1935\n",
      "Epoch 2200:    Train Loss 3.8301    Val Loss 3.8004\n",
      "Epoch 2400:    Train Loss 3.4889    Val Loss 3.5301\n",
      "Epoch 2600:    Train Loss 3.2115    Val Loss 3.3266\n",
      "Epoch 2800:    Train Loss 2.9685    Val Loss 3.1471\n",
      "Epoch 3000:    Train Loss 2.7456    Val Loss 2.9696\n"
     ]
    }
   ],
   "execution_count": 45
  },
  {
   "metadata": {
    "ExecuteTime": {
     "end_time": "2025-07-15T18:20:02.580806Z",
     "start_time": "2025-07-15T18:20:02.576864Z"
    }
   },
   "cell_type": "code",
   "source": "seq_model.hidden_layer.weight.grad",
   "id": "5aff5fc452beacbf",
   "outputs": [
    {
     "data": {
      "text/plain": [
       "tensor([[ -0.3843],\n",
       "        [ -0.5207],\n",
       "        [ -0.3931],\n",
       "        [ -5.7128],\n",
       "        [ 28.2589],\n",
       "        [ 25.5649],\n",
       "        [-29.1481],\n",
       "        [ 28.5142]])"
      ]
     },
     "execution_count": 46,
     "metadata": {},
     "output_type": "execute_result"
    }
   ],
   "execution_count": 46
  },
  {
   "metadata": {
    "ExecuteTime": {
     "end_time": "2025-07-15T18:23:33.279778Z",
     "start_time": "2025-07-15T18:23:33.149566Z"
    }
   },
   "cell_type": "code",
   "source": [
    "import matplotlib.pyplot as plt\n",
    "\n",
    "t_range = torch.arange(20., 90.).unsqueeze(1)\n",
    "\n",
    "fig_ = plt.figure()\n",
    "plt.xlabel('Fahrenheit')\n",
    "plt.ylabel('Celsius')\n",
    "plt.plot(t_u.numpy(), t_c.numpy(), 'o')\n",
    "plt.plot(t_range.numpy(), seq_model(0.1 * t_range).detach().numpy(), 'c-')\n",
    "plt.plot(t_u.numpy(), seq_model(0.1 * t_u).detach().numpy(), 'kx')"
   ],
   "id": "8a3c443854657077",
   "outputs": [
    {
     "data": {
      "text/plain": [
       "[<matplotlib.lines.Line2D at 0x7f1bb5fb9040>]"
      ]
     },
     "execution_count": 51,
     "metadata": {},
     "output_type": "execute_result"
    },
    {
     "data": {
      "text/plain": [
       "<Figure size 640x480 with 1 Axes>"
      ],
      "image/png": "[encoded data removed]"
     },
     "metadata": {},
     "output_type": "display_data"
    }
   ],
   "execution_count": 51
  },
  {
   "metadata": {},
   "cell_type": "markdown",
   "source": [
    "## Exercises\n",
    "\n",
    "### Exercise 1"
   ],
   "id": "814351be9c6a8cf2"
  },
  {
   "metadata": {
    "ExecuteTime": {
     "end_time": "2025-07-15T18:27:16.408295Z",
     "start_time": "2025-07-15T18:27:16.403298Z"
    }
   },
   "cell_type": "code",
   "source": [
    "import matplotlib.pyplot as plt\n",
    "\n",
    "def plot(model):\n",
    "    t_ran = torch.arange(20., 90.).unsqueeze(1)\n",
    "\n",
    "    plt.xlabel('Fahrenheit')\n",
    "    plt.ylabel('Celsius')\n",
    "    plt.plot(t_u.numpy(), t_c.numpy(), 'o')\n",
    "    plt.plot(t_ran.numpy(), model(0.1 * t_ran).detach().numpy(), 'c-')\n",
    "    plt.plot(t_u.numpy(), model(0.1 * t_u).detach().numpy(), 'kx')"
   ],
   "id": "575cf215fdf0ac97",
   "outputs": [],
   "execution_count": 52
  },
  {
   "metadata": {
    "ExecuteTime": {
     "end_time": "2025-07-15T18:27:18.483791Z",
     "start_time": "2025-07-15T18:27:18.477592Z"
    }
   },
   "cell_type": "code",
   "source": [
    "def forward_call(model, loss_fn, data, targets, is_train=True):\n",
    "    with torch.set_grad_enabled(is_train):\n",
    "        out = model(data)\n",
    "        loss = loss_fn(out, targets)\n",
    "    return loss\n",
    "\n",
    "def training_loop(n_epochs, model, optimizer, loss_fn, train_data, train_targets, val_data, val_targets):\n",
    "    for epoch in range(n_epochs):\n",
    "        train_loss = forward_call(model, loss_fn, train_data, train_targets)\n",
    "        val_loss = forward_call(model, loss_fn, val_data, val_targets, False)\n",
    "\n",
    "        optimizer.zero_grad()\n",
    "        train_loss.backward()\n",
    "        optimizer.step()\n",
    "\n",
    "        if (epoch + 1) % 200 == 0 or epoch <= 3:\n",
    "            print(f'Epoch {epoch + 1:>4}:    Train Loss {train_loss.float():.4f}    Val Loss {val_loss.float():.4f}')"
   ],
   "id": "fa04f22ec5ed0844",
   "outputs": [],
   "execution_count": 53
  },
  {
   "metadata": {
    "ExecuteTime": {
     "end_time": "2025-07-15T18:29:05.478054Z",
     "start_time": "2025-07-15T18:29:03.986493Z"
    }
   },
   "cell_type": "code",
   "source": [
    "# More Layers\n",
    "seq_model = nn.Sequential(\n",
    "    nn.Linear(1, 13),\n",
    "    nn.Tanh(),\n",
    "    nn.Linear(13, 13),\n",
    "    nn.Tanh(),\n",
    "    nn.Linear(13, 1)\n",
    ")\n",
    "optimizer_sgd = optim.SGD(seq_model.parameters(), 1e-2)\n",
    "training_loop(3000, seq_model, optimizer_sgd, nn.MSELoss(), t_un_train, t_c_train, t_un_val, t_c_val)\n",
    "plot(seq_model)"
   ],
   "id": "328ec774e96ef278",
   "outputs": [
    {
     "name": "stdout",
     "output_type": "stream",
     "text": [
      "Epoch    1:    Train Loss 208.7638    Val Loss 218.4417\n",
      "Epoch    2:    Train Loss 184.4743    Val Loss 192.8419\n",
      "Epoch    3:    Train Loss 161.8081    Val Loss 168.8334\n",
      "Epoch    4:    Train Loss 138.0195    Val Loss 143.4303\n",
      "Epoch  200:    Train Loss 89.4188    Val Loss 87.0047\n",
      "Epoch  400:    Train Loss 89.6387    Val Loss 87.2033\n",
      "Epoch  600:    Train Loss 89.7368    Val Loss 87.2932\n",
      "Epoch  800:    Train Loss 89.8864    Val Loss 87.4522\n",
      "Epoch 1000:    Train Loss 89.7560    Val Loss 87.3113\n",
      "Epoch 1200:    Train Loss 89.6955    Val Loss 87.2577\n",
      "Epoch 1400:    Train Loss 89.7333    Val Loss 87.2912\n",
      "Epoch 1600:    Train Loss 89.7681    Val Loss 87.3237\n",
      "Epoch 1800:    Train Loss 89.7332    Val Loss 87.2941\n",
      "Epoch 2000:    Train Loss 89.7663    Val Loss 87.3222\n",
      "Epoch 2200:    Train Loss 89.7551    Val Loss 87.3122\n",
      "Epoch 2400:    Train Loss 89.4870    Val Loss 87.0693\n",
      "Epoch 2600:    Train Loss 89.7456    Val Loss 87.3027\n",
      "Epoch 2800:    Train Loss 89.2075    Val Loss 86.8346\n",
      "Epoch 3000:    Train Loss 89.7759    Val Loss 87.3309\n"
     ]
    },
    {
     "data": {
      "text/plain": [
       "<Figure size 640x480 with 1 Axes>"
      ],
      "image/png": "[encoded data removed]"
     },
     "metadata": {},
     "output_type": "display_data"
    }
   ],
   "execution_count": 57
  },
  {
   "metadata": {},
   "cell_type": "markdown",
   "source": "The learning rate is too high.",
   "id": "889236d8ad28bc03"
  },
  {
   "metadata": {
    "ExecuteTime": {
     "end_time": "2025-07-15T18:29:35.126192Z",
     "start_time": "2025-07-15T18:29:33.497987Z"
    }
   },
   "cell_type": "code",
   "source": [
    "seq_model = nn.Sequential(\n",
    "    nn.Linear(1, 13),\n",
    "    nn.Tanh(),\n",
    "    nn.Linear(13, 13),\n",
    "    nn.Tanh(),\n",
    "    nn.Linear(13, 1)\n",
    ")\n",
    "optimizer_sgd = optim.SGD(seq_model.parameters(), 1e-3)\n",
    "training_loop(3000, seq_model, optimizer_sgd, nn.MSELoss(), t_un_train, t_c_train, t_un_val, t_c_val)\n",
    "plot(seq_model)"
   ],
   "id": "ccbf995176ec891c",
   "outputs": [
    {
     "name": "stdout",
     "output_type": "stream",
     "text": [
      "Epoch    1:    Train Loss 201.0273    Val Loss 210.3038\n",
      "Epoch    2:    Train Loss 198.2935    Val Loss 207.4236\n",
      "Epoch    3:    Train Loss 195.6072    Val Loss 204.5917\n",
      "Epoch    4:    Train Loss 192.9584    Val Loss 201.7979\n",
      "Epoch  200:    Train Loss 81.4349    Val Loss 80.3231\n",
      "Epoch  400:    Train Loss 28.1593    Val Loss 34.0940\n",
      "Epoch  600:    Train Loss 18.4868    Val Loss 19.5411\n",
      "Epoch  800:    Train Loss 38.4660    Val Loss 48.3271\n",
      "Epoch 1000:    Train Loss 13.5188    Val Loss 14.3215\n",
      "Epoch 1200:    Train Loss 10.5176    Val Loss 11.1653\n",
      "Epoch 1400:    Train Loss 6.9279    Val Loss 7.4145\n",
      "Epoch 1600:    Train Loss 5.3843    Val Loss 5.8962\n",
      "Epoch 1800:    Train Loss 4.5248    Val Loss 5.0874\n",
      "Epoch 2000:    Train Loss 3.9252    Val Loss 4.5252\n",
      "Epoch 2200:    Train Loss 3.4543    Val Loss 4.0820\n",
      "Epoch 2400:    Train Loss 3.0533    Val Loss 3.7034\n",
      "Epoch 2600:    Train Loss 2.7127    Val Loss 3.3797\n",
      "Epoch 2800:    Train Loss 2.4461    Val Loss 3.1245\n",
      "Epoch 3000:    Train Loss 2.2524    Val Loss 2.9380\n"
     ]
    },
    {
     "data": {
      "text/plain": [
       "<Figure size 640x480 with 1 Axes>"
      ],
      "image/png": "[encoded data removed]"
     },
     "metadata": {},
     "output_type": "display_data"
    }
   ],
   "execution_count": 58
  },
  {
   "metadata": {
    "ExecuteTime": {
     "end_time": "2025-07-15T18:30:03.107548Z",
     "start_time": "2025-07-15T18:30:01.393672Z"
    }
   },
   "cell_type": "code",
   "source": [
    "seq_model = nn.Sequential(\n",
    "    nn.Linear(1, 13),\n",
    "    nn.Tanh(),\n",
    "    nn.Linear(13, 13),\n",
    "    nn.Tanh(),\n",
    "    nn.Linear(13, 1)\n",
    ")\n",
    "optimizer_sgd = optim.SGD(seq_model.parameters(), 1e-4)\n",
    "training_loop(3000, seq_model, optimizer_sgd, nn.MSELoss(), t_un_train, t_c_train, t_un_val, t_c_val)\n",
    "plot(seq_model)"
   ],
   "id": "20bc33dbd7e58c4d",
   "outputs": [
    {
     "name": "stdout",
     "output_type": "stream",
     "text": [
      "Epoch    1:    Train Loss 205.0948    Val Loss 214.5861\n",
      "Epoch    2:    Train Loss 204.7670    Val Loss 214.2411\n",
      "Epoch    3:    Train Loss 204.4402    Val Loss 213.8971\n",
      "Epoch    4:    Train Loss 204.1144    Val Loss 213.5543\n",
      "Epoch  200:    Train Loss 150.6279    Val Loss 156.9054\n",
      "Epoch  400:    Train Loss 113.5553    Val Loss 116.8176\n",
      "Epoch  600:    Train Loss 95.6478    Val Loss 96.7270\n",
      "Epoch  800:    Train Loss 87.5311    Val Loss 87.3917\n",
      "Epoch 1000:    Train Loss 79.9249    Val Loss 79.7355\n",
      "Epoch 1200:    Train Loss 68.9332    Val Loss 69.6714\n",
      "Epoch 1400:    Train Loss 57.0436    Val Loss 58.4312\n",
      "Epoch 1600:    Train Loss 45.0621    Val Loss 46.9921\n",
      "Epoch 1800:    Train Loss 34.9106    Val Loss 37.0804\n",
      "Epoch 2000:    Train Loss 27.3374    Val Loss 29.4040\n",
      "Epoch 2200:    Train Loss 22.1491    Val Loss 23.8501\n",
      "Epoch 2400:    Train Loss 18.6665    Val Loss 19.8924\n",
      "Epoch 2600:    Train Loss 16.2180    Val Loss 16.9939\n",
      "Epoch 2800:    Train Loss 14.3618    Val Loss 14.7737\n",
      "Epoch 3000:    Train Loss 12.8626    Val Loss 12.9980\n"
     ]
    },
    {
     "data": {
      "text/plain": [
       "<Figure size 640x480 with 1 Axes>"
      ],
      "image/png": "[encoded data removed]"
     },
     "metadata": {},
     "output_type": "display_data"
    }
   ],
   "execution_count": 59
  },
  {
   "metadata": {},
   "cell_type": "markdown",
   "source": "Learning Rate too low",
   "id": "8365fdec66eeb51f"
  },
  {
   "metadata": {
    "ExecuteTime": {
     "end_time": "2025-07-15T18:33:35.653233Z",
     "start_time": "2025-07-15T18:33:32.565941Z"
    }
   },
   "cell_type": "code",
   "source": [
    "seq_model = nn.Sequential(\n",
    "    nn.Linear(1, 500),\n",
    "    nn.Tanh(),\n",
    "    nn.Linear(500, 300),\n",
    "    nn.Tanh(),\n",
    "    nn.Linear(300, 200),\n",
    "    nn.Tanh(),\n",
    "    nn.Linear(200, 1)\n",
    ")\n",
    "optimizer_sgd = optim.Adam(seq_model.parameters(), 1e-3)\n",
    "training_loop(2000, seq_model, optimizer_sgd, nn.MSELoss(), t_un_train, t_c_train, t_un_val, t_c_val)\n",
    "plot(seq_model)"
   ],
   "id": "6f3c7210491fb58a",
   "outputs": [
    {
     "name": "stdout",
     "output_type": "stream",
     "text": [
      "Epoch    1:    Train Loss 199.6207    Val Loss 208.8106\n",
      "Epoch    2:    Train Loss 157.8501    Val Loss 164.6144\n",
      "Epoch    3:    Train Loss 133.6027    Val Loss 138.6196\n",
      "Epoch    4:    Train Loss 119.7344    Val Loss 123.4832\n",
      "Epoch  200:    Train Loss 5.6028    Val Loss 5.9137\n",
      "Epoch  400:    Train Loss 0.9001    Val Loss 1.5118\n",
      "Epoch  600:    Train Loss 0.5761    Val Loss 1.2897\n",
      "Epoch  800:    Train Loss 0.5212    Val Loss 1.2701\n",
      "Epoch 1000:    Train Loss 0.5143    Val Loss 1.2705\n",
      "Epoch 1200:    Train Loss 0.5115    Val Loss 1.2399\n",
      "Epoch 1400:    Train Loss 0.5104    Val Loss 1.2361\n",
      "Epoch 1600:    Train Loss 0.5097    Val Loss 1.2381\n",
      "Epoch 1800:    Train Loss 0.5117    Val Loss 1.2287\n",
      "Epoch 2000:    Train Loss 0.5081    Val Loss 1.2275\n"
     ]
    },
    {
     "data": {
      "text/plain": [
       "<Figure size 640x480 with 1 Axes>"
      ],
      "image/png": "[encoded data removed]"
     },
     "metadata": {},
     "output_type": "display_data"
    }
   ],
   "execution_count": 68
  },
  {
   "metadata": {},
   "cell_type": "markdown",
   "source": "Obvious overfitting.",
   "id": "396417f528c48623"
  },
  {
   "metadata": {},
   "cell_type": "markdown",
   "source": "### Exercise 2",
   "id": "bbee62afe8633d76"
  },
  {
   "metadata": {
    "ExecuteTime": {
     "end_time": "2025-07-15T18:35:18.635877Z",
     "start_time": "2025-07-15T18:35:18.627285Z"
    }
   },
   "cell_type": "code",
   "source": [
    "import csv\n",
    "import numpy as np\n",
    "\n",
    "wine_path = 'data/ch4/tabular-wine/winequality-white.csv'\n",
    "wine_np = np.loadtxt(wine_path, dtype=np.float32, delimiter=';', skiprows=1)\n",
    "wine_np.shape"
   ],
   "id": "43b6a3b00a84b393",
   "outputs": [
    {
     "data": {
      "text/plain": [
       "(4898, 12)"
      ]
     },
     "execution_count": 69,
     "metadata": {},
     "output_type": "execute_result"
    }
   ],
   "execution_count": 69
  },
  {
   "metadata": {
    "ExecuteTime": {
     "end_time": "2025-07-15T18:35:19.682338Z",
     "start_time": "2025-07-15T18:35:19.678438Z"
    }
   },
   "cell_type": "code",
   "source": [
    "col_list = next(csv.reader(open(wine_path), delimiter=';'))\n",
    "col_list"
   ],
   "id": "3e1cb1e5972da997",
   "outputs": [
    {
     "data": {
      "text/plain": [
       "['fixed acidity',\n",
       " 'volatile acidity',\n",
       " 'citric acid',\n",
       " 'residual sugar',\n",
       " 'chlorides',\n",
       " 'free sulfur dioxide',\n",
       " 'total sulfur dioxide',\n",
       " 'density',\n",
       " 'pH',\n",
       " 'sulphates',\n",
       " 'alcohol',\n",
       " 'quality']"
      ]
     },
     "execution_count": 70,
     "metadata": {},
     "output_type": "execute_result"
    }
   ],
   "execution_count": 70
  },
  {
   "metadata": {
    "ExecuteTime": {
     "end_time": "2025-07-15T18:49:11.429347Z",
     "start_time": "2025-07-15T18:49:11.423627Z"
    }
   },
   "cell_type": "code",
   "source": [
    "wine_data = torch.from_numpy(wine_np)\n",
    "wine_data.shape"
   ],
   "id": "72d5c6c6a143cf9a",
   "outputs": [
    {
     "data": {
      "text/plain": [
       "torch.Size([4898, 12])"
      ]
     },
     "execution_count": 100,
     "metadata": {},
     "output_type": "execute_result"
    }
   ],
   "execution_count": 100
  },
  {
   "metadata": {
    "ExecuteTime": {
     "end_time": "2025-07-15T18:49:11.633858Z",
     "start_time": "2025-07-15T18:49:11.628519Z"
    }
   },
   "cell_type": "code",
   "source": [
    "# Standardize numerical columns\n",
    "column_mean = wine_data[:, :-1].mean(dim=0)\n",
    "column_std = wine_data[:, :-1].std(dim=0)\n",
    "\n",
    "wine_data[:, :-1] = (wine_data[:, :-1] - column_mean) / column_std\n",
    "wine_data[:, -1] = wine_data[:, -1].long()"
   ],
   "id": "b891180f42de63fd",
   "outputs": [],
   "execution_count": 101
  },
  {
   "metadata": {
    "ExecuteTime": {
     "end_time": "2025-07-15T18:49:12.521349Z",
     "start_time": "2025-07-15T18:49:12.514601Z"
    }
   },
   "cell_type": "code",
   "source": "wine_data",
   "id": "cc344f150a55e670",
   "outputs": [
    {
     "data": {
      "text/plain": [
       "tensor([[ 1.7208e-01, -8.1761e-02,  2.1326e-01,  ..., -3.4915e-01,\n",
       "         -1.3930e+00,  6.0000e+00],\n",
       "        [-6.5743e-01,  2.1587e-01,  4.7996e-02,  ...,  1.3418e-03,\n",
       "         -8.2419e-01,  6.0000e+00],\n",
       "        [ 1.4756e+00,  1.7450e-02,  5.4378e-01,  ..., -4.3677e-01,\n",
       "         -3.3663e-01,  6.0000e+00],\n",
       "        ...,\n",
       "        [-4.2043e-01, -3.7940e-01, -1.1915e+00,  ..., -2.6153e-01,\n",
       "         -9.0545e-01,  6.0000e+00],\n",
       "        [-1.6054e+00,  1.1666e-01, -2.8253e-01,  ..., -9.6251e-01,\n",
       "          1.8574e+00,  7.0000e+00],\n",
       "        [-1.0129e+00, -6.7703e-01,  3.7852e-01,  ..., -1.4882e+00,\n",
       "          1.0448e+00,  6.0000e+00]])"
      ]
     },
     "execution_count": 102,
     "metadata": {},
     "output_type": "execute_result"
    }
   ],
   "execution_count": 102
  },
  {
   "metadata": {
    "ExecuteTime": {
     "end_time": "2025-07-15T18:50:01.097935Z",
     "start_time": "2025-07-15T18:50:01.092273Z"
    }
   },
   "cell_type": "code",
   "source": [
    "n_samples = wine_data.shape[0]\n",
    "val_size = int(n_samples * 0.2)\n",
    "\n",
    "shuffled_indices = torch.randperm(n_samples)\n",
    "\n",
    "train_indices = shuffled_indices[:-val_size]\n",
    "val_indices = shuffled_indices[val_size:]\n",
    "\n",
    "train_wine = wine_data[train_indices]\n",
    "val_wine = wine_data[val_indices]"
   ],
   "id": "67399acc913a85b",
   "outputs": [],
   "execution_count": 104
  },
  {
   "metadata": {
    "ExecuteTime": {
     "end_time": "2025-07-15T18:59:19.306114Z",
     "start_time": "2025-07-15T18:59:19.299023Z"
    }
   },
   "cell_type": "code",
   "source": [
    "train_x = train_wine[:, :-1]\n",
    "train_y = train_wine[:, -1].unsqueeze(1)\n",
    "\n",
    "val_x = val_wine[:, :-1]\n",
    "val_y = val_wine[:, -1].unsqueeze(1)"
   ],
   "id": "4bd001d715412cce",
   "outputs": [],
   "execution_count": 114
  },
  {
   "metadata": {
    "ExecuteTime": {
     "end_time": "2025-07-15T18:59:22.254850Z",
     "start_time": "2025-07-15T18:59:22.251101Z"
    }
   },
   "cell_type": "code",
   "source": "val_y.shape",
   "id": "264b4ac6c0eb48ae",
   "outputs": [
    {
     "data": {
      "text/plain": [
       "torch.Size([3919, 1])"
      ]
     },
     "execution_count": 115,
     "metadata": {},
     "output_type": "execute_result"
    }
   ],
   "execution_count": 115
  },
  {
   "metadata": {
    "ExecuteTime": {
     "end_time": "2025-07-15T19:00:33.658830Z",
     "start_time": "2025-07-15T19:00:33.652947Z"
    }
   },
   "cell_type": "code",
   "source": [
    "def forward_fn(model, loss_fn, data_x, data_y, is_train=True):\n",
    "    with torch.set_grad_enabled(is_train):\n",
    "        out = model(data_x)\n",
    "        loss = loss_fn(out, data_y)\n",
    "    return loss\n",
    "\n",
    "def training_loop(n_epochs, model, optimizer, loss_fn, train_data, train_targets, val_data, val_targets):\n",
    "    for epoch in range(n_epochs):\n",
    "        train_loss = forward_fn(model, loss_fn, train_data, train_targets)\n",
    "        val_loss = forward_fn(model, loss_fn, val_data, val_targets)\n",
    "\n",
    "        optimizer.zero_grad()\n",
    "        train_loss.backward()\n",
    "        optimizer.step()\n",
    "\n",
    "        if (epoch + 1) % 200 == 0 or epoch <= 3:\n",
    "            print(f'Epoch {epoch + 1:>4}:    Train Loss {train_loss.float():.4f}    Val Loss {val_loss.float():.4f}')"
   ],
   "id": "b98afd641703b980",
   "outputs": [],
   "execution_count": 118
  },
  {
   "metadata": {
    "ExecuteTime": {
     "end_time": "2025-07-15T19:00:44.721215Z",
     "start_time": "2025-07-15T19:00:34.006186Z"
    }
   },
   "cell_type": "code",
   "source": [
    "new_model = nn.Sequential(\n",
    "    nn.Linear(11, 100),\n",
    "    nn.Tanh(),\n",
    "    nn.Linear(100, 100),\n",
    "    nn.Tanh(),\n",
    "    nn.Linear(100, 7)\n",
    ")\n",
    "optimizer_adam = optim.Adam(new_model.parameters(), 1e-3)\n",
    "training_loop(3000, new_model, optimizer_adam, nn.MSELoss(), train_x, train_y, val_x, val_y)"
   ],
   "id": "2f1b6426da3a5c7e",
   "outputs": [
    {
     "name": "stdout",
     "output_type": "stream",
     "text": [
      "Epoch    1:    Train Loss 35.1278    Val Loss 35.1897\n",
      "Epoch    2:    Train Loss 34.7484    Val Loss 34.8098\n",
      "Epoch    3:    Train Loss 34.3666    Val Loss 34.4275\n",
      "Epoch    4:    Train Loss 33.9794    Val Loss 34.0398\n",
      "Epoch  200:    Train Loss 0.5385    Val Loss 0.5450\n",
      "Epoch  400:    Train Loss 0.5069    Val Loss 0.5172\n",
      "Epoch  600:    Train Loss 0.4853    Val Loss 0.4982\n",
      "Epoch  800:    Train Loss 0.4666    Val Loss 0.4826\n",
      "Epoch 1000:    Train Loss 0.4462    Val Loss 0.4669\n",
      "Epoch 1200:    Train Loss 0.4262    Val Loss 0.4516\n",
      "Epoch 1400:    Train Loss 0.4072    Val Loss 0.4359\n",
      "Epoch 1600:    Train Loss 0.3911    Val Loss 0.4237\n",
      "Epoch 1800:    Train Loss 0.3749    Val Loss 0.4116\n",
      "Epoch 2000:    Train Loss 0.3570    Val Loss 0.3981\n",
      "Epoch 2200:    Train Loss 0.3364    Val Loss 0.3833\n",
      "Epoch 2400:    Train Loss 0.3142    Val Loss 0.3686\n",
      "Epoch 2600:    Train Loss 0.2901    Val Loss 0.3543\n",
      "Epoch 2800:    Train Loss 0.2649    Val Loss 0.3379\n",
      "Epoch 3000:    Train Loss 0.2387    Val Loss 0.3198\n"
     ]
    }
   ],
   "execution_count": 119
  },
  {
   "metadata": {},
   "cell_type": "code",
   "outputs": [],
   "execution_count": null,
   "source": "",
   "id": "14b00296a69ee70"
  }
 ],
 "metadata": {
  "kernelspec": {
   "display_name": "Python 3",
   "language": "python",
   "name": "python3"
  },
  "language_info": {
   "codemirror_mode": {
    "name": "ipython",
    "version": 2
   },
   "file_extension": ".py",
   "mimetype": "text/x-python",
   "name": "python",
   "nbconvert_exporter": "python",
   "pygments_lexer": "ipython2",
   "version": "2.7.6"
  }
 },
 "nbformat": 4,
 "nbformat_minor": 5
}
