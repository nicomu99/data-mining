{
 "cells": [
  {
   "metadata": {},
   "cell_type": "markdown",
   "source": "## Simple Gradient Descent",
   "id": "43ee2e9bed851d63"
  },
  {
   "metadata": {
    "ExecuteTime": {
     "end_time": "2025-07-15T09:36:21.148694Z",
     "start_time": "2025-07-15T09:36:21.144747Z"
    }
   },
   "cell_type": "code",
   "source": [
    "%matplotlib inline\n",
    "import matplotlib.pyplot as plt\n",
    "import torch\n",
    "torch.set_printoptions(edgeitems=2, linewidth=75)"
   ],
   "id": "11ed1b39abc98855",
   "outputs": [],
   "execution_count": 3
  },
  {
   "metadata": {
    "ExecuteTime": {
     "end_time": "2025-07-15T09:35:57.964010Z",
     "start_time": "2025-07-15T09:35:57.960202Z"
    }
   },
   "cell_type": "code",
   "source": [
    "t_c = [0.5,  14.0, 15.0, 28.0, 11.0,  8.0,  3.0, -4.0,  6.0, 13.0, 21.0]    # In Celsius\n",
    "t_u = [35.7, 55.9, 58.2, 81.9, 56.3, 48.9, 33.9, 21.8, 48.4, 60.4, 68.4]    # No units\n",
    "t_c = torch.tensor(t_c)\n",
    "t_u = torch.tensor(t_u)"
   ],
   "id": "15175bd2acedc0b1",
   "outputs": [],
   "execution_count": 2
  },
  {
   "metadata": {
    "ExecuteTime": {
     "end_time": "2025-07-15T09:37:07.389232Z",
     "start_time": "2025-07-15T09:37:07.292249Z"
    }
   },
   "cell_type": "code",
   "source": "plt.scatter(t_u, t_c)",
   "id": "2b2c3390eb78d9d3",
   "outputs": [
    {
     "data": {
      "text/plain": [
       "<matplotlib.collections.PathCollection at 0x7f9b498531d0>"
      ]
     },
     "execution_count": 8,
     "metadata": {},
     "output_type": "execute_result"
    },
    {
     "data": {
      "text/plain": [
       "<Figure size 640x480 with 1 Axes>"
      ],
      "image/png": "[encoded data removed]"
     },
     "metadata": {},
     "output_type": "display_data"
    }
   ],
   "execution_count": 8
  },
  {
   "metadata": {
    "ExecuteTime": {
     "end_time": "2025-07-15T09:45:13.551598Z",
     "start_time": "2025-07-15T09:45:13.548936Z"
    }
   },
   "cell_type": "code",
   "source": [
    "def model(input_t, weights, bias):\n",
    "    return weights * input_t + bias\n",
    "\n",
    "def loss_fn(output_t, input_t):\n",
    "    squared_diffs = (output_t - input_t) ** 2\n",
    "    return squared_diffs.mean()"
   ],
   "id": "aef31eada6efb5b7",
   "outputs": [],
   "execution_count": 14
  },
  {
   "metadata": {
    "ExecuteTime": {
     "end_time": "2025-07-15T09:46:11.386545Z",
     "start_time": "2025-07-15T09:46:11.382544Z"
    }
   },
   "cell_type": "code",
   "source": [
    "w = torch.ones(())\n",
    "b = torch.zeros(())\n",
    "t_new = model(t_u, w, b)\n",
    "t_new"
   ],
   "id": "21fe3b930b62d937",
   "outputs": [
    {
     "data": {
      "text/plain": [
       "tensor([35.7000, 55.9000, 58.2000, 81.9000, 56.3000, 48.9000, 33.9000,\n",
       "        21.8000, 48.4000, 60.4000, 68.4000])"
      ]
     },
     "execution_count": 17,
     "metadata": {},
     "output_type": "execute_result"
    }
   ],
   "execution_count": 17
  },
  {
   "metadata": {
    "ExecuteTime": {
     "end_time": "2025-07-15T09:46:18.181946Z",
     "start_time": "2025-07-15T09:46:18.177616Z"
    }
   },
   "cell_type": "code",
   "source": [
    "loss = loss_fn(t_new, t_c)\n",
    "loss"
   ],
   "id": "123b87f82977dbfd",
   "outputs": [
    {
     "data": {
      "text/plain": [
       "tensor(1763.8848)"
      ]
     },
     "execution_count": 18,
     "metadata": {},
     "output_type": "execute_result"
    }
   ],
   "execution_count": 18
  },
  {
   "metadata": {
    "ExecuteTime": {
     "end_time": "2025-07-15T09:56:56.886123Z",
     "start_time": "2025-07-15T09:56:56.881365Z"
    }
   },
   "cell_type": "code",
   "source": [
    "delta = 0.1\n",
    "loss_rate_of_change_w = (loss_fn(model(t_u, w + delta, b), t_c) -\n",
    "                         loss_fn(model(t_u, w - delta, b), t_c) /\n",
    "                         (2.0 * delta))\n",
    "loss_rate_of_change_w"
   ],
   "id": "f9cdf47f2721e19e",
   "outputs": [
    {
     "data": {
      "text/plain": [
       "tensor(-4462.7925)"
      ]
     },
     "execution_count": 21,
     "metadata": {},
     "output_type": "execute_result"
    }
   ],
   "execution_count": 21
  },
  {
   "metadata": {
    "ExecuteTime": {
     "end_time": "2025-07-15T09:58:39.894258Z",
     "start_time": "2025-07-15T09:58:39.891591Z"
    }
   },
   "cell_type": "code",
   "source": [
    "learning_rate = 1e-2\n",
    "w = w - learning_rate * loss_rate_of_change_w"
   ],
   "id": "130b7d9221ac068f",
   "outputs": [],
   "execution_count": 22
  },
  {
   "metadata": {
    "ExecuteTime": {
     "end_time": "2025-07-15T09:59:28.197322Z",
     "start_time": "2025-07-15T09:59:28.193533Z"
    }
   },
   "cell_type": "code",
   "source": [
    "loss_rate_of_change_b = (loss_fn(model(t_u, w, b + delta), t_c) -\n",
    "                         loss_fn(model(t_u, w, b - delta), t_c) /\n",
    "                         (2.0 * delta))\n",
    "b = b - learning_rate * loss_rate_of_change_b"
   ],
   "id": "e8e2b3c233683be2",
   "outputs": [],
   "execution_count": 23
  },
  {
   "metadata": {
    "ExecuteTime": {
     "end_time": "2025-07-15T10:13:03.471343Z",
     "start_time": "2025-07-15T10:13:03.468559Z"
    }
   },
   "cell_type": "code",
   "source": [
    "def dloss_fn(out_t, act_t):\n",
    "    return 2 * (out_t - act_t) / out_t.size(0)\n",
    "\n",
    "def dmodel_dw(in_t):\n",
    "    return in_t\n",
    "\n",
    "def dmodel_db():\n",
    "    return 1.0"
   ],
   "id": "b797398fcb0ff3ba",
   "outputs": [],
   "execution_count": 32
  },
  {
   "metadata": {
    "ExecuteTime": {
     "end_time": "2025-07-15T10:06:54.213477Z",
     "start_time": "2025-07-15T10:06:54.208209Z"
    }
   },
   "cell_type": "code",
   "source": [
    "def grad_fn(in_t, act_t, out_t):\n",
    "    dloss_dtp = dloss_fn(out_t, act_t)\n",
    "    dloss_dw = dloss_dtp * dmodel_dw(in_t)\n",
    "    dloss_db = dloss_dtp * dmodel_db()\n",
    "    return torch.stack([dloss_dw.sum(), dloss_db.sum()])"
   ],
   "id": "d8055093a18ec3e8",
   "outputs": [],
   "execution_count": 28
  },
  {
   "metadata": {
    "ExecuteTime": {
     "end_time": "2025-07-15T10:22:01.210452Z",
     "start_time": "2025-07-15T10:22:01.207048Z"
    }
   },
   "cell_type": "code",
   "source": [
    "def training_loop(n_epochs, lr, params, in_t, act_t):\n",
    "    final_loss = 0.0\n",
    "    for epoch in range(n_epochs):\n",
    "        weights, bias = params\n",
    "\n",
    "        out_t = model(in_t, weights, bias)\n",
    "        loss_val = loss_fn(out_t, act_t)\n",
    "        grad = grad_fn(in_t, act_t, out_t)\n",
    "\n",
    "        params = params - lr * grad\n",
    "\n",
    "        if (epoch + 1) % 200 == 0:\n",
    "            print(f'    Epoch {epoch + 1}, Loss {float(loss_val)}')\n",
    "        final_loss = loss_val\n",
    "\n",
    "    print(f'Params: {params}')\n",
    "    print(f'Final Loss: {final_loss}')\n",
    "    return params"
   ],
   "id": "a78fca1f030d7b29",
   "outputs": [],
   "execution_count": 47
  },
  {
   "metadata": {
    "ExecuteTime": {
     "end_time": "2025-07-15T10:16:37.063218Z",
     "start_time": "2025-07-15T10:16:37.039048Z"
    }
   },
   "cell_type": "code",
   "source": "training_loop(100, 1e-2, params=torch.tensor([1.0, 0.0]), in_t=t_u, act_t=t_c)",
   "id": "1b4d0e8d86423825",
   "outputs": [
    {
     "name": "stdout",
     "output_type": "stream",
     "text": [
      "    Epoch 1, Loss 1763.884765625\n",
      "    Epoch 2, Loss 5802484.5\n",
      "    Epoch 3, Loss 19408029696.0\n",
      "    Epoch 4, Loss 64915905708032.0\n",
      "    Epoch 5, Loss 2.1713052546105344e+17\n",
      "    Epoch 6, Loss 7.262575831529281e+20\n",
      "    Epoch 7, Loss 2.429183416467663e+24\n",
      "    Epoch 8, Loss 8.125122549611731e+27\n",
      "    Epoch 9, Loss 2.717688212084259e+31\n",
      "    Epoch 10, Loss 9.090110518901907e+34\n",
      "    Epoch 11, Loss inf\n",
      "    Epoch 12, Loss inf\n",
      "    Epoch 13, Loss inf\n",
      "    Epoch 14, Loss inf\n",
      "    Epoch 15, Loss inf\n",
      "    Epoch 16, Loss inf\n",
      "    Epoch 17, Loss inf\n",
      "    Epoch 18, Loss inf\n",
      "    Epoch 19, Loss inf\n",
      "    Epoch 20, Loss inf\n",
      "    Epoch 21, Loss inf\n",
      "    Epoch 22, Loss inf\n",
      "    Epoch 23, Loss nan\n",
      "    Epoch 24, Loss nan\n",
      "    Epoch 25, Loss nan\n",
      "    Epoch 26, Loss nan\n",
      "    Epoch 27, Loss nan\n",
      "    Epoch 28, Loss nan\n",
      "    Epoch 29, Loss nan\n",
      "    Epoch 30, Loss nan\n",
      "    Epoch 31, Loss nan\n",
      "    Epoch 32, Loss nan\n",
      "    Epoch 33, Loss nan\n",
      "    Epoch 34, Loss nan\n",
      "    Epoch 35, Loss nan\n",
      "    Epoch 36, Loss nan\n",
      "    Epoch 37, Loss nan\n",
      "    Epoch 38, Loss nan\n",
      "    Epoch 39, Loss nan\n",
      "    Epoch 40, Loss nan\n",
      "    Epoch 41, Loss nan\n",
      "    Epoch 42, Loss nan\n",
      "    Epoch 43, Loss nan\n",
      "    Epoch 44, Loss nan\n",
      "    Epoch 45, Loss nan\n",
      "    Epoch 46, Loss nan\n",
      "    Epoch 47, Loss nan\n",
      "    Epoch 48, Loss nan\n",
      "    Epoch 49, Loss nan\n",
      "    Epoch 50, Loss nan\n",
      "    Epoch 51, Loss nan\n",
      "    Epoch 52, Loss nan\n",
      "    Epoch 53, Loss nan\n",
      "    Epoch 54, Loss nan\n",
      "    Epoch 55, Loss nan\n",
      "    Epoch 56, Loss nan\n",
      "    Epoch 57, Loss nan\n",
      "    Epoch 58, Loss nan\n",
      "    Epoch 59, Loss nan\n",
      "    Epoch 60, Loss nan\n",
      "    Epoch 61, Loss nan\n",
      "    Epoch 62, Loss nan\n",
      "    Epoch 63, Loss nan\n",
      "    Epoch 64, Loss nan\n",
      "    Epoch 65, Loss nan\n",
      "    Epoch 66, Loss nan\n",
      "    Epoch 67, Loss nan\n",
      "    Epoch 68, Loss nan\n",
      "    Epoch 69, Loss nan\n",
      "    Epoch 70, Loss nan\n",
      "    Epoch 71, Loss nan\n",
      "    Epoch 72, Loss nan\n",
      "    Epoch 73, Loss nan\n",
      "    Epoch 74, Loss nan\n",
      "    Epoch 75, Loss nan\n",
      "    Epoch 76, Loss nan\n",
      "    Epoch 77, Loss nan\n",
      "    Epoch 78, Loss nan\n",
      "    Epoch 79, Loss nan\n",
      "    Epoch 80, Loss nan\n",
      "    Epoch 81, Loss nan\n",
      "    Epoch 82, Loss nan\n",
      "    Epoch 83, Loss nan\n",
      "    Epoch 84, Loss nan\n",
      "    Epoch 85, Loss nan\n",
      "    Epoch 86, Loss nan\n",
      "    Epoch 87, Loss nan\n",
      "    Epoch 88, Loss nan\n",
      "    Epoch 89, Loss nan\n",
      "    Epoch 90, Loss nan\n",
      "    Epoch 91, Loss nan\n",
      "    Epoch 92, Loss nan\n",
      "    Epoch 93, Loss nan\n",
      "    Epoch 94, Loss nan\n",
      "    Epoch 95, Loss nan\n",
      "    Epoch 96, Loss nan\n",
      "    Epoch 97, Loss nan\n",
      "    Epoch 98, Loss nan\n",
      "    Epoch 99, Loss nan\n",
      "    Epoch 100, Loss nan\n",
      "Params: tensor([nan, nan])\n"
     ]
    },
    {
     "data": {
      "text/plain": [
       "tensor([nan, nan])"
      ]
     },
     "execution_count": 38,
     "metadata": {},
     "output_type": "execute_result"
    }
   ],
   "execution_count": 38
  },
  {
   "metadata": {
    "ExecuteTime": {
     "end_time": "2025-07-15T10:16:53.247071Z",
     "start_time": "2025-07-15T10:16:53.222893Z"
    }
   },
   "cell_type": "code",
   "source": "training_loop(100, 1e-3, params=torch.tensor([1.0, 0.0]), in_t=t_u, act_t=t_c)",
   "id": "4611576725aeafb7",
   "outputs": [
    {
     "name": "stdout",
     "output_type": "stream",
     "text": [
      "    Epoch 1, Loss 1763.884765625\n",
      "    Epoch 2, Loss 41399.59765625\n",
      "    Epoch 3, Loss 986624.625\n",
      "    Epoch 4, Loss 23528170.0\n",
      "    Epoch 5, Loss 561094464.0\n",
      "    Epoch 6, Loss 13380874240.0\n",
      "    Epoch 7, Loss 319104483328.0\n",
      "    Epoch 8, Loss 7609941753856.0\n",
      "    Epoch 9, Loss 181480420540416.0\n",
      "    Epoch 10, Loss 4327910500466688.0\n",
      "    Epoch 11, Loss 1.0321116508926771e+17\n",
      "    Epoch 12, Loss 2.461360407747494e+18\n",
      "    Epoch 13, Loss 5.869806156751936e+19\n",
      "    Epoch 14, Loss 1.3998199544408776e+21\n",
      "    Epoch 15, Loss 3.338263274850858e+22\n",
      "    Epoch 16, Loss 7.961026752245693e+23\n",
      "    Epoch 17, Loss 1.8985296766941502e+25\n",
      "    Epoch 18, Loss 4.527576982018665e+26\n",
      "    Epoch 19, Loss 1.0797280117197434e+28\n",
      "    Epoch 20, Loss 2.5749145261349537e+29\n",
      "    Epoch 21, Loss 6.140605718892351e+30\n",
      "    Epoch 22, Loss 1.4644000858063465e+32\n",
      "    Epoch 23, Loss 3.492271559755413e+33\n",
      "    Epoch 24, Loss 8.328302025766313e+34\n",
      "    Epoch 25, Loss 1.986117406288558e+36\n",
      "    Epoch 26, Loss inf\n",
      "    Epoch 27, Loss inf\n",
      "    Epoch 28, Loss inf\n",
      "    Epoch 29, Loss inf\n",
      "    Epoch 30, Loss inf\n",
      "    Epoch 31, Loss inf\n",
      "    Epoch 32, Loss inf\n",
      "    Epoch 33, Loss inf\n",
      "    Epoch 34, Loss inf\n",
      "    Epoch 35, Loss inf\n",
      "    Epoch 36, Loss inf\n",
      "    Epoch 37, Loss inf\n",
      "    Epoch 38, Loss inf\n",
      "    Epoch 39, Loss inf\n",
      "    Epoch 40, Loss inf\n",
      "    Epoch 41, Loss inf\n",
      "    Epoch 42, Loss inf\n",
      "    Epoch 43, Loss inf\n",
      "    Epoch 44, Loss inf\n",
      "    Epoch 45, Loss inf\n",
      "    Epoch 46, Loss inf\n",
      "    Epoch 47, Loss inf\n",
      "    Epoch 48, Loss inf\n",
      "    Epoch 49, Loss inf\n",
      "    Epoch 50, Loss inf\n",
      "    Epoch 51, Loss inf\n",
      "    Epoch 52, Loss inf\n",
      "    Epoch 53, Loss inf\n",
      "    Epoch 54, Loss nan\n",
      "    Epoch 55, Loss nan\n",
      "    Epoch 56, Loss nan\n",
      "    Epoch 57, Loss nan\n",
      "    Epoch 58, Loss nan\n",
      "    Epoch 59, Loss nan\n",
      "    Epoch 60, Loss nan\n",
      "    Epoch 61, Loss nan\n",
      "    Epoch 62, Loss nan\n",
      "    Epoch 63, Loss nan\n",
      "    Epoch 64, Loss nan\n",
      "    Epoch 65, Loss nan\n",
      "    Epoch 66, Loss nan\n",
      "    Epoch 67, Loss nan\n",
      "    Epoch 68, Loss nan\n",
      "    Epoch 69, Loss nan\n",
      "    Epoch 70, Loss nan\n",
      "    Epoch 71, Loss nan\n",
      "    Epoch 72, Loss nan\n",
      "    Epoch 73, Loss nan\n",
      "    Epoch 74, Loss nan\n",
      "    Epoch 75, Loss nan\n",
      "    Epoch 76, Loss nan\n",
      "    Epoch 77, Loss nan\n",
      "    Epoch 78, Loss nan\n",
      "    Epoch 79, Loss nan\n",
      "    Epoch 80, Loss nan\n",
      "    Epoch 81, Loss nan\n",
      "    Epoch 82, Loss nan\n",
      "    Epoch 83, Loss nan\n",
      "    Epoch 84, Loss nan\n",
      "    Epoch 85, Loss nan\n",
      "    Epoch 86, Loss nan\n",
      "    Epoch 87, Loss nan\n",
      "    Epoch 88, Loss nan\n",
      "    Epoch 89, Loss nan\n",
      "    Epoch 90, Loss nan\n",
      "    Epoch 91, Loss nan\n",
      "    Epoch 92, Loss nan\n",
      "    Epoch 93, Loss nan\n",
      "    Epoch 94, Loss nan\n",
      "    Epoch 95, Loss nan\n",
      "    Epoch 96, Loss nan\n",
      "    Epoch 97, Loss nan\n",
      "    Epoch 98, Loss nan\n",
      "    Epoch 99, Loss nan\n",
      "    Epoch 100, Loss nan\n",
      "Params: tensor([nan, nan])\n"
     ]
    },
    {
     "data": {
      "text/plain": [
       "tensor([nan, nan])"
      ]
     },
     "execution_count": 39,
     "metadata": {},
     "output_type": "execute_result"
    }
   ],
   "execution_count": 39
  },
  {
   "metadata": {
    "ExecuteTime": {
     "end_time": "2025-07-15T10:16:58.831810Z",
     "start_time": "2025-07-15T10:16:58.808360Z"
    }
   },
   "cell_type": "code",
   "source": "training_loop(100, 1e-4, params=torch.tensor([1.0, 0.0]), in_t=t_u, act_t=t_c)",
   "id": "afd173a20898dac",
   "outputs": [
    {
     "name": "stdout",
     "output_type": "stream",
     "text": [
      "    Epoch 1, Loss 1763.884765625\n",
      "    Epoch 2, Loss 323.09051513671875\n",
      "    Epoch 3, Loss 78.92963409423828\n",
      "    Epoch 4, Loss 37.5528450012207\n",
      "    Epoch 5, Loss 30.540283203125\n",
      "    Epoch 6, Loss 29.351154327392578\n",
      "    Epoch 7, Loss 29.148883819580078\n",
      "    Epoch 8, Loss 29.113847732543945\n",
      "    Epoch 9, Loss 29.107145309448242\n",
      "    Epoch 10, Loss 29.105247497558594\n",
      "    Epoch 11, Loss 29.104167938232422\n",
      "    Epoch 12, Loss 29.103221893310547\n",
      "    Epoch 13, Loss 29.102294921875\n",
      "    Epoch 14, Loss 29.10137939453125\n",
      "    Epoch 15, Loss 29.100465774536133\n",
      "    Epoch 16, Loss 29.09954833984375\n",
      "    Epoch 17, Loss 29.098630905151367\n",
      "    Epoch 18, Loss 29.09771728515625\n",
      "    Epoch 19, Loss 29.0967960357666\n",
      "    Epoch 20, Loss 29.09588050842285\n",
      "    Epoch 21, Loss 29.094959259033203\n",
      "    Epoch 22, Loss 29.09404945373535\n",
      "    Epoch 23, Loss 29.0931339263916\n",
      "    Epoch 24, Loss 29.09221649169922\n",
      "    Epoch 25, Loss 29.09130096435547\n",
      "    Epoch 26, Loss 29.09038543701172\n",
      "    Epoch 27, Loss 29.08946418762207\n",
      "    Epoch 28, Loss 29.088550567626953\n",
      "    Epoch 29, Loss 29.087635040283203\n",
      "    Epoch 30, Loss 29.086713790893555\n",
      "    Epoch 31, Loss 29.085803985595703\n",
      "    Epoch 32, Loss 29.084888458251953\n",
      "    Epoch 33, Loss 29.083967208862305\n",
      "    Epoch 34, Loss 29.083057403564453\n",
      "    Epoch 35, Loss 29.082141876220703\n",
      "    Epoch 36, Loss 29.081220626831055\n",
      "    Epoch 37, Loss 29.08030891418457\n",
      "    Epoch 38, Loss 29.079389572143555\n",
      "    Epoch 39, Loss 29.078474044799805\n",
      "    Epoch 40, Loss 29.07756233215332\n",
      "    Epoch 41, Loss 29.076648712158203\n",
      "    Epoch 42, Loss 29.07573127746582\n",
      "    Epoch 43, Loss 29.074811935424805\n",
      "    Epoch 44, Loss 29.073894500732422\n",
      "    Epoch 45, Loss 29.072980880737305\n",
      "    Epoch 46, Loss 29.07206916809082\n",
      "    Epoch 47, Loss 29.071147918701172\n",
      "    Epoch 48, Loss 29.070234298706055\n",
      "    Epoch 49, Loss 29.06932258605957\n",
      "    Epoch 50, Loss 29.068401336669922\n",
      "    Epoch 51, Loss 29.067485809326172\n",
      "    Epoch 52, Loss 29.066566467285156\n",
      "    Epoch 53, Loss 29.065656661987305\n",
      "    Epoch 54, Loss 29.064741134643555\n",
      "    Epoch 55, Loss 29.063825607299805\n",
      "    Epoch 56, Loss 29.062910079956055\n",
      "    Epoch 57, Loss 29.061994552612305\n",
      "    Epoch 58, Loss 29.061079025268555\n",
      "    Epoch 59, Loss 29.060169219970703\n",
      "    Epoch 60, Loss 29.059247970581055\n",
      "    Epoch 61, Loss 29.05833625793457\n",
      "    Epoch 62, Loss 29.057415008544922\n",
      "    Epoch 63, Loss 29.056507110595703\n",
      "    Epoch 64, Loss 29.055585861206055\n",
      "    Epoch 65, Loss 29.05467414855957\n",
      "    Epoch 66, Loss 29.053760528564453\n",
      "    Epoch 67, Loss 29.05284309387207\n",
      "    Epoch 68, Loss 29.051929473876953\n",
      "    Epoch 69, Loss 29.05101203918457\n",
      "    Epoch 70, Loss 29.050098419189453\n",
      "    Epoch 71, Loss 29.049182891845703\n",
      "    Epoch 72, Loss 29.04827308654785\n",
      "    Epoch 73, Loss 29.04734992980957\n",
      "    Epoch 74, Loss 29.04644203186035\n",
      "    Epoch 75, Loss 29.045530319213867\n",
      "    Epoch 76, Loss 29.04461097717285\n",
      "    Epoch 77, Loss 29.043699264526367\n",
      "    Epoch 78, Loss 29.042783737182617\n",
      "    Epoch 79, Loss 29.0418701171875\n",
      "    Epoch 80, Loss 29.04095458984375\n",
      "    Epoch 81, Loss 29.0400390625\n",
      "    Epoch 82, Loss 29.039121627807617\n",
      "    Epoch 83, Loss 29.038209915161133\n",
      "    Epoch 84, Loss 29.037294387817383\n",
      "    Epoch 85, Loss 29.036378860473633\n",
      "    Epoch 86, Loss 29.035463333129883\n",
      "    Epoch 87, Loss 29.03455352783203\n",
      "    Epoch 88, Loss 29.03363609313965\n",
      "    Epoch 89, Loss 29.03272247314453\n",
      "    Epoch 90, Loss 29.031810760498047\n",
      "    Epoch 91, Loss 29.030895233154297\n",
      "    Epoch 92, Loss 29.02997589111328\n",
      "    Epoch 93, Loss 29.02906608581543\n",
      "    Epoch 94, Loss 29.02815055847168\n",
      "    Epoch 95, Loss 29.02723503112793\n",
      "    Epoch 96, Loss 29.026323318481445\n",
      "    Epoch 97, Loss 29.025409698486328\n",
      "    Epoch 98, Loss 29.024492263793945\n",
      "    Epoch 99, Loss 29.023582458496094\n",
      "    Epoch 100, Loss 29.022666931152344\n",
      "Params: tensor([ 0.2327, -0.0438])\n"
     ]
    },
    {
     "data": {
      "text/plain": [
       "tensor([ 0.2327, -0.0438])"
      ]
     },
     "execution_count": 40,
     "metadata": {},
     "output_type": "execute_result"
    }
   ],
   "execution_count": 40
  },
  {
   "metadata": {
    "ExecuteTime": {
     "end_time": "2025-07-15T10:18:49.822322Z",
     "start_time": "2025-07-15T10:18:49.818748Z"
    }
   },
   "cell_type": "code",
   "source": "t_un = 0.1 * t_u",
   "id": "50d10d6abab1bdb1",
   "outputs": [],
   "execution_count": 41
  },
  {
   "metadata": {
    "ExecuteTime": {
     "end_time": "2025-07-15T10:23:58.869586Z",
     "start_time": "2025-07-15T10:23:58.489172Z"
    }
   },
   "cell_type": "code",
   "source": "fin_params = training_loop(5000, 1e-2, params=torch.tensor([1.0, 0.0]), in_t=t_un, act_t=t_c)",
   "id": "7a7f7fe91d15465",
   "outputs": [
    {
     "name": "stdout",
     "output_type": "stream",
     "text": [
      "    Epoch 200, Loss 16.60806655883789\n",
      "    Epoch 400, Loss 9.857804298400879\n",
      "    Epoch 600, Loss 6.438284397125244\n",
      "    Epoch 800, Loss 4.706046104431152\n",
      "    Epoch 1000, Loss 3.828537940979004\n",
      "    Epoch 1200, Loss 3.3840177059173584\n",
      "    Epoch 1400, Loss 3.158830404281616\n",
      "    Epoch 1600, Loss 3.0447587966918945\n",
      "    Epoch 1800, Loss 2.986973524093628\n",
      "    Epoch 2000, Loss 2.957697868347168\n",
      "    Epoch 2200, Loss 2.9428696632385254\n",
      "    Epoch 2400, Loss 2.935356378555298\n",
      "    Epoch 2600, Loss 2.931553840637207\n",
      "    Epoch 2800, Loss 2.929626226425171\n",
      "    Epoch 3000, Loss 2.9286484718322754\n",
      "    Epoch 3200, Loss 2.9281539916992188\n",
      "    Epoch 3400, Loss 2.927903890609741\n",
      "    Epoch 3600, Loss 2.9277760982513428\n",
      "    Epoch 3800, Loss 2.927712917327881\n",
      "    Epoch 4000, Loss 2.927680253982544\n",
      "    Epoch 4200, Loss 2.927663564682007\n",
      "    Epoch 4400, Loss 2.9276540279388428\n",
      "    Epoch 4600, Loss 2.9276504516601562\n",
      "    Epoch 4800, Loss 2.9276480674743652\n",
      "    Epoch 5000, Loss 2.927647590637207\n",
      "Params: tensor([  5.3671, -17.3012])\n",
      "Final Loss: 2.927647590637207\n"
     ]
    }
   ],
   "execution_count": 50
  },
  {
   "metadata": {
    "ExecuteTime": {
     "end_time": "2025-07-15T10:26:08.430785Z",
     "start_time": "2025-07-15T10:26:08.321337Z"
    }
   },
   "cell_type": "code",
   "source": [
    "final_t = model(t_un, *fin_params)\n",
    "fig = plt.figure(figsize=(5, 5))\n",
    "plt.xlabel('Temperature (F)')\n",
    "plt.ylabel('Temperature (C)')\n",
    "plt.plot(t_u.numpy(), final_t.detach().numpy())\n",
    "plt.plot(t_u.numpy(), t_c.numpy(), 'o')"
   ],
   "id": "837b07f73a20807a",
   "outputs": [
    {
     "data": {
      "text/plain": [
       "[<matplotlib.lines.Line2D at 0x7f9b4a1437a0>]"
      ]
     },
     "execution_count": 53,
     "metadata": {},
     "output_type": "execute_result"
    },
    {
     "data": {
      "text/plain": [
       "<Figure size 500x500 with 1 Axes>"
      ],
      "image/png": "[encoded data removed]"
     },
     "metadata": {},
     "output_type": "display_data"
    }
   ],
   "execution_count": 53
  },
  {
   "metadata": {},
   "cell_type": "markdown",
   "source": "## Autograd",
   "id": "c968c9fe58e2fd15"
  },
  {
   "metadata": {
    "ExecuteTime": {
     "end_time": "2025-07-15T11:40:08.934486Z",
     "start_time": "2025-07-15T11:40:06.975747Z"
    }
   },
   "cell_type": "code",
   "source": "import torch",
   "id": "79f6ca48da23aa11",
   "outputs": [],
   "execution_count": 1
  },
  {
   "metadata": {
    "ExecuteTime": {
     "end_time": "2025-07-15T11:57:45.465434Z",
     "start_time": "2025-07-15T11:57:45.460970Z"
    }
   },
   "cell_type": "code",
   "source": [
    "# Same as before\n",
    "t_c = [0.5,  14.0, 15.0, 28.0, 11.0,  8.0,  3.0, -4.0,  6.0, 13.0, 21.0]    # In Celsius\n",
    "t_u = [35.7, 55.9, 58.2, 81.9, 56.3, 48.9, 33.9, 21.8, 48.4, 60.4, 68.4]    # No units\n",
    "t_c = torch.tensor(t_c)\n",
    "t_u = torch.tensor(t_u)\n",
    "\n",
    "def model(x, weights, bias):\n",
    "    return weights * x + bias\n",
    "\n",
    "def loss_fn(y_pred, y_true):\n",
    "    squared_diffs = (y_pred - y_true) ** 2\n",
    "    return squared_diffs.mean()"
   ],
   "id": "315599ab90841dfc",
   "outputs": [],
   "execution_count": 37
  },
  {
   "metadata": {
    "ExecuteTime": {
     "end_time": "2025-07-15T11:45:36.640098Z",
     "start_time": "2025-07-15T11:45:36.637016Z"
    }
   },
   "cell_type": "code",
   "source": [
    "# requires_grad=True automatically keeps track of tensors resulting from operations on params\n",
    "parameters = torch.tensor([1.0, 0.0], requires_grad=True)\n",
    "parameters.grad is None"
   ],
   "id": "25fbeb21a246aa15",
   "outputs": [
    {
     "data": {
      "text/plain": [
       "True"
      ]
     },
     "execution_count": 24,
     "metadata": {},
     "output_type": "execute_result"
    }
   ],
   "execution_count": 24
  },
  {
   "metadata": {
    "ExecuteTime": {
     "end_time": "2025-07-15T11:45:37.330691Z",
     "start_time": "2025-07-15T11:45:37.324178Z"
    }
   },
   "cell_type": "code",
   "source": [
    "loss = loss_fn(model(t_u, *parameters), t_c)\n",
    "loss.backward()"
   ],
   "id": "4f03ed60fc52cf10",
   "outputs": [],
   "execution_count": 25
  },
  {
   "metadata": {
    "ExecuteTime": {
     "end_time": "2025-07-15T11:45:38.100202Z",
     "start_time": "2025-07-15T11:45:38.092362Z"
    }
   },
   "cell_type": "code",
   "source": "parameters.grad",
   "id": "45fb8c0820ec5560",
   "outputs": [
    {
     "data": {
      "text/plain": [
       "tensor([4517.2969,   82.6000])"
      ]
     },
     "execution_count": 26,
     "metadata": {},
     "output_type": "execute_result"
    }
   ],
   "execution_count": 26
  },
  {
   "metadata": {
    "ExecuteTime": {
     "end_time": "2025-07-15T11:48:03.162658Z",
     "start_time": "2025-07-15T11:48:03.156436Z"
    }
   },
   "cell_type": "code",
   "source": [
    "# Gradients accumulate over time, so we have to zero them\n",
    "if parameters.grad is not None:\n",
    "    parameters.grad.zero_()"
   ],
   "id": "a3292c2b3de7674f",
   "outputs": [],
   "execution_count": 27
  },
  {
   "metadata": {
    "ExecuteTime": {
     "end_time": "2025-07-15T11:57:49.398995Z",
     "start_time": "2025-07-15T11:57:49.394834Z"
    }
   },
   "cell_type": "code",
   "source": [
    "# New training loop with autograd\n",
    "def training_loop(n_epochs, lr, params, t_in, t_act):\n",
    "    for epoch in range(n_epochs):\n",
    "        if params.grad is not None:\n",
    "            params.grad.zero_()\n",
    "\n",
    "        out = model(t_in, *params)\n",
    "        loss_val = loss_fn(out, t_act)\n",
    "        loss_val.backward()\n",
    "\n",
    "        with torch.no_grad():\n",
    "            params -= lr * params.grad\n",
    "\n",
    "        if (epoch + 1) % 200 == 0:\n",
    "            print(f'Epoch: {epoch + 1}, Loss: {float(loss_val)}')\n",
    "\n",
    "    return params"
   ],
   "id": "c3d7374d14a99858",
   "outputs": [],
   "execution_count": 38
  },
  {
   "metadata": {
    "ExecuteTime": {
     "end_time": "2025-07-15T11:58:40.015651Z",
     "start_time": "2025-07-15T11:58:38.991080Z"
    }
   },
   "cell_type": "code",
   "source": [
    "t_un = 0.1 * t_u\n",
    "parameters = torch.tensor([1.0, 0.0], requires_grad=True)\n",
    "updated_params = training_loop(5000, 1e-2, parameters, t_un, t_c)"
   ],
   "id": "5bed3269dcb503b8",
   "outputs": [
    {
     "name": "stdout",
     "output_type": "stream",
     "text": [
      "Epoch: 200, Loss: 16.60806655883789\n",
      "Epoch: 400, Loss: 9.857802391052246\n",
      "Epoch: 600, Loss: 6.438284397125244\n",
      "Epoch: 800, Loss: 4.706046104431152\n",
      "Epoch: 1000, Loss: 3.828537940979004\n",
      "Epoch: 1200, Loss: 3.3840177059173584\n",
      "Epoch: 1400, Loss: 3.158830404281616\n",
      "Epoch: 1600, Loss: 3.0447587966918945\n",
      "Epoch: 1800, Loss: 2.986973524093628\n",
      "Epoch: 2000, Loss: 2.957697868347168\n",
      "Epoch: 2200, Loss: 2.9428696632385254\n",
      "Epoch: 2400, Loss: 2.935356378555298\n",
      "Epoch: 2600, Loss: 2.931553840637207\n",
      "Epoch: 2800, Loss: 2.929626226425171\n",
      "Epoch: 3000, Loss: 2.9286484718322754\n",
      "Epoch: 3200, Loss: 2.9281539916992188\n",
      "Epoch: 3400, Loss: 2.927903890609741\n",
      "Epoch: 3600, Loss: 2.9277760982513428\n",
      "Epoch: 3800, Loss: 2.927712917327881\n",
      "Epoch: 4000, Loss: 2.9276793003082275\n",
      "Epoch: 4200, Loss: 2.9276628494262695\n",
      "Epoch: 4400, Loss: 2.9276556968688965\n",
      "Epoch: 4600, Loss: 2.9276490211486816\n",
      "Epoch: 4800, Loss: 2.927647590637207\n",
      "Epoch: 5000, Loss: 2.9276468753814697\n"
     ]
    }
   ],
   "execution_count": 40
  },
  {
   "metadata": {},
   "cell_type": "markdown",
   "source": "## Optimizers",
   "id": "d903ceda0113b97"
  },
  {
   "metadata": {
    "ExecuteTime": {
     "end_time": "2025-07-15T12:00:17.633121Z",
     "start_time": "2025-07-15T12:00:17.629064Z"
    }
   },
   "cell_type": "code",
   "source": [
    "import torch.optim as optim\n",
    "dir(optim)"
   ],
   "id": "7d64a7987e50b66",
   "outputs": [
    {
     "data": {
      "text/plain": [
       "['ASGD',\n",
       " 'Adadelta',\n",
       " 'Adafactor',\n",
       " 'Adagrad',\n",
       " 'Adam',\n",
       " 'AdamW',\n",
       " 'Adamax',\n",
       " 'LBFGS',\n",
       " 'NAdam',\n",
       " 'Optimizer',\n",
       " 'RAdam',\n",
       " 'RMSprop',\n",
       " 'Rprop',\n",
       " 'SGD',\n",
       " 'SparseAdam',\n",
       " '__all__',\n",
       " '__builtins__',\n",
       " '__cached__',\n",
       " '__doc__',\n",
       " '__file__',\n",
       " '__loader__',\n",
       " '__name__',\n",
       " '__package__',\n",
       " '__path__',\n",
       " '__spec__',\n",
       " '_adafactor',\n",
       " '_functional',\n",
       " 'lr_scheduler',\n",
       " 'swa_utils']"
      ]
     },
     "execution_count": 42,
     "metadata": {},
     "output_type": "execute_result"
    }
   ],
   "execution_count": 42
  },
  {
   "metadata": {
    "ExecuteTime": {
     "end_time": "2025-07-15T12:03:24.245959Z",
     "start_time": "2025-07-15T12:03:23.088015Z"
    }
   },
   "cell_type": "code",
   "source": [
    "parameters = torch.tensor([1.0, 0.0], requires_grad=True)\n",
    "learning_rate = 1e-5\n",
    "optimizer = optim.SGD([parameters], lr=learning_rate)"
   ],
   "id": "dba0ffec0a6d8af",
   "outputs": [],
   "execution_count": 43
  },
  {
   "metadata": {
    "ExecuteTime": {
     "end_time": "2025-07-15T12:05:21.284238Z",
     "start_time": "2025-07-15T12:05:21.275008Z"
    }
   },
   "cell_type": "code",
   "source": [
    "model_out = model(t_u, *parameters)\n",
    "loss = loss_fn(model_out, t_c)\n",
    "optimizer.zero_grad()\n",
    "loss.backward()\n",
    "optimizer.step()\n",
    "parameters"
   ],
   "id": "4ba0361f2a0a83c0",
   "outputs": [
    {
     "data": {
      "text/plain": [
       "tensor([ 0.8298, -0.0031], requires_grad=True)"
      ]
     },
     "execution_count": 46,
     "metadata": {},
     "output_type": "execute_result"
    }
   ],
   "execution_count": 46
  },
  {
   "metadata": {
    "ExecuteTime": {
     "end_time": "2025-07-15T12:07:52.351662Z",
     "start_time": "2025-07-15T12:07:52.348715Z"
    }
   },
   "cell_type": "code",
   "source": [
    "# New training loop with optimizer\n",
    "def training_loop(n_epochs, optim_, params, t_in, t_act):\n",
    "    for epoch in range(n_epochs):\n",
    "        out = model(t_in, *params)\n",
    "        loss_val = loss_fn(out, t_act)\n",
    "\n",
    "        optim_.zero_grad()\n",
    "        loss_val.backward()\n",
    "        optim_.step()\n",
    "\n",
    "        if (epoch + 1) % 200 == 0:\n",
    "            print(f'Epoch: {epoch + 1}, Loss: {float(loss_val)}')\n",
    "\n",
    "    return params"
   ],
   "id": "527d0b34e9c8ba63",
   "outputs": [],
   "execution_count": 49
  },
  {
   "metadata": {
    "ExecuteTime": {
     "end_time": "2025-07-15T12:08:09.559305Z",
     "start_time": "2025-07-15T12:08:08.319093Z"
    }
   },
   "cell_type": "code",
   "source": [
    "t_un = 0.1 * t_u\n",
    "parameters = torch.tensor([1.0, 0.0], requires_grad=True)\n",
    "learning_rate = 1e-2\n",
    "optimizer = optim.SGD([parameters], lr=learning_rate)\n",
    "\n",
    "training_loop(5000, optimizer, parameters, t_un, t_c)"
   ],
   "id": "77296d7c90168233",
   "outputs": [
    {
     "name": "stdout",
     "output_type": "stream",
     "text": [
      "Epoch: 200, Loss: 16.608068466186523\n",
      "Epoch: 400, Loss: 9.857809066772461\n",
      "Epoch: 600, Loss: 6.438288688659668\n",
      "Epoch: 800, Loss: 4.706045150756836\n",
      "Epoch: 1000, Loss: 3.828537940979004\n",
      "Epoch: 1200, Loss: 3.3840177059173584\n",
      "Epoch: 1400, Loss: 3.158830404281616\n",
      "Epoch: 1600, Loss: 3.0447587966918945\n",
      "Epoch: 1800, Loss: 2.986973524093628\n",
      "Epoch: 2000, Loss: 2.957697868347168\n",
      "Epoch: 2200, Loss: 2.9428696632385254\n",
      "Epoch: 2400, Loss: 2.935356378555298\n",
      "Epoch: 2600, Loss: 2.931553840637207\n",
      "Epoch: 2800, Loss: 2.929626226425171\n",
      "Epoch: 3000, Loss: 2.9286484718322754\n",
      "Epoch: 3200, Loss: 2.9281539916992188\n",
      "Epoch: 3400, Loss: 2.927903890609741\n",
      "Epoch: 3600, Loss: 2.9277760982513428\n",
      "Epoch: 3800, Loss: 2.927712917327881\n",
      "Epoch: 4000, Loss: 2.9276793003082275\n",
      "Epoch: 4200, Loss: 2.9276628494262695\n",
      "Epoch: 4400, Loss: 2.9276556968688965\n",
      "Epoch: 4600, Loss: 2.9276490211486816\n",
      "Epoch: 4800, Loss: 2.927647590637207\n",
      "Epoch: 5000, Loss: 2.9276468753814697\n"
     ]
    },
    {
     "data": {
      "text/plain": [
       "tensor([  5.3671, -17.3012], requires_grad=True)"
      ]
     },
     "execution_count": 51,
     "metadata": {},
     "output_type": "execute_result"
    }
   ],
   "execution_count": 51
  },
  {
   "metadata": {
    "ExecuteTime": {
     "end_time": "2025-07-15T12:09:28.802704Z",
     "start_time": "2025-07-15T12:09:27.073393Z"
    }
   },
   "cell_type": "code",
   "source": [
    "# New optimizer: Adam\n",
    "parameters = torch.tensor([1.0, 0.0], requires_grad=True)\n",
    "learning_rate = 1e-1\n",
    "optimizer = optim.Adam([parameters], lr=learning_rate)\n",
    "\n",
    "training_loop(5000, optimizer, parameters, t_u, t_c)"
   ],
   "id": "38dc306674360edb",
   "outputs": [
    {
     "name": "stdout",
     "output_type": "stream",
     "text": [
      "Epoch: 200, Loss: 19.082256317138672\n",
      "Epoch: 400, Loss: 10.508146286010742\n",
      "Epoch: 600, Loss: 5.6413798332214355\n",
      "Epoch: 800, Loss: 3.6775739192962646\n",
      "Epoch: 1000, Loss: 3.086698293685913\n",
      "Epoch: 1200, Loss: 2.9531850814819336\n",
      "Epoch: 1400, Loss: 2.9306914806365967\n",
      "Epoch: 1600, Loss: 2.927908182144165\n",
      "Epoch: 1800, Loss: 2.9276609420776367\n",
      "Epoch: 2000, Loss: 2.9276463985443115\n",
      "Epoch: 2200, Loss: 2.9276444911956787\n",
      "Epoch: 2400, Loss: 2.927645206451416\n",
      "Epoch: 2600, Loss: 2.9276463985443115\n",
      "Epoch: 2800, Loss: 2.927644968032837\n",
      "Epoch: 3000, Loss: 2.9276459217071533\n",
      "Epoch: 3200, Loss: 2.9276444911956787\n",
      "Epoch: 3400, Loss: 2.927647352218628\n",
      "Epoch: 3600, Loss: 2.927644968032837\n",
      "Epoch: 3800, Loss: 2.927644968032837\n",
      "Epoch: 4000, Loss: 2.927645683288574\n",
      "Epoch: 4200, Loss: 2.927645206451416\n",
      "Epoch: 4400, Loss: 2.927645683288574\n",
      "Epoch: 4600, Loss: 2.9276463985443115\n",
      "Epoch: 4800, Loss: 2.927645206451416\n",
      "Epoch: 5000, Loss: 2.927645206451416\n"
     ]
    },
    {
     "data": {
      "text/plain": [
       "tensor([  0.5368, -17.3048], requires_grad=True)"
      ]
     },
     "execution_count": 52,
     "metadata": {},
     "output_type": "execute_result"
    }
   ],
   "execution_count": 52
  },
  {
   "metadata": {},
   "cell_type": "markdown",
   "source": "## Train/Validation Split",
   "id": "489083843da4aaa"
  },
  {
   "metadata": {
    "ExecuteTime": {
     "end_time": "2025-07-15T13:20:09.762270Z",
     "start_time": "2025-07-15T13:20:09.759042Z"
    }
   },
   "cell_type": "code",
   "source": [
    "n_samples = t_u.shape[0]\n",
    "n_val = int(0.2 * n_samples)\n",
    "\n",
    "shuffled_indices = torch.randperm(n_samples)\n",
    "train_indices = shuffled_indices[:-n_val]\n",
    "val_indices = shuffled_indices[n_val:]"
   ],
   "id": "3ce0c92116d3f9f6",
   "outputs": [],
   "execution_count": 54
  },
  {
   "metadata": {
    "ExecuteTime": {
     "end_time": "2025-07-15T13:25:37.900516Z",
     "start_time": "2025-07-15T13:25:37.896998Z"
    }
   },
   "cell_type": "code",
   "source": [
    "train_t_u = t_u[train_indices]\n",
    "val_t_u = t_u[val_indices]\n",
    "\n",
    "train_t_c = t_c[train_indices]\n",
    "val_t_c = t_c[val_indices]\n",
    "\n",
    "train_t_un = train_t_u * 0.1\n",
    "val_t_un = val_t_u * 0.1"
   ],
   "id": "bfe1a705564a166c",
   "outputs": [],
   "execution_count": 57
  },
  {
   "metadata": {
    "ExecuteTime": {
     "end_time": "2025-07-15T13:24:16.781169Z",
     "start_time": "2025-07-15T13:24:16.775299Z"
    }
   },
   "cell_type": "code",
   "source": [
    "def training_loop(n_epochs, optim_, params, train_tun, train_tc, val_tun, val_tc):\n",
    "    for epoch in range(n_epochs):\n",
    "        train_out = model(train_tun, *params)\n",
    "        train_loss = loss_fn(train_out, train_tc)\n",
    "\n",
    "        with torch.no_grad():\n",
    "            val_out = model(val_tun, *params)\n",
    "            val_loss = loss_fn(val_out, val_tc)\n",
    "            assert val_loss.requires_grad == False\n",
    "\n",
    "        optim_.zero_grad()\n",
    "        train_loss.backward()\n",
    "        optim_.step()\n",
    "\n",
    "        if epoch <= 3 or (epoch + 1) % 200 == 0:\n",
    "            print(f'Epoch: {epoch + 1}, Train Loss: {float(train_loss)}, Val Loss: {val_loss.float()}')\n",
    "\n",
    "    return params"
   ],
   "id": "f28f7636c90f85eb",
   "outputs": [],
   "execution_count": 55
  },
  {
   "metadata": {
    "ExecuteTime": {
     "end_time": "2025-07-15T13:25:54.997565Z",
     "start_time": "2025-07-15T13:25:53.404259Z"
    }
   },
   "cell_type": "code",
   "source": [
    "parameters = torch.tensor([1.0, 0.0], requires_grad=True)\n",
    "learning_rate = 1e-2\n",
    "optimizer = optim.SGD([parameters], learning_rate)\n",
    "\n",
    "training_loop(5000, optimizer, parameters, train_t_un, train_t_c, val_t_un, val_t_c)"
   ],
   "id": "18700e32a1003755",
   "outputs": [
    {
     "name": "stdout",
     "output_type": "stream",
     "text": [
      "Epoch: 1, Train Loss: 54.602176666259766, Val Loss: 91.76600646972656\n",
      "Epoch: 2, Train Loss: 28.94879913330078, Val Loss: 53.02854919433594\n",
      "Epoch: 3, Train Loss: 24.009109497070312, Val Loss: 42.797889709472656\n",
      "Epoch: 4, Train Loss: 23.025007247924805, Val Loss: 39.56832504272461\n",
      "Epoch: 200, Train Loss: 15.000133514404297, Val Loss: 24.509685516357422\n",
      "Epoch: 400, Train Loss: 10.155324935913086, Val Loss: 16.305133819580078\n",
      "Epoch: 600, Train Loss: 7.2239508628845215, Val Loss: 11.313128471374512\n",
      "Epoch: 800, Train Loss: 5.450300216674805, Val Loss: 8.271053314208984\n",
      "Epoch: 1000, Train Loss: 4.377147674560547, Val Loss: 6.41361141204834\n",
      "Epoch: 1200, Train Loss: 3.7278332710266113, Val Loss: 5.276676177978516\n",
      "Epoch: 1400, Train Loss: 3.33495831489563, Val Loss: 4.578587055206299\n",
      "Epoch: 1600, Train Loss: 3.0972490310668945, Val Loss: 4.148285865783691\n",
      "Epoch: 1800, Train Loss: 2.9534213542938232, Val Loss: 3.8817737102508545\n",
      "Epoch: 2000, Train Loss: 2.866398811340332, Val Loss: 3.715726613998413\n",
      "Epoch: 2200, Train Loss: 2.813746452331543, Val Loss: 3.611538887023926\n",
      "Epoch: 2400, Train Loss: 2.781886577606201, Val Loss: 3.545597553253174\n",
      "Epoch: 2600, Train Loss: 2.7626092433929443, Val Loss: 3.5034446716308594\n",
      "Epoch: 2800, Train Loss: 2.750946521759033, Val Loss: 3.476187229156494\n",
      "Epoch: 3000, Train Loss: 2.743889331817627, Val Loss: 3.4583301544189453\n",
      "Epoch: 3200, Train Loss: 2.739619493484497, Val Loss: 3.446465492248535\n",
      "Epoch: 3400, Train Loss: 2.7370359897613525, Val Loss: 3.438462734222412\n",
      "Epoch: 3600, Train Loss: 2.735473871231079, Val Loss: 3.432978391647339\n",
      "Epoch: 3800, Train Loss: 2.7345263957977295, Val Loss: 3.4291574954986572\n",
      "Epoch: 4000, Train Loss: 2.7339537143707275, Val Loss: 3.4264612197875977\n",
      "Epoch: 4200, Train Loss: 2.733609914779663, Val Loss: 3.424525260925293\n",
      "Epoch: 4400, Train Loss: 2.733400344848633, Val Loss: 3.4231173992156982\n",
      "Epoch: 4600, Train Loss: 2.733273506164551, Val Loss: 3.422084331512451\n",
      "Epoch: 4800, Train Loss: 2.733196258544922, Val Loss: 3.4213180541992188\n",
      "Epoch: 5000, Train Loss: 2.733149528503418, Val Loss: 3.420746088027954\n"
     ]
    },
    {
     "data": {
      "text/plain": [
       "tensor([  5.3152, -17.4214], requires_grad=True)"
      ]
     },
     "execution_count": 59,
     "metadata": {},
     "output_type": "execute_result"
    }
   ],
   "execution_count": 59
  },
  {
   "metadata": {},
   "cell_type": "code",
   "outputs": [],
   "execution_count": null,
   "source": [
    "def calc_forward(t_in, t_act, params, is_train):\n",
    "    with torch.set_grad_enabled(is_train):\n",
    "        t_out = model(t_in, *params)\n",
    "        loss_ = loss_fn(t_out, t_act)\n",
    "    return loss_"
   ],
   "id": "16920a30e2084024"
  },
  {
   "metadata": {},
   "cell_type": "markdown",
   "source": [
    "## Exercises\n",
    "\n",
    "### Exercise 1"
   ],
   "id": "9400d9872ae321ad"
  },
  {
   "metadata": {
    "ExecuteTime": {
     "end_time": "2025-07-15T13:41:04.575514Z",
     "start_time": "2025-07-15T13:41:04.571331Z"
    }
   },
   "cell_type": "code",
   "source": [
    "def model_new(t_in, weights1, weights2, bias):\n",
    "    return weights2 * t_in ** 2 + weights1 * t_in + bias"
   ],
   "id": "6386535322b2f177",
   "outputs": [],
   "execution_count": 61
  },
  {
   "metadata": {
    "ExecuteTime": {
     "end_time": "2025-07-15T13:42:40.296918Z",
     "start_time": "2025-07-15T13:42:40.293394Z"
    }
   },
   "cell_type": "code",
   "source": [
    "def forward(inputs, targets, params, is_train):\n",
    "    with torch.set_grad_enabled(is_train):\n",
    "        outs = model_new(inputs, *params)\n",
    "        loss_ = loss_fn(outs, targets)\n",
    "    return loss_"
   ],
   "id": "ff0d99e5b59df55e",
   "outputs": [],
   "execution_count": 65
  },
  {
   "metadata": {
    "ExecuteTime": {
     "end_time": "2025-07-15T13:41:06.326722Z",
     "start_time": "2025-07-15T13:41:06.320151Z"
    }
   },
   "cell_type": "code",
   "source": [
    "def training_loop(n_epochs, params, optim_, train_data, train_targets, val_data, val_targets):\n",
    "    for epoch in range(n_epochs):\n",
    "        train_loss = forward(train_data, train_targets, params, True)\n",
    "        val_loss = forward(val_data, val_targets, params, False)\n",
    "\n",
    "        optim_.zero_grad()\n",
    "        train_loss.backward()\n",
    "        optim_.step()\n",
    "\n",
    "        if epoch <= 3 or (epoch + 1) % 200 == 0:\n",
    "            print(f'Epoch {epoch + 1}    Train Loss: {train_loss.float()}    Val Loss: {val_loss.float()}')\n",
    "    return params"
   ],
   "id": "881072df5854414f",
   "outputs": [],
   "execution_count": 63
  },
  {
   "metadata": {
    "ExecuteTime": {
     "end_time": "2025-07-15T13:42:51.130427Z",
     "start_time": "2025-07-15T13:42:49.471627Z"
    }
   },
   "cell_type": "code",
   "source": [
    "parameters = torch.tensor([1.0, 1.0, 0.0], requires_grad=True)\n",
    "learning_rate = 1e-4\n",
    "optimizer = optim.SGD([parameters], learning_rate)\n",
    "training_loop(5000, parameters, optimizer, train_t_un, train_t_c, val_t_un, val_t_c)"
   ],
   "id": "43bffb6446060a3",
   "outputs": [
    {
     "name": "stdout",
     "output_type": "stream",
     "text": [
      "Epoch 1    Train Loss: 562.052001953125    Val Loss: 681.0538330078125\n",
      "Epoch 2    Train Loss: 380.4105224609375    Val Loss: 451.0948791503906\n",
      "Epoch 3    Train Loss: 258.93408203125    Val Loss: 299.12115478515625\n",
      "Epoch 4    Train Loss: 177.6937713623047    Val Loss: 198.969482421875\n",
      "Epoch 200    Train Loss: 12.909128189086914    Val Loss: 15.54959487915039\n",
      "Epoch 400    Train Loss: 12.175434112548828    Val Loss: 14.329854011535645\n",
      "Epoch 600    Train Loss: 11.490619659423828    Val Loss: 13.218446731567383\n",
      "Epoch 800    Train Loss: 10.851422309875488    Val Loss: 12.207230567932129\n",
      "Epoch 1000    Train Loss: 10.254799842834473    Val Loss: 11.288636207580566\n",
      "Epoch 1200    Train Loss: 9.697917938232422    Val Loss: 10.45562744140625\n",
      "Epoch 1400    Train Loss: 9.178129196166992    Val Loss: 9.701674461364746\n",
      "Epoch 1600    Train Loss: 8.692960739135742    Val Loss: 9.020700454711914\n",
      "Epoch 1800    Train Loss: 8.240105628967285    Val Loss: 8.407062530517578\n",
      "Epoch 2000    Train Loss: 7.817412376403809    Val Loss: 7.855532169342041\n",
      "Epoch 2200    Train Loss: 7.42287015914917    Val Loss: 7.361238956451416\n",
      "Epoch 2400    Train Loss: 7.054602146148682    Val Loss: 6.919665813446045\n",
      "Epoch 2600    Train Loss: 6.710860729217529    Val Loss: 6.5266289710998535\n",
      "Epoch 2800    Train Loss: 6.390009880065918    Val Loss: 6.178239345550537\n",
      "Epoch 3000    Train Loss: 6.090518951416016    Val Loss: 5.8708815574646\n",
      "Epoch 3200    Train Loss: 5.810972690582275    Val Loss: 5.601222515106201\n",
      "Epoch 3400    Train Loss: 5.550040245056152    Val Loss: 5.366156101226807\n",
      "Epoch 3600    Train Loss: 5.306478500366211    Val Loss: 5.162807941436768\n",
      "Epoch 3800    Train Loss: 5.0791335105896    Val Loss: 4.988514423370361\n",
      "Epoch 4000    Train Loss: 4.866920471191406    Val Loss: 4.840808868408203\n",
      "Epoch 4200    Train Loss: 4.668834209442139    Val Loss: 4.717404842376709\n",
      "Epoch 4400    Train Loss: 4.4839324951171875    Val Loss: 4.616189956665039\n",
      "Epoch 4600    Train Loss: 4.311337471008301    Val Loss: 4.535202980041504\n",
      "Epoch 4800    Train Loss: 4.150228023529053    Val Loss: 4.472636699676514\n",
      "Epoch 5000    Train Loss: 3.99983811378479    Val Loss: 4.426812648773193\n"
     ]
    },
    {
     "data": {
      "text/plain": [
       "tensor([-1.0164,  0.5915, -0.9676], requires_grad=True)"
      ]
     },
     "execution_count": 67,
     "metadata": {},
     "output_type": "execute_result"
    }
   ],
   "execution_count": 67
  },
  {
   "metadata": {},
   "cell_type": "markdown",
   "source": [
    "a) Only the parameters had to be updated to include one more entry for the new weight\n",
    "b) The training loop in general stays the same, including the calculation of the loss, updating the parameters...\n",
    "c) The resulting loss is higher than before\n",
    "d) The output is worse in general"
   ],
   "id": "fbb4e37aa1da6c7d"
  },
  {
   "metadata": {},
   "cell_type": "code",
   "outputs": [],
   "execution_count": null,
   "source": "",
   "id": "50ba529f5358867e"
  }
 ],
 "metadata": {
  "kernelspec": {
   "display_name": "Python 3",
   "language": "python",
   "name": "python3"
  },
  "language_info": {
   "codemirror_mode": {
    "name": "ipython",
    "version": 2
   },
   "file_extension": ".py",
   "mimetype": "text/x-python",
   "name": "python",
   "nbconvert_exporter": "python",
   "pygments_lexer": "ipython2",
   "version": "2.7.6"
  }
 },
 "nbformat": 4,
 "nbformat_minor": 5
}
