{
  "nbformat": 4,
  "nbformat_minor": 0,
  "metadata": {
    "colab": {
      "provenance": []
    },
    "kernelspec": {
      "name": "python3",
      "display_name": "Python 3"
    },
    "language_info": {
      "name": "python"
    }
  },
  "cells": [
    {
      "cell_type": "markdown",
      "source": [
        "# Download CT Data\n",
        "\n",
        "Contains a routine to download data from zenodo and saving to google drive, as well as another one for unzipping the corresponding files."
      ],
      "metadata": {
        "id": "G3XsL7Qfru0a"
      }
    },
    {
      "cell_type": "code",
      "execution_count": null,
      "metadata": {
        "colab": {
          "base_uri": "https://localhost:8080/"
        },
        "id": "nHy_pFBln1-t",
        "outputId": "4163d843-7d6d-4e79-9fee-43efd3eeaf67"
      },
      "outputs": [
        {
          "output_type": "stream",
          "name": "stdout",
          "text": [
            "Drive already mounted at /content/drive; to attempt to forcibly remount, call drive.mount(\"/content/drive\", force_remount=True).\n"
          ]
        }
      ],
      "source": [
        "import os\n",
        "import shutil\n",
        "import concurrent.futures\n",
        "import subprocess\n",
        "import glob\n",
        "from tqdm import tqdm\n",
        "from google.colab import drive\n",
        "import time\n",
        "\n",
        "drive.mount('/content/drive')\n",
        "\n",
        "# Setup folders to download to\n",
        "os.makedirs('data', exist_ok=True)"
      ]
    },
    {
      "cell_type": "code",
      "source": [
        "def download_and_move(filename, base_url):\n",
        "    url = f'{base_url}/{filename}?download=1'\n",
        "    output_path = f'data/{filename}'\n",
        "    drive_path = f'drive/My\\ Drive/deep-learning-with-pytorch/data/{filename}'\n",
        "\n",
        "    if os.path.exists(drive_path):\n",
        "        print(f'{filename} already exists')\n",
        "        return\n",
        "\n",
        "    print(f'Downloading {filename}')\n",
        "    !wget -O {output_path} '{url}'\n",
        "    print(f'Finished downloading {filename}')"
      ],
      "metadata": {
        "id": "BKob0ydMsuVR"
      },
      "execution_count": null,
      "outputs": []
    },
    {
      "cell_type": "code",
      "source": [
        "base_url_part1 = f'https://zenodo.org/records/3723295/files'\n",
        "filenames_part1 = [f'subset{i}.zip' for i in range(7)]\n",
        "\n",
        "base_url_part2 = f'https://zenodo.org/records/4121926/files'\n",
        "filenames_part2 = [f'subset{i}.zip' for i in range(7, 10)]"
      ],
      "metadata": {
        "id": "4vsCMmJpsjgy"
      },
      "execution_count": null,
      "outputs": []
    },
    {
      "cell_type": "code",
      "source": [
        "with concurrent.futures.ThreadPoolExecutor(max_workers=3) as executor:\n",
        "    futures = [executor.submit(download_and_move, fn, base_url_part1) for fn in filenames_part1]\n",
        "    concurrent.futures.wait(futures)"
      ],
      "metadata": {
        "id": "VD1eWk6mtty2"
      },
      "execution_count": null,
      "outputs": []
    },
    {
      "cell_type": "code",
      "source": [
        "with concurrent.futures.ThreadPoolExecutor(max_workers=3) as executor:\n",
        "    futures = [executor.submit(download_and_move, fn, base_url_part2) for fn in filenames_part2]\n",
        "    concurrent.futures.wait(futures)"
      ],
      "metadata": {
        "id": "SlijPSvioHZ2"
      },
      "execution_count": null,
      "outputs": []
    },
    {
      "cell_type": "code",
      "source": [
        "def move_file(filename):\n",
        "    output_path = f'data/{filename}'\n",
        "    drive_path = f'drive/My\\ Drive/deep-learning-with-pytorch/data/{filename}'\n",
        "    !mv {output_path} {drive_path}"
      ],
      "metadata": {
        "id": "9ChKSkqM_zbD"
      },
      "execution_count": null,
      "outputs": []
    },
    {
      "cell_type": "code",
      "source": [
        "for index in tqdm(range(10)):\n",
        "    file = f'subset{index}.zip'\n",
        "    move_file(file)"
      ],
      "metadata": {
        "colab": {
          "base_uri": "https://localhost:8080/"
        },
        "id": "r_UK-RI9EBv2",
        "outputId": "92c4f9a0-11a9-486c-cfab-a7da3fb57b03"
      },
      "execution_count": null,
      "outputs": [
        {
          "output_type": "stream",
          "name": "stderr",
          "text": [
            "\r  0%|          | 0/10 [00:00<?, ?it/s]"
          ]
        },
        {
          "output_type": "stream",
          "name": "stdout",
          "text": [
            "mv: cannot stat 'data/subset0.zip': No such file or directory\n"
          ]
        },
        {
          "output_type": "stream",
          "name": "stderr",
          "text": [
            "100%|██████████| 10/10 [21:01<00:00, 126.11s/it]\n"
          ]
        }
      ]
    },
    {
      "cell_type": "code",
      "source": [
        "source_dir = '/content/drive/MyDrive/deep-learning-with-pytorch/data'\n",
        "target_dir = '/content/data'\n",
        "\n",
        "drive_zip_files = glob.glob(os.path.join(source_dir, '*.zip'))\n",
        "for drive_zip_file in drive_zip_files:\n",
        "    start = time.time()\n",
        "\n",
        "    file_name = os.path.basename(drive_zip_file)\n",
        "    unzipped_folder_name = os.path.splitext(file_name)[0]\n",
        "    local_zip_file = os.path.join(target_dir, file_name)\n",
        "\n",
        "    print(f'\\n\\n=== Processing file {unzipped_folder_name} ===')\n",
        "    if os.path.exists(local_zip_file):\n",
        "        print(f'    Skipping file')\n",
        "        continue\n",
        "\n",
        "    # Copy file from drive to notebook\n",
        "    shutil.copy(drive_zip_file, target_dir)\n",
        "    copy_time = time.time()\n",
        "    print(f'    Finished copying in {copy_time - start} seconds')\n",
        "\n",
        "    # Unzip file in notebook\n",
        "    subprocess.run([\n",
        "        'unzip',\n",
        "        '-q', local_zip_file,\n",
        "        '-d', target_dir\n",
        "    ])\n",
        "    unzip_time = time.time()\n",
        "    print(f'    Finished unzipping in {unzip_time - copy_time} seconds')\n",
        "\n",
        "    # Copy back to google drive\n",
        "    local_folder_path = os.path.join(target_dir, unzipped_folder_name)\n",
        "    drive_folder_path = os.path.join(source_dir, unzipped_folder_name)\n",
        "    shutil.copytree(\n",
        "        local_folder_path,\n",
        "        drive_folder_path,\n",
        "        dirs_exist_ok=True\n",
        "    )\n",
        "    copy_back_time = time.time()\n",
        "    print(f'    Finished copy back to drive in ' +\n",
        "          f'{copy_back_time - unzip_time} seconds')\n",
        "\n",
        "    # Delete unused local files\n",
        "    os.remove(local_zip_file)\n",
        "    shutil.rmtree(local_folder_path, ignore_errors=True)\n",
        "    print(f'    Finished file in {time.time() - start} seconds')"
      ],
      "metadata": {
        "id": "dgYH_W5WKiQv",
        "colab": {
          "base_uri": "https://localhost:8080/"
        },
        "collapsed": true,
        "outputId": "62eb6aaa-6091-4f6c-9a35-f674acb5c585"
      },
      "execution_count": null,
      "outputs": [
        {
          "output_type": "stream",
          "name": "stdout",
          "text": [
            "\n",
            "\n",
            "=== Processing file subset0 ===\n",
            "    Skipping file\n",
            "\n",
            "\n",
            "=== Processing file subset2 ===\n",
            "    Finished copying in 137.53758096694946 seconds\n",
            "    Finished unzipping in 213.3952956199646 seconds\n",
            "    Finished copy back to drive in 174.1155514717102 seconds\n",
            "    Finished file in 525.9430611133575 seconds\n",
            "\n",
            "\n",
            "=== Processing file subset1 ===\n",
            "    Finished copying in 120.98802447319031 seconds\n",
            "    Finished unzipping in 188.9628221988678 seconds\n",
            "    Finished copy back to drive in 145.1288800239563 seconds\n",
            "    Finished file in 457.8082287311554 seconds\n",
            "\n",
            "\n",
            "=== Processing file subset3 ===\n",
            "    Finished copying in 116.02492332458496 seconds\n",
            "    Finished unzipping in 191.0640811920166 seconds\n",
            "    Finished copy back to drive in 196.4029471874237 seconds\n",
            "    Finished file in 504.360493183136 seconds\n",
            "\n",
            "\n",
            "=== Processing file subset4 ===\n",
            "    Finished copying in 133.73262000083923 seconds\n",
            "    Finished unzipping in 192.32238173484802 seconds\n",
            "    Finished copy back to drive in 171.20644307136536 seconds\n",
            "    Finished file in 498.4326386451721 seconds\n",
            "\n",
            "\n",
            "=== Processing file subset5 ===\n",
            "    Finished copying in 149.60580706596375 seconds\n",
            "    Finished unzipping in 185.2259669303894 seconds\n",
            "    Finished copy back to drive in 159.25924015045166 seconds\n",
            "    Finished file in 495.461300611496 seconds\n",
            "\n",
            "\n",
            "=== Processing file subset6 ===\n",
            "    Finished copying in 120.76930117607117 seconds\n",
            "    Finished unzipping in 194.3767547607422 seconds\n",
            "    Finished copy back to drive in 163.78586077690125 seconds\n",
            "    Finished file in 480.5623781681061 seconds\n",
            "\n",
            "\n",
            "=== Processing file subset7 ===\n",
            "    Finished copying in 143.6893892288208 seconds\n",
            "    Finished unzipping in 189.43258476257324 seconds\n",
            "    Finished copy back to drive in 170.51960706710815 seconds\n",
            "    Finished file in 504.7176058292389 seconds\n",
            "\n",
            "\n",
            "=== Processing file subset8 ===\n",
            "    Finished copying in 130.5388958454132 seconds\n",
            "    Finished unzipping in 166.67832708358765 seconds\n",
            "    Finished copy back to drive in 158.78961634635925 seconds\n",
            "    Finished file in 456.71473574638367 seconds\n",
            "\n",
            "\n",
            "=== Processing file subset9 ===\n",
            "    Finished copying in 144.38087487220764 seconds\n",
            "    Finished unzipping in 185.3115577697754 seconds\n",
            "    Finished copy back to drive in 155.4650764465332 seconds\n",
            "    Finished file in 485.91494941711426 seconds\n"
          ]
        }
      ]
    },
    {
      "cell_type": "code",
      "source": [
        "drive.flush_and_unmount()"
      ],
      "metadata": {
        "id": "b1drDKGjEKJv"
      },
      "execution_count": null,
      "outputs": []
    }
  ]
}