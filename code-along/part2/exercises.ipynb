{
 "cells": [
  {
   "metadata": {},
   "cell_type": "markdown",
   "source": [
    "## Chapter 10\n",
    "\n",
    "### Exercise 1"
   ],
   "id": "829ecfb340ecd766"
  },
  {
   "metadata": {
    "ExecuteTime": {
     "end_time": "2025-07-24T08:18:13.973383Z",
     "start_time": "2025-07-24T08:18:10.939436Z"
    }
   },
   "cell_type": "code",
   "source": [
    "import time\n",
    "from dsets import LunaDataset\n",
    "\n",
    "def time_iterations(iter_count):\n",
    "    ds = LunaDataset()\n",
    "\n",
    "    start = time.time()\n",
    "    for i in range(iter_count):\n",
    "        var = ds[i]\n",
    "    end = time.time()\n",
    "\n",
    "    print(f'{iter_count} iterations finished in {end - start} seconds.')\n",
    "\n",
    "def time_last_iterations(iter_count):\n",
    "    ds = LunaDataset()\n",
    "\n",
    "    start = time.time()\n",
    "    for i in range(iter_count):\n",
    "        var = ds[-i]\n",
    "    end = time.time()\n",
    "\n",
    "    print(f'{iter_count} iterations finished in {end - start} seconds.')"
   ],
   "id": "3854d867ed9d01a6",
   "outputs": [],
   "execution_count": 1
  },
  {
   "cell_type": "code",
   "id": "initial_id",
   "metadata": {
    "collapsed": true,
    "ExecuteTime": {
     "end_time": "2025-07-23T16:51:06.415178Z",
     "start_time": "2025-07-23T16:47:59.648961Z"
    }
   },
   "source": "time_iterations(1000)",
   "outputs": [
    {
     "name": "stdout",
     "output_type": "stream",
     "text": [
      "1000 iterations finished in 186.75063300132751 seconds.\n"
     ]
    }
   ],
   "execution_count": 4
  },
  {
   "metadata": {},
   "cell_type": "markdown",
   "source": "a) First run finished in 141 seconds.",
   "id": "b94b52c6ea58a5db"
  },
  {
   "metadata": {
    "ExecuteTime": {
     "end_time": "2025-07-23T16:51:33.161499Z",
     "start_time": "2025-07-23T16:51:32.445574Z"
    }
   },
   "cell_type": "code",
   "source": "time_iterations(1000)",
   "id": "f69407f3d0a1dd6f",
   "outputs": [
    {
     "name": "stdout",
     "output_type": "stream",
     "text": [
      "1000 iterations finished in 0.7033522129058838 seconds.\n"
     ]
    }
   ],
   "execution_count": 5
  },
  {
   "metadata": {},
   "cell_type": "markdown",
   "source": "b) Second run finished in under 1 second.",
   "id": "d8c235c972b74872"
  },
  {
   "metadata": {
    "ExecuteTime": {
     "end_time": "2025-07-23T16:55:52.987185Z",
     "start_time": "2025-07-23T16:52:24.174391Z"
    }
   },
   "cell_type": "code",
   "source": "time_iterations(1000)",
   "id": "61884f6460927396",
   "outputs": [
    {
     "name": "stdout",
     "output_type": "stream",
     "text": [
      "1000 iterations finished in 208.80103278160095 seconds.\n"
     ]
    }
   ],
   "execution_count": 6
  },
  {
   "metadata": {},
   "cell_type": "markdown",
   "source": "c) After clearing the cache, the runtime is back to 200 seconds.",
   "id": "4c458482c35c04ec"
  },
  {
   "metadata": {
    "ExecuteTime": {
     "end_time": "2025-07-23T16:57:13.674286Z",
     "start_time": "2025-07-23T16:57:11.220794Z"
    }
   },
   "cell_type": "code",
   "source": [
    "time_last_iterations(1000)\n",
    "time_last_iterations(1000)"
   ],
   "id": "751cdf8edb0571a1",
   "outputs": [
    {
     "name": "stdout",
     "output_type": "stream",
     "text": [
      "1000 iterations finished in 2.2063560485839844 seconds.\n",
      "1000 iterations finished in 0.22845101356506348 seconds.\n"
     ]
    }
   ],
   "execution_count": 8
  },
  {
   "metadata": {},
   "cell_type": "markdown",
   "source": "d) Using the last 1000 samples has no impact on the runtime after being cached.",
   "id": "37a1754b25edbc2d"
  },
  {
   "metadata": {},
   "cell_type": "markdown",
   "source": "### Exercise 2",
   "id": "415576fd7e470b5"
  },
  {
   "metadata": {
    "ExecuteTime": {
     "end_time": "2025-07-23T17:07:28.029385Z",
     "start_time": "2025-07-23T17:00:08.799753Z"
    }
   },
   "cell_type": "code",
   "source": [
    "time_iterations(1000)\n",
    "time_iterations(1000)"
   ],
   "id": "76c31c348518362e",
   "outputs": [
    {
     "name": "stdout",
     "output_type": "stream",
     "text": [
      "1000 iterations finished in 225.06759643554688 seconds.\n",
      "1000 iterations finished in 211.10741472244263 seconds.\n"
     ]
    }
   ],
   "execution_count": 2
  },
  {
   "metadata": {},
   "cell_type": "markdown",
   "source": "After randomizing the list, both runs take quite a long time.",
   "id": "5a81b05a881f8bf2"
  },
  {
   "metadata": {},
   "cell_type": "markdown",
   "source": "### Exercise 3",
   "id": "fb3d6087a759f92e"
  },
  {
   "metadata": {
    "ExecuteTime": {
     "end_time": "2025-07-24T08:23:06.996458Z",
     "start_time": "2025-07-24T08:18:25.105229Z"
    }
   },
   "cell_type": "code",
   "source": [
    "time_iterations(1000)\n",
    "time_iterations(1000)"
   ],
   "id": "32ab0c8e08294fff",
   "outputs": [
    {
     "name": "stdout",
     "output_type": "stream",
     "text": [
      "New instance of LunaDataset created.\n",
      "1000 iterations finished in 278.02917885780334 seconds.\n",
      "New instance of LunaDataset created.\n",
      "1000 iterations finished in 0.6841669082641602 seconds.\n"
     ]
    }
   ],
   "execution_count": 2
  },
  {
   "metadata": {},
   "cell_type": "markdown",
   "source": "The getCt decorator does have an impact on the first loop. The second one remains the same, however.",
   "id": "c4e1b2fa9eff3240"
  },
  {
   "metadata": {},
   "cell_type": "code",
   "outputs": [],
   "execution_count": null,
   "source": "",
   "id": "79b845c6712dd2d0"
  }
 ],
 "metadata": {
  "kernelspec": {
   "display_name": "Python 3",
   "language": "python",
   "name": "python3"
  },
  "language_info": {
   "codemirror_mode": {
    "name": "ipython",
    "version": 2
   },
   "file_extension": ".py",
   "mimetype": "text/x-python",
   "name": "python",
   "nbconvert_exporter": "python",
   "pygments_lexer": "ipython2",
   "version": "2.7.6"
  }
 },
 "nbformat": 4,
 "nbformat_minor": 5
}
