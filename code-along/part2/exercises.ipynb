{
 "cells": [
  {
   "metadata": {},
   "cell_type": "markdown",
   "source": [
    "## Chapter 10\n",
    "\n",
    "### Exercise 1"
   ],
   "id": "829ecfb340ecd766"
  },
  {
   "metadata": {
    "ExecuteTime": {
     "end_time": "2025-07-28T11:16:27.000199Z",
     "start_time": "2025-07-28T11:16:26.869737Z"
    }
   },
   "cell_type": "code",
   "source": [
    "from utils import set_mode\n",
    "\n",
    "set_mode('local')"
   ],
   "id": "9bb241a442994148",
   "outputs": [],
   "execution_count": 1
  },
  {
   "metadata": {
    "ExecuteTime": {
     "end_time": "2025-07-27T07:55:33.287080Z",
     "start_time": "2025-07-27T07:55:31.188380Z"
    }
   },
   "cell_type": "code",
   "source": [
    "import time\n",
    "from dsets import LunaDataset\n",
    "\n",
    "def time_iterations(iter_count):\n",
    "    ds = LunaDataset()\n",
    "\n",
    "    start = time.time()\n",
    "    for i in range(iter_count):\n",
    "        var = ds[i]\n",
    "    end = time.time()\n",
    "\n",
    "    print(f'{iter_count} iterations finished in {end - start} seconds.')\n",
    "\n",
    "def time_last_iterations(iter_count):\n",
    "    ds = LunaDataset()\n",
    "\n",
    "    start = time.time()\n",
    "    for i in range(iter_count):\n",
    "        var = ds[-i]\n",
    "    end = time.time()\n",
    "\n",
    "    print(f'{iter_count} iterations finished in {end - start} seconds.')"
   ],
   "id": "3854d867ed9d01a6",
   "outputs": [],
   "execution_count": 2
  },
  {
   "cell_type": "code",
   "id": "initial_id",
   "metadata": {
    "collapsed": true,
    "ExecuteTime": {
     "end_time": "2025-07-27T08:00:27.795464Z",
     "start_time": "2025-07-27T07:55:34.119185Z"
    }
   },
   "source": "time_iterations(1000)",
   "outputs": [
    {
     "name": "stderr",
     "output_type": "stream",
     "text": [
      "2025-07-27 09:55:36,716 INFO     pid:11272 dsets:175:__init__ <dsets.LunaDataset object at 0x7f6829b2adb0>: 551065 training samples\n"
     ]
    },
    {
     "name": "stdout",
     "output_type": "stream",
     "text": [
      "1000 iterations finished in 291.07224130630493 seconds.\n"
     ]
    }
   ],
   "execution_count": 3
  },
  {
   "metadata": {},
   "cell_type": "markdown",
   "source": "a) First run finished in 141 seconds.",
   "id": "b94b52c6ea58a5db"
  },
  {
   "metadata": {
    "ExecuteTime": {
     "end_time": "2025-07-23T16:51:33.161499Z",
     "start_time": "2025-07-23T16:51:32.445574Z"
    }
   },
   "cell_type": "code",
   "source": "time_iterations(1000)",
   "id": "f69407f3d0a1dd6f",
   "outputs": [
    {
     "name": "stdout",
     "output_type": "stream",
     "text": [
      "1000 iterations finished in 0.7033522129058838 seconds.\n"
     ]
    }
   ],
   "execution_count": 5
  },
  {
   "metadata": {},
   "cell_type": "markdown",
   "source": "b) Second run finished in under 1 second.",
   "id": "d8c235c972b74872"
  },
  {
   "metadata": {
    "ExecuteTime": {
     "end_time": "2025-07-23T16:55:52.987185Z",
     "start_time": "2025-07-23T16:52:24.174391Z"
    }
   },
   "cell_type": "code",
   "source": "time_iterations(1000)",
   "id": "61884f6460927396",
   "outputs": [
    {
     "name": "stdout",
     "output_type": "stream",
     "text": [
      "1000 iterations finished in 208.80103278160095 seconds.\n"
     ]
    }
   ],
   "execution_count": 6
  },
  {
   "metadata": {},
   "cell_type": "markdown",
   "source": "c) After clearing the cache, the runtime is back to 200 seconds.",
   "id": "4c458482c35c04ec"
  },
  {
   "metadata": {
    "ExecuteTime": {
     "end_time": "2025-07-23T16:57:13.674286Z",
     "start_time": "2025-07-23T16:57:11.220794Z"
    }
   },
   "cell_type": "code",
   "source": [
    "time_last_iterations(1000)\n",
    "time_last_iterations(1000)"
   ],
   "id": "751cdf8edb0571a1",
   "outputs": [
    {
     "name": "stdout",
     "output_type": "stream",
     "text": [
      "1000 iterations finished in 2.2063560485839844 seconds.\n",
      "1000 iterations finished in 0.22845101356506348 seconds.\n"
     ]
    }
   ],
   "execution_count": 8
  },
  {
   "metadata": {},
   "cell_type": "markdown",
   "source": "d) Using the last 1000 samples has no impact on the runtime after being cached.",
   "id": "37a1754b25edbc2d"
  },
  {
   "metadata": {},
   "cell_type": "markdown",
   "source": "### Exercise 2",
   "id": "415576fd7e470b5"
  },
  {
   "metadata": {
    "ExecuteTime": {
     "end_time": "2025-07-23T17:07:28.029385Z",
     "start_time": "2025-07-23T17:00:08.799753Z"
    }
   },
   "cell_type": "code",
   "source": [
    "time_iterations(1000)\n",
    "time_iterations(1000)"
   ],
   "id": "76c31c348518362e",
   "outputs": [
    {
     "name": "stdout",
     "output_type": "stream",
     "text": [
      "1000 iterations finished in 225.06759643554688 seconds.\n",
      "1000 iterations finished in 211.10741472244263 seconds.\n"
     ]
    }
   ],
   "execution_count": 2
  },
  {
   "metadata": {},
   "cell_type": "markdown",
   "source": "After randomizing the list, both runs take quite a long time.",
   "id": "5a81b05a881f8bf2"
  },
  {
   "metadata": {},
   "cell_type": "markdown",
   "source": "### Exercise 3",
   "id": "fb3d6087a759f92e"
  },
  {
   "metadata": {
    "ExecuteTime": {
     "end_time": "2025-07-24T08:23:06.996458Z",
     "start_time": "2025-07-24T08:18:25.105229Z"
    }
   },
   "cell_type": "code",
   "source": [
    "time_iterations(1000)\n",
    "time_iterations(1000)"
   ],
   "id": "32ab0c8e08294fff",
   "outputs": [
    {
     "name": "stdout",
     "output_type": "stream",
     "text": [
      "New instance of LunaDataset created.\n",
      "1000 iterations finished in 278.02917885780334 seconds.\n",
      "New instance of LunaDataset created.\n",
      "1000 iterations finished in 0.6841669082641602 seconds.\n"
     ]
    }
   ],
   "execution_count": 2
  },
  {
   "metadata": {},
   "cell_type": "markdown",
   "source": "The getCt decorator does have an impact on the first loop. The second one remains the same, however.",
   "id": "c4e1b2fa9eff3240"
  },
  {
   "metadata": {},
   "cell_type": "markdown",
   "source": "## Chapter 11",
   "id": "cae87fd6c45d669b"
  },
  {
   "metadata": {},
   "cell_type": "code",
   "outputs": [],
   "execution_count": null,
   "source": "#TODO",
   "id": "ffbc85aaac1e573c"
  },
  {
   "metadata": {},
   "cell_type": "markdown",
   "source": [
    "## Chapter 12\n",
    "\n",
    "### Exercise 1"
   ],
   "id": "c4239d96143bf1e0"
  },
  {
   "metadata": {},
   "cell_type": "code",
   "outputs": [],
   "execution_count": null,
   "source": "import numpy as np",
   "id": "5fc75ce514e7d9e5"
  },
  {
   "metadata": {},
   "cell_type": "code",
   "outputs": [],
   "execution_count": null,
   "source": [
    "# More general implementation of f_score: Recall is considered beta times as important as precision\n",
    "def f_score(preds, labels, beta=1, classification_threshold=0.5):\n",
    "    # True positives: Elements identified as nodules that are actually nodules\n",
    "    # False positives: Elements identified as nodules that are not nodules\n",
    "    # True negatives: Elements not identified as nodules that are not nodules\n",
    "    # False negatives: Elements not identified as nodules that are nodules\n",
    "\n",
    "    pos_label_mask = labels > classification_threshold  # Actual nodules\n",
    "    pos_pred_mask = preds > classification_threshold    # Elements identified as nodules\n",
    "\n",
    "    neg_label_mask = ~pos_label_mask    # Actual non-nodules\n",
    "    neg_pred_mask = ~pos_pred_mask      # Elements identifies as non-nodules\n",
    "\n",
    "    pos_count = int(pos_label_mask.sum())   # Number of actual nodules\n",
    "    neg_count = int(neg_label_mask.sum())   # Number of actual non-nodules\n",
    "\n",
    "    true_neg_count = int((neg_label_mask & neg_pred_mask).sum())    # Number of non-nodules identified as such\n",
    "    true_pos_count = int((pos_label_mask & pos_pred_mask).sum())    # Number of nodules identified as such\n",
    "\n",
    "    false_pos_count = neg_count - true_neg_count    # Num. of samples identified as nodules, even though they are not nodules\n",
    "    false_neg_count = pos_count - true_pos_count    # Num. of samples identified as non-nodules, even though they are nodules\n",
    "\n",
    "    pos_pred_count = np.float32(true_pos_count + false_pos_count)\n",
    "    precision = true_pos_count / pos_pred_count if pos_pred_count > 0 else 0\n",
    "\n",
    "    act_pos_count = np.float32(true_pos_count + false_neg_count)\n",
    "    recall = true_pos_count / act_pos_count if act_pos_count > 0 else 0\n",
    "\n",
    "    denominator = ((beta ** 2) * precision) + recall\n",
    "    return (1 + beta ** 2) * (precision * recall) / denominator if denominator > 0 else 0.0"
   ],
   "id": "263b639174508dca"
  },
  {
   "metadata": {},
   "cell_type": "markdown",
   "source": [
    "b)\n",
    "To reiterate:\n",
    "\n",
    "- Recall: Number of samples correctly identified as positive against the number of actual positive samples\n",
    "- Precision: Number of samples correctly identified as positive against the number of samples identified as positive, whether wrong or right\n",
    "\n",
    "If we classify everything as positive, we have a lot of false positives, so precision will be very low. We will not have any false negatives, however, so recall will be high. If we classify everything as negative, both will be 0. In our case, we want to minimize false negatives, as we want to be really sure we miss no nodules, so we want to weigh recall higher than precision. In this case the F2 score is a better choice."
   ],
   "id": "3635793dddd1c78a"
  },
  {
   "metadata": {},
   "cell_type": "code",
   "outputs": [],
   "execution_count": null,
   "source": "# TODO: Finish other exercises",
   "id": "26744380094e4ddc"
  }
 ],
 "metadata": {
  "kernelspec": {
   "display_name": "Python 3",
   "language": "python",
   "name": "python3"
  },
  "language_info": {
   "codemirror_mode": {
    "name": "ipython",
    "version": 2
   },
   "file_extension": ".py",
   "mimetype": "text/x-python",
   "name": "python",
   "nbconvert_exporter": "python",
   "pygments_lexer": "ipython2",
   "version": "2.7.6"
  }
 },
 "nbformat": 4,
 "nbformat_minor": 5
}
