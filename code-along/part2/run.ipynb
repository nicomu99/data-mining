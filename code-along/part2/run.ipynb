{
 "cells": [
  {
   "metadata": {
    "ExecuteTime": {
     "end_time": "2025-07-23T14:49:33.920611Z",
     "start_time": "2025-07-23T14:49:33.830656Z"
    }
   },
   "cell_type": "code",
   "source": [
    "from util.util import importstr\n",
    "from util.logconf import logging\n",
    "\n",
    "log = logging.getLogger('nb')"
   ],
   "id": "4ed18d0a013a7e6e",
   "outputs": [],
   "execution_count": 1
  },
  {
   "cell_type": "code",
   "id": "initial_id",
   "metadata": {
    "collapsed": true,
    "ExecuteTime": {
     "end_time": "2025-07-23T14:49:34.106100Z",
     "start_time": "2025-07-23T14:49:34.102126Z"
    }
   },
   "source": [
    "def run(app, *argv):\n",
    "    argv = list(argv)\n",
    "    argv.insert(0, '--num_workers=4')\n",
    "    log.info(f'Running: {app}({argv!r}).main()')\n",
    "\n",
    "    app_cls = importstr(*app.rsplit('.', 1))\n",
    "    app_cls(argv).main()\n",
    "\n",
    "    log.info(f'Finished: {app}.{argv!r}')"
   ],
   "outputs": [],
   "execution_count": 2
  },
  {
   "metadata": {
    "ExecuteTime": {
     "end_time": "2025-07-23T14:48:16.067498Z",
     "start_time": "2025-07-23T14:48:13.792596Z"
    }
   },
   "cell_type": "code",
   "source": "run('training.LunaTrainingApp', '--epochs=1')",
   "id": "18eea7c346f31fb9",
   "outputs": [
    {
     "name": "stderr",
     "output_type": "stream",
     "text": [
      "2025-07-23 16:48:13,796 INFO     pid:5767 nb:004:run Running: training.LunaTrainingApp(['--num_workers=4', '--epochs=1']).main()\n",
      "usage: ipykernel_launcher.py [-h] [--num_workers NUM_WORKERS]\n",
      "ipykernel_launcher.py: error: unrecognized arguments: --epochs=1\n"
     ]
    },
    {
     "ename": "SystemExit",
     "evalue": "2",
     "output_type": "error",
     "traceback": [
      "An exception has occurred, use %tb to see the full traceback.\n",
      "\u001B[31mSystemExit\u001B[39m\u001B[31m:\u001B[39m 2\n"
     ]
    },
    {
     "name": "stderr",
     "output_type": "stream",
     "text": [
      "/home/nico/miniconda3/envs/data-mining/lib/python3.12/site-packages/IPython/core/interactiveshell.py:3707: UserWarning: To exit: use 'exit', 'quit', or Ctrl-D.\n",
      "  warn(\"To exit: use 'exit', 'quit', or Ctrl-D.\", stacklevel=1)\n"
     ]
    }
   ],
   "execution_count": 3
  },
  {
   "metadata": {},
   "cell_type": "code",
   "outputs": [],
   "execution_count": null,
   "source": "",
   "id": "78024b8bcc772dde"
  }
 ],
 "metadata": {
  "kernelspec": {
   "display_name": "Python 3",
   "language": "python",
   "name": "python3"
  },
  "language_info": {
   "codemirror_mode": {
    "name": "ipython",
    "version": 2
   },
   "file_extension": ".py",
   "mimetype": "text/x-python",
   "name": "python",
   "nbconvert_exporter": "python",
   "pygments_lexer": "ipython2",
   "version": "2.7.6"
  }
 },
 "nbformat": 4,
 "nbformat_minor": 5
}
