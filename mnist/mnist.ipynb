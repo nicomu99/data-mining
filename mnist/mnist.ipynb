{
 "cells": [
  {
   "metadata": {},
   "cell_type": "code",
   "source": [
    "!pip install torch\n",
    "!pip install torchvision"
   ],
   "id": "b7fb00466e63becd",
   "outputs": [],
   "execution_count": null
  },
  {
   "cell_type": "code",
   "id": "initial_id",
   "metadata": {
    "collapsed": true,
    "ExecuteTime": {
     "end_time": "2025-07-04T18:24:19.849541Z",
     "start_time": "2025-07-04T18:24:19.846541Z"
    }
   },
   "source": [
    "import torch\n",
    "from torch import nn\n",
    "from torch.utils.data import DataLoader\n",
    "from torchvision import datasets\n",
    "from torchvision.transforms import ToTensor\n",
    "\n",
    "from tqdm import tqdm"
   ],
   "outputs": [],
   "execution_count": 16
  },
  {
   "metadata": {
    "ExecuteTime": {
     "end_time": "2025-07-04T18:12:11.749521Z",
     "start_time": "2025-07-04T18:12:09.862858Z"
    }
   },
   "cell_type": "code",
   "source": [
    "train_data = datasets.FashionMNIST(\n",
    "    root=\"data\",\n",
    "    train=True,\n",
    "    download=True,\n",
    "    transform=ToTensor()\n",
    ")\n",
    "\n",
    "test_data = datasets.FashionMNIST(\n",
    "    root=\"data\",\n",
    "    train=False,\n",
    "    download=True,\n",
    "    transform=ToTensor()\n",
    ")"
   ],
   "id": "3fa05d665e182eb7",
   "outputs": [
    {
     "name": "stderr",
     "output_type": "stream",
     "text": [
      "100%|██████████| 26.4M/26.4M [00:00<00:00, 51.2MB/s]\n",
      "100%|██████████| 29.5k/29.5k [00:00<00:00, 1.15MB/s]\n",
      "100%|██████████| 4.42M/4.42M [00:00<00:00, 20.4MB/s]\n",
      "100%|██████████| 5.15k/5.15k [00:00<00:00, 13.2MB/s]\n"
     ]
    }
   ],
   "execution_count": 4
  },
  {
   "metadata": {
    "ExecuteTime": {
     "end_time": "2025-07-04T18:12:59.371399Z",
     "start_time": "2025-07-04T18:12:59.368092Z"
    }
   },
   "cell_type": "code",
   "source": [
    "batch_size = 64\n",
    "\n",
    "train_dataloader = DataLoader(train_data, batch_size=batch_size)\n",
    "test_dataloader = DataLoader(test_data, batch_size=batch_size)"
   ],
   "id": "88bb69b230628c8c",
   "outputs": [],
   "execution_count": 7
  },
  {
   "metadata": {
    "ExecuteTime": {
     "end_time": "2025-07-04T18:15:03.782490Z",
     "start_time": "2025-07-04T18:15:03.660561Z"
    }
   },
   "cell_type": "code",
   "source": "device = torch.accelerator.current_accelerator().type if torch.accelerator.is_available() else \"cpu\"",
   "id": "c2b4ff19bfee92e2",
   "outputs": [],
   "execution_count": 11
  },
  {
   "metadata": {
    "ExecuteTime": {
     "end_time": "2025-07-04T18:25:00.136765Z",
     "start_time": "2025-07-04T18:25:00.112440Z"
    }
   },
   "cell_type": "code",
   "source": [
    "class Model(nn.Module):\n",
    "    def __init__(self):\n",
    "        super().__init__()\n",
    "        self.flatten = nn.Flatten()\n",
    "        self.linear_relu_stack = nn.Sequential(\n",
    "            nn.Linear(28*28, 512),\n",
    "            nn.ReLU(),\n",
    "            nn.Linear(512, 512),\n",
    "            nn.ReLU(),\n",
    "            nn.Linear(512, 10)\n",
    "        )\n",
    "\n",
    "    def forward(self, x):\n",
    "        x = self.flatten(x)\n",
    "        logits = self.linear_relu_stack(x)\n",
    "        return logits\n",
    "\n",
    "nn_model = Model().to(device)"
   ],
   "id": "a2a9af6c4bc856c7",
   "outputs": [],
   "execution_count": 18
  },
  {
   "metadata": {
    "ExecuteTime": {
     "end_time": "2025-07-04T18:25:00.827211Z",
     "start_time": "2025-07-04T18:25:00.823824Z"
    }
   },
   "cell_type": "code",
   "source": [
    "loss_func = nn.CrossEntropyLoss()\n",
    "optim = torch.optim.SGD(nn_model.parameters(), lr=1e-3)"
   ],
   "id": "948f6ff0d646dee",
   "outputs": [],
   "execution_count": 19
  },
  {
   "metadata": {
    "ExecuteTime": {
     "end_time": "2025-07-04T18:25:00.999284Z",
     "start_time": "2025-07-04T18:25:00.995248Z"
    }
   },
   "cell_type": "code",
   "source": [
    "def train(dataloader, model, loss_fn, optimizer):\n",
    "    size = len(dataloader.dataset)\n",
    "    model.train()\n",
    "    for batch, (x, y) in enumerate(dataloader):\n",
    "        x, y = x.to(device), y.to(device)\n",
    "\n",
    "        pred = model(x)\n",
    "        loss = loss_fn(pred, y)\n",
    "\n",
    "        loss.backward()\n",
    "        optimizer.step()\n",
    "        optimizer.zero_grad()\n",
    "\n",
    "        if batch % 100 == 0:\n",
    "            loss, current = loss.item(), (batch + 1) * len(x)\n",
    "            print(f\"Loss: {loss:>7f} [{current:>5d}/{size:>5d}]\")"
   ],
   "id": "68c86261abcbf81b",
   "outputs": [],
   "execution_count": 20
  },
  {
   "metadata": {
    "ExecuteTime": {
     "end_time": "2025-07-04T18:25:01.408989Z",
     "start_time": "2025-07-04T18:25:01.404410Z"
    }
   },
   "cell_type": "code",
   "source": [
    "def test(dataloader, model, loss_fn):\n",
    "    size = len(dataloader.dataset)\n",
    "    num_batches = len(dataloader)\n",
    "    model.eval()\n",
    "    test_loss, correct = 0, 0\n",
    "    with torch.no_grad():\n",
    "        for x, y in dataloader:\n",
    "            x, y = x.to(device), y.to(device)\n",
    "            pred = model(x)\n",
    "            test_loss += loss_fn(pred, y).item()\n",
    "            correct += (pred.argmax(1) == y).type(torch.float).sum().item()\n",
    "    test_loss /= num_batches\n",
    "    correct /= size\n",
    "    print(f\"Test loss: {test_loss:8f}, Accuracy: {100*correct}\")"
   ],
   "id": "2ccdd1a6b807d326",
   "outputs": [],
   "execution_count": 21
  },
  {
   "metadata": {
    "ExecuteTime": {
     "end_time": "2025-07-04T18:25:39.070018Z",
     "start_time": "2025-07-04T18:25:01.869796Z"
    }
   },
   "cell_type": "code",
   "source": [
    "epochs = 5\n",
    "for e in tqdm(range(epochs)):\n",
    "    train(train_dataloader, nn_model, loss_func, optim)\n",
    "    test(test_dataloader, nn_model, loss_func)"
   ],
   "id": "7daaff0c593d7cc0",
   "outputs": [
    {
     "name": "stderr",
     "output_type": "stream",
     "text": [
      "  0%|          | 0/5 [00:00<?, ?it/s]"
     ]
    },
    {
     "name": "stdout",
     "output_type": "stream",
     "text": [
      "Loss: 2.297118 [   64/60000]\n",
      "Loss: 2.280867 [ 6464/60000]\n",
      "Loss: 2.260597 [12864/60000]\n",
      "Loss: 2.259923 [19264/60000]\n",
      "Loss: 2.245459 [25664/60000]\n",
      "Loss: 2.209290 [32064/60000]\n",
      "Loss: 2.223743 [38464/60000]\n",
      "Loss: 2.187803 [44864/60000]\n",
      "Loss: 2.180397 [51264/60000]\n",
      "Loss: 2.156875 [57664/60000]\n"
     ]
    },
    {
     "name": "stderr",
     "output_type": "stream",
     "text": [
      " 20%|██        | 1/5 [00:07<00:28,  7.13s/it]"
     ]
    },
    {
     "name": "stdout",
     "output_type": "stream",
     "text": [
      "Test loss: 2.145408, Accuracy: 52.94\n",
      "Loss: 2.154281 [   64/60000]\n",
      "Loss: 2.144095 [ 6464/60000]\n",
      "Loss: 2.086032 [12864/60000]\n",
      "Loss: 2.104253 [19264/60000]\n",
      "Loss: 2.056720 [25664/60000]\n",
      "Loss: 1.994230 [32064/60000]\n",
      "Loss: 2.025739 [38464/60000]\n",
      "Loss: 1.945564 [44864/60000]\n",
      "Loss: 1.946224 [51264/60000]\n",
      "Loss: 1.879334 [57664/60000]\n"
     ]
    },
    {
     "name": "stderr",
     "output_type": "stream",
     "text": [
      " 40%|████      | 2/5 [00:14<00:21,  7.29s/it]"
     ]
    },
    {
     "name": "stdout",
     "output_type": "stream",
     "text": [
      "Test loss: 1.872980, Accuracy: 56.57\n",
      "Loss: 1.907424 [   64/60000]\n",
      "Loss: 1.877891 [ 6464/60000]\n",
      "Loss: 1.757687 [12864/60000]\n",
      "Loss: 1.798101 [19264/60000]\n",
      "Loss: 1.692203 [25664/60000]\n",
      "Loss: 1.647751 [32064/60000]\n",
      "Loss: 1.670330 [38464/60000]\n",
      "Loss: 1.572829 [44864/60000]\n",
      "Loss: 1.597844 [51264/60000]\n",
      "Loss: 1.492401 [57664/60000]\n"
     ]
    },
    {
     "name": "stderr",
     "output_type": "stream",
     "text": [
      " 60%|██████    | 3/5 [00:21<00:14,  7.37s/it]"
     ]
    },
    {
     "name": "stdout",
     "output_type": "stream",
     "text": [
      "Test loss: 1.507570, Accuracy: 59.84\n",
      "Loss: 1.578828 [   64/60000]\n",
      "Loss: 1.543256 [ 6464/60000]\n",
      "Loss: 1.392362 [12864/60000]\n",
      "Loss: 1.462257 [19264/60000]\n",
      "Loss: 1.346919 [25664/60000]\n",
      "Loss: 1.348566 [32064/60000]\n",
      "Loss: 1.363443 [38464/60000]\n",
      "Loss: 1.287381 [44864/60000]\n",
      "Loss: 1.328349 [51264/60000]\n",
      "Loss: 1.225187 [57664/60000]\n"
     ]
    },
    {
     "name": "stderr",
     "output_type": "stream",
     "text": [
      " 80%|████████  | 4/5 [00:29<00:07,  7.45s/it]"
     ]
    },
    {
     "name": "stdout",
     "output_type": "stream",
     "text": [
      "Test loss: 1.250329, Accuracy: 62.82\n",
      "Loss: 1.331267 [   64/60000]\n",
      "Loss: 1.310716 [ 6464/60000]\n",
      "Loss: 1.146997 [12864/60000]\n",
      "Loss: 1.248446 [19264/60000]\n",
      "Loss: 1.126672 [25664/60000]\n",
      "Loss: 1.156549 [32064/60000]\n",
      "Loss: 1.179003 [38464/60000]\n",
      "Loss: 1.111658 [44864/60000]\n",
      "Loss: 1.160649 [51264/60000]\n",
      "Loss: 1.070227 [57664/60000]\n"
     ]
    },
    {
     "name": "stderr",
     "output_type": "stream",
     "text": [
      "100%|██████████| 5/5 [00:37<00:00,  7.44s/it]"
     ]
    },
    {
     "name": "stdout",
     "output_type": "stream",
     "text": [
      "Test loss: 1.090785, Accuracy: 64.31\n"
     ]
    },
    {
     "name": "stderr",
     "output_type": "stream",
     "text": [
      "\n"
     ]
    }
   ],
   "execution_count": 22
  },
  {
   "metadata": {},
   "cell_type": "code",
   "outputs": [],
   "execution_count": null,
   "source": "",
   "id": "7a588c243d459984"
  }
 ],
 "metadata": {
  "kernelspec": {
   "display_name": "Python 3",
   "language": "python",
   "name": "python3"
  },
  "language_info": {
   "codemirror_mode": {
    "name": "ipython",
    "version": 2
   },
   "file_extension": ".py",
   "mimetype": "text/x-python",
   "name": "python",
   "nbconvert_exporter": "python",
   "pygments_lexer": "ipython2",
   "version": "2.7.6"
  }
 },
 "nbformat": 4,
 "nbformat_minor": 5
}
